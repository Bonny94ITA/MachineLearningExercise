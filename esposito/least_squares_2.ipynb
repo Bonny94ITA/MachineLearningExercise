{
 "cells": [
  {
   "cell_type": "markdown",
   "metadata": {},
   "source": [
    "# Experimenting with least squares and its variants"
   ]
  },
  {
   "cell_type": "code",
   "execution_count": 1,
   "metadata": {},
   "outputs": [],
   "source": [
    "%matplotlib inline\n",
    "from matplotlib import pyplot as plt\n",
    "from sklearn import datasets\n",
    "from scipy.optimize import fmin_bfgs\n",
    "import numpy as np\n",
    "from numpy.linalg import norm\n",
    "from numpy.linalg import inv\n",
    "from sklearn.linear_model import LinearRegression"
   ]
  },
  {
   "cell_type": "markdown",
   "metadata": {},
   "source": [
    "## Data preparation"
   ]
  },
  {
   "cell_type": "code",
   "execution_count": 2,
   "metadata": {},
   "outputs": [],
   "source": [
    "boston = datasets.load_boston()\n",
    "data = np.array(boston.data)"
   ]
  },
  {
   "cell_type": "markdown",
   "metadata": {},
   "source": [
    "The boston dataset is one of the standard regression problems used to experiment with learning algorithms. Below you can find the dataset description"
   ]
  },
  {
   "cell_type": "code",
   "execution_count": 3,
   "metadata": {},
   "outputs": [
    {
     "name": "stdout",
     "output_type": "stream",
     "text": [
      ".. _boston_dataset:\n",
      "\n",
      "Boston house prices dataset\n",
      "---------------------------\n",
      "\n",
      "**Data Set Characteristics:**  \n",
      "\n",
      "    :Number of Instances: 506 \n",
      "\n",
      "    :Number of Attributes: 13 numeric/categorical predictive. Median Value (attribute 14) is usually the target.\n",
      "\n",
      "    :Attribute Information (in order):\n",
      "        - CRIM     per capita crime rate by town\n",
      "        - ZN       proportion of residential land zoned for lots over 25,000 sq.ft.\n",
      "        - INDUS    proportion of non-retail business acres per town\n",
      "        - CHAS     Charles River dummy variable (= 1 if tract bounds river; 0 otherwise)\n",
      "        - NOX      nitric oxides concentration (parts per 10 million)\n",
      "        - RM       average number of rooms per dwelling\n",
      "        - AGE      proportion of owner-occupied units built prior to 1940\n",
      "        - DIS      weighted distances to five Boston employment centres\n",
      "        - RAD      index of accessibility to radial highways\n",
      "        - TAX      full-value property-tax rate per $10,000\n",
      "        - PTRATIO  pupil-teacher ratio by town\n",
      "        - B        1000(Bk - 0.63)^2 where Bk is the proportion of blacks by town\n",
      "        - LSTAT    % lower status of the population\n",
      "        - MEDV     Median value of owner-occupied homes in $1000's\n",
      "\n",
      "    :Missing Attribute Values: None\n",
      "\n",
      "    :Creator: Harrison, D. and Rubinfeld, D.L.\n",
      "\n",
      "This is a copy of UCI ML housing dataset.\n",
      "https://archive.ics.uci.edu/ml/machine-learning-databases/housing/\n",
      "\n",
      "\n",
      "This dataset was taken from the StatLib library which is maintained at Carnegie Mellon University.\n",
      "\n",
      "The Boston house-price data of Harrison, D. and Rubinfeld, D.L. 'Hedonic\n",
      "prices and the demand for clean air', J. Environ. Economics & Management,\n",
      "vol.5, 81-102, 1978.   Used in Belsley, Kuh & Welsch, 'Regression diagnostics\n",
      "...', Wiley, 1980.   N.B. Various transformations are used in the table on\n",
      "pages 244-261 of the latter.\n",
      "\n",
      "The Boston house-price data has been used in many machine learning papers that address regression\n",
      "problems.   \n",
      "     \n",
      ".. topic:: References\n",
      "\n",
      "   - Belsley, Kuh & Welsch, 'Regression diagnostics: Identifying Influential Data and Sources of Collinearity', Wiley, 1980. 244-261.\n",
      "   - Quinlan,R. (1993). Combining Instance-Based and Model-Based Learning. In Proceedings on the Tenth International Conference of Machine Learning, 236-243, University of Massachusetts, Amherst. Morgan Kaufmann.\n",
      "\n"
     ]
    }
   ],
   "source": [
    "print(boston.DESCR)"
   ]
  },
  {
   "cell_type": "markdown",
   "metadata": {},
   "source": [
    "First step to apply the formulae we learnt during the lectures is to rewrite the dataset in homogeneous coordinates (i.e., we append a column of 1 to the matrix containing the examples):"
   ]
  },
  {
   "cell_type": "code",
   "execution_count": 4,
   "metadata": {},
   "outputs": [],
   "source": [
    "boston = datasets.load_boston()\n",
    "data = np.array(boston.data)\n",
    "t = np.ones(len(data)).reshape(len(data),1) # inseriamo una colonna di 1\n",
    "data = np.append(data, t, 1)\n",
    "target = np.array(boston.target)"
   ]
  },
  {
   "cell_type": "markdown",
   "metadata": {},
   "source": [
    "We now divide the data into a training set $X$ and a test set $X_\\textrm{test}$."
   ]
  },
  {
   "cell_type": "code",
   "execution_count": 5,
   "metadata": {},
   "outputs": [],
   "source": [
    "X, y = data[0:400,:], target[0:400]\n",
    "X_test, y_test = data[400:,:], target[400:]"
   ]
  },
  {
   "cell_type": "markdown",
   "metadata": {},
   "source": [
    "# Exercise"
   ]
  },
  {
   "cell_type": "markdown",
   "metadata": {},
   "source": [
    "1. Calculate the least square solution (to the regression problem outlined above) and evaluate its performances on the training set and on the test set.\n",
    "1. Calculate the ridge regression solution (set lambda to 0.01) and evaluate its performances on the training set and on test set.\n",
    "1. Calculate the lasso regression solution and evaluate its performances on the training set and on the test set."
   ]
  },
  {
   "cell_type": "markdown",
   "metadata": {},
   "source": [
    "## Notes"
   ]
  },
  {
   "cell_type": "markdown",
   "metadata": {},
   "source": [
    "- Here it follows a list of functions you may want to use (the required packages are already imported at the beginning of this notebook) along with a very brief explanation of their purpose (`help(nomefun)` will provide you more information about function `nomefun`):\n",
    "    - `transpose`: matrix transposition (e.g., `transpose(X)`)\n",
    "    - `dot`: matrix multiplication (e.g., `X.dot(X2)`) \n",
    "    - `inv`: matrix inversion (e.g., `inv(X)`)\n",
    "- to solve the lasso problem you will need to perform a numerical minimization of the associated loss function (as you know, a closed form solution does not exist). There are many numerical optimization algorithms available in the scipy package. My suggestion is to use `fmin_bfgs`. Here it follows an example of how to use it:\n",
    "    ```python\n",
    "        def f(w):\n",
    "            return w[0]**2 + w[1]**2 + w[0] + w[1]\n",
    "        \n",
    "        w = fmin_bfgs(f, [0,0])\n",
    "    ```\n",
    "    note that the function may (and should) reference your data variables (i.e., $X$ and $y$).\n",
    "- to evaluate the performances of your solutions use the $S$ statistic:\n",
    "    $$\n",
    "        S =  \\sqrt{ \\frac{1}{n} \\sum_{i=1}^n (y_i' - y_i)^2 }\n",
    "    $$\n",
    "    where $y'_i$ is your model prediction for the i-th example, and $n$ is the number of examples."
   ]
  },
  {
   "cell_type": "code",
   "execution_count": 6,
   "metadata": {},
   "outputs": [],
   "source": [
    "def least_squares(X,y):\n",
    "    \"\"\"\n",
    "    X: matrice con le colonne che corrispondono alle feature (e un esempio per riga)\n",
    "    y: vettore dei target value\n",
    "    return: vettore di grandezza num-feature +1 (rappresenta i coefficienti dell'iperpiano)\n",
    "    \"\"\"\n",
    "    XTX_inv = inv(np.dot(X.T,X)) # (X^TX)^-1\n",
    "    XTX_inv_dot_XT = np.dot(XTX_inv, X.T) # (X^TX)^-1 * X^T\n",
    "    return np.dot(XTX_inv_dot_XT, y) # w = (X^TX)^-1 * X^T * y"
   ]
  },
  {
   "cell_type": "code",
   "execution_count": 7,
   "metadata": {},
   "outputs": [],
   "source": [
    "def s_statistic(actual, predicted):\n",
    "    \"\"\"\n",
    "    actual: valori reali\n",
    "    predicted: valori predetti\n",
    "    return: risultato della S statistic\n",
    "    \"\"\"\n",
    "    return np.sqrt(((predicted - actual) ** 2).mean())"
   ]
  },
  {
   "cell_type": "markdown",
   "metadata": {},
   "source": [
    "### Esempio"
   ]
  },
  {
   "cell_type": "code",
   "execution_count": 8,
   "metadata": {},
   "outputs": [],
   "source": [
    "def add_colum_of_one(x):\n",
    "    t = np.ones((len(x), 1)) # matrice len(x) * 1\n",
    "    return np.hstack((x, t)) # concatenazione su axis=1 (colonne)"
   ]
  },
  {
   "cell_type": "code",
   "execution_count": 9,
   "metadata": {},
   "outputs": [
    {
     "data": {
      "image/png": "[encoded data removed]",
      "text/plain": [
       "<Figure size 432x288 with 1 Axes>"
      ]
     },
     "metadata": {
      "needs_background": "light"
     },
     "output_type": "display_data"
    }
   ],
   "source": [
    "x_toy = np.array([[0], [1], [2], [3], [4], [5], [6], [7], [8], [9]]) \n",
    "x_one = add_colum_of_one(x_toy)\n",
    "y_toy = np.array([1, 3, 2, 5, 7, 8, 8, 9, 10, 12]) \n",
    "\n",
    "w = least_squares(x_one, y_toy) # len(w), size w = numero di coefficienti (num feature + 1)\n",
    "y_pred = w[0] * x_toy + w[1]\n",
    "\n",
    "plt.scatter(x_toy, y_toy, c='r')\n",
    "plt.plot(x_toy, y_pred)\n",
    "plt.show()"
   ]
  },
  {
   "cell_type": "code",
   "execution_count": 10,
   "metadata": {},
   "outputs": [
    {
     "name": "stdout",
     "output_type": "stream",
     "text": [
      "S statistic:\t 20.326435392305648\n"
     ]
    }
   ],
   "source": [
    "print(\"S statistic:\\t\", s_statistic(y, y_pred))"
   ]
  },
  {
   "cell_type": "markdown",
   "metadata": {},
   "source": [
    "### Least squares"
   ]
  },
  {
   "cell_type": "code",
   "execution_count": 11,
   "metadata": {},
   "outputs": [],
   "source": [
    "# Calcolo dei pesi w\n",
    "w = least_squares(X, y)\n",
    "\n",
    "# Predizione di training e test set\n",
    "y_train_pred = np.dot(X, w)\n",
    "y_test_pred = np.dot(X_test, w)"
   ]
  },
  {
   "cell_type": "code",
   "execution_count": 12,
   "metadata": {},
   "outputs": [],
   "source": [
    "# Creazione linear regressor (sklearn)\n",
    "lr = LinearRegression().fit(X,y)\n",
    "\n",
    "# Predizione su training e test set del linear regressor\n",
    "y_train_lr = lr.predict(X)\n",
    "y_test_lr = lr.predict(X_test)"
   ]
  },
  {
   "cell_type": "markdown",
   "metadata": {},
   "source": [
    "##### Confronto LineaRegression e LeastSquares implementato"
   ]
  },
  {
   "cell_type": "code",
   "execution_count": 13,
   "metadata": {
    "scrolled": true
   },
   "outputs": [
    {
     "name": "stdout",
     "output_type": "stream",
     "text": [
      "Least squares\n",
      "\n",
      "Set \t\t S statistic\n",
      "------------------------------\n",
      "Training \t 4.722840838326382\n",
      "\n",
      "Test \t\t 6.1557922804127925\n",
      "\n",
      "______________________________________________________________________________________________________________\n",
      "\n",
      "Linear Regression\n",
      "\n",
      "Set \t\t S statistic\n",
      "------------------------------\n",
      "Training \t 4.722840838326382\n",
      "\n",
      "Test \t\t 6.155792280413755\n",
      "\n"
     ]
    }
   ],
   "source": [
    "print(\"Least squares\\n\")\n",
    "print(\"Set \\t\\t S statistic\")\n",
    "print(\"-\" * 30)\n",
    "print(\"Training \\t {}\\n\".format(s_statistic(y, y_train_pred)))\n",
    "print(\"Test \\t\\t {}\\n\".format(s_statistic(y_test, y_test_pred)))\n",
    "\n",
    "print(\"_\" * 110)\n",
    "\n",
    "print(\"\\nLinear Regression\\n\")\n",
    "print(\"Set \\t\\t S statistic\")\n",
    "print(\"-\" * 30)\n",
    "print(\"Training \\t {}\\n\".format(s_statistic(y, y_train_lr)))\n",
    "print(\"Test \\t\\t {}\\n\".format(s_statistic(y_test, y_test_lr)))"
   ]
  },
  {
   "cell_type": "markdown",
   "metadata": {},
   "source": [
    "### Ridge regression"
   ]
  },
  {
   "cell_type": "code",
   "execution_count": 14,
   "metadata": {},
   "outputs": [],
   "source": [
    "def ridge_regression(X, y, l=0.01):\n",
    "    \"\"\"\n",
    "    X: matrice con le colonne che corrispondono alle feature (e un esempio per riga)\n",
    "    y: vettore dei target value\n",
    "    return: vettore di grandezza num-feature +1 (rappresenta i coefficienti dell'iperpiano)\n",
    "    \"\"\"\n",
    "    XTX = np.dot(X.T, X) # X^TX\n",
    "    lambdaI = np.eye(XTX.shape[0]) * l # lambdaI\n",
    "    XTX_lambdaI_inv = inv(XTX + lambdaI) # (X^TX + lambdaI)^-1\n",
    "    return XTX_lambdaI_inv.dot(X.T).dot(y) # (X^TX + lambdaI)^-1 * X^T * y"
   ]
  },
  {
   "cell_type": "code",
   "execution_count": 15,
   "metadata": {},
   "outputs": [],
   "source": [
    "w = ridge_regression(X, y) # len(w) = 14 (num feature + 1)\n",
    "\n",
    "y_train_pred = np.dot(X, w)\n",
    "y_test_pred = np.dot(X_test, w)"
   ]
  },
  {
   "cell_type": "code",
   "execution_count": 16,
   "metadata": {},
   "outputs": [
    {
     "name": "stdout",
     "output_type": "stream",
     "text": [
      "\n",
      "Ridge Regression\n",
      "\n",
      "Set \t\t S statistic\n",
      "------------------------------\n",
      "Training \t 4.722895265098321\n",
      "\n",
      "Test \t\t 6.141787930902393\n",
      "\n"
     ]
    }
   ],
   "source": [
    "print(\"\\nRidge Regression\\n\")\n",
    "print(\"Set \\t\\t S statistic\")\n",
    "print(\"-\" * 30)\n",
    "print(\"Training \\t {}\\n\".format(s_statistic(y, y_train_pred)))\n",
    "print(\"Test \\t\\t {}\\n\".format(s_statistic(y_test, y_test_pred)))"
   ]
  },
  {
   "cell_type": "markdown",
   "metadata": {},
   "source": [
    "### Lasso regression"
   ]
  },
  {
   "cell_type": "code",
   "execution_count": 17,
   "metadata": {},
   "outputs": [],
   "source": [
    "def lasso_regression(w, X, y, l):\n",
    "    \"\"\"\n",
    "    w: pesi che devono essere minimizzati. dimensione(num_features+1)\n",
    "    X: dimensione(num_esempi, num_features+1)\n",
    "    y: dimensione(num_esempi)\n",
    "    l: valore lambda (0.01)\n",
    "    \"\"\"\n",
    "    yXw = (y - X.dot(w)) # (y - Xw)\n",
    "    return yXw.T.dot(yXw) + l * norm(w,1) # (y - Xw)^T (y - Xw) + lambda||w||"
   ]
  },
  {
   "cell_type": "code",
   "execution_count": 18,
   "metadata": {},
   "outputs": [
    {
     "name": "stdout",
     "output_type": "stream",
     "text": [
      "Warning: Desired error not necessarily achieved due to precision loss.\n",
      "         Current function value: 8922.627021\n",
      "         Iterations: 19\n",
      "         Function evaluations: 817\n",
      "         Gradient evaluations: 51\n"
     ]
    }
   ],
   "source": [
    "init_guess = np.zeros((X.shape[1])) # 14 feature\n",
    "\n",
    "# https://docs.scipy.org/doc/scipy/reference/generated/scipy.optimize.fmin_bfgs.html\n",
    "w = fmin_bfgs(lasso_regression, init_guess, args=(X, y, 0.01))\n",
    "\n",
    "y_train_pred = np.dot(X, w)\n",
    "y_test_pred = np.dot(X_test, w)"
   ]
  },
  {
   "cell_type": "code",
   "execution_count": 19,
   "metadata": {
    "scrolled": true
   },
   "outputs": [
    {
     "name": "stdout",
     "output_type": "stream",
     "text": [
      "\n",
      "Lasso Regression\n",
      "\n",
      "Set \t\t S statistic\n",
      "------------------------------\n",
      "Training \t 4.722840863745931\n",
      "\n",
      "Test \t\t 6.1555556765721455\n",
      "\n"
     ]
    }
   ],
   "source": [
    "print(\"\\nLasso Regression\\n\")\n",
    "print(\"Set \\t\\t S statistic\")\n",
    "print(\"-\" * 30)\n",
    "print(\"Training \\t {}\\n\".format(s_statistic(y, y_train_pred)))\n",
    "print(\"Test \\t\\t {}\\n\".format(s_statistic(y_test, y_test_pred)))"
   ]
  }
 ],
 "metadata": {
  "anaconda-cloud": {},
  "kernelspec": {
   "display_name": "Python 3",
   "language": "python",
   "name": "python3"
  },
  "language_info": {
   "codemirror_mode": {
    "name": "ipython",
    "version": 3
   },
   "file_extension": ".py",
   "mimetype": "text/x-python",
   "name": "python",
   "nbconvert_exporter": "python",
   "pygments_lexer": "ipython3",
   "version": "3.6.9"
  }
 },
 "nbformat": 4,
 "nbformat_minor": 1
}
