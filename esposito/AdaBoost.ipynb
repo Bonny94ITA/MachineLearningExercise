{
 "cells": [
  {
   "cell_type": "code",
   "execution_count": 1,
   "metadata": {},
   "outputs": [],
   "source": [
    "import numpy as np\n",
    "import math\n",
    "from copy import deepcopy\n",
    "import sklearn.datasets\n",
    "from sklearn.svm import SVC\n",
    "from matplotlib import pyplot as plt\n",
    "from sklearn.metrics import accuracy_score"
   ]
  },
  {
   "cell_type": "code",
   "execution_count": 2,
   "metadata": {},
   "outputs": [
    {
     "name": "stdout",
     "output_type": "stream",
     "text": [
      "[ 0.67873999  0.80032636 -1.27873534  1.99093232 -0.52142512  0.13991086\n",
      "  1.35578208  0.10682781  0.71529817 -0.09758231]\n",
      "1.0\n"
     ]
    }
   ],
   "source": [
    "X,y = sklearn.datasets.make_hastie_10_2()\n",
    "X_train = X[0:8000,:]\n",
    "y_train = y[0:8000]\n",
    "X_test = X[8000:,:]\n",
    "y_test = y[8000:]\n",
    "print(X[0]) # 10 feature\n",
    "print(y[0]) # target label"
   ]
  },
  {
   "cell_type": "markdown",
   "metadata": {},
   "source": [
    "# Exercise 1\n",
    "\n",
    "1. Implement the AdaBoost ensemble algorithm by completing the following code:"
   ]
  },
  {
   "cell_type": "code",
   "execution_count": 3,
   "metadata": {},
   "outputs": [],
   "source": [
    "#SVC with weight correction, as suggested\n",
    "class SVC_:\n",
    "        def __init__(self, kernel=\"rbf\", degree=\"3\"):\n",
    "            self.svc = SVC(kernel=kernel, degree=degree)\n",
    "\n",
    "        def fit(self, X,y,sample_weight=None):\n",
    "            if sample_weight is not None:\n",
    "                sample_weight = sample_weight * len(X)\n",
    "\n",
    "            self.svc.fit(X,y,sample_weight=sample_weight)\n",
    "            return self\n",
    "\n",
    "        def predict(self, X):\n",
    "            return self.svc.predict(X)"
   ]
  },
  {
   "cell_type": "code",
   "execution_count": 4,
   "metadata": {},
   "outputs": [],
   "source": [
    "#utility error function\n",
    "def compute_error(y_true, y_pred):\n",
    "    return 0.5 - np.dot(y_true.T, y_pred) / (y_true.size * 2)"
   ]
  },
  {
   "cell_type": "code",
   "execution_count": 5,
   "metadata": {},
   "outputs": [],
   "source": [
    "class AdaBoost: \n",
    "    def __init__(self, _weakModel, _T, k_step=10):\n",
    "        self.T = _T\n",
    "        self.weakModel = _weakModel\n",
    "        self.alphas = []\n",
    "        self.models = []\n",
    "        self.errors = [] # ensamble error\n",
    "        self.weight_error = []\n",
    "        self.k_step = k_step\n",
    "\n",
    "\n",
    "    def fit(self, X, y):\n",
    "        # Distribuzione uniforme dei pesi associati agli esempi [1/|D|]\n",
    "        w_start = 1 / len(X_train) # peso di un singolo esempio\n",
    "        self.w = np.zeros(len(X_train)) \n",
    "        self.w.fill(w_start) # inseriemo i valori iniziali w_start\n",
    "        \n",
    "        partial_ensamble_pred = np.zeros(y.size)\n",
    "        \n",
    "        for t in range(0, self.T): # Itero T volte\n",
    "\n",
    "            weakModelCopy = deepcopy(self.weakModel) # Mantengo i riferimenti del modello originale\n",
    "            weakModelCopy.fit(X, y, self.w)  # Calcola m_t = A(D, w^t)\n",
    "\n",
    "            # Somma dei pesi delle classificazioni errate (< 0.5 weakLearner)\n",
    "            error = 0\n",
    "            y_predict = weakModelCopy.predict(X)  \n",
    "            for i in range(0, len(X)):\n",
    "                if y_predict[i] != y[i]:\n",
    "                    error += self.w[i]\n",
    "\n",
    "            # Calcolo del peso associato alle ipotesi alpha_t = 1/2 ln ( [1-\\epsilon] / [\\epsilon] )\n",
    "            alpha = 0.5 * math.log((1 - error) / error)\n",
    "\n",
    "            # Aggiornamento dell'intero vettore pesi w in funzione di \\alpha e della predizione (segno concorde o discorde)    \n",
    "            sum = 0\n",
    "            for i in range(0, len(X)):\n",
    "                self.w[i] = self.w[i] * math.exp(-alpha * y[i] * y_predict[i])\n",
    "                sum += self.w[i]\n",
    "\n",
    "            #Normalizzazione dei pesi nell'intervallo [0, 1]\n",
    "            for i in range(0, len(X)):\n",
    "                self.w[i] = self.w[i] / sum\n",
    "            \n",
    "            # Calcolo M(x) = sign ( M_T-1(x) + alpha_t * m_t(x) )\n",
    "            partial_ensamble_pred += np.dot(alpha, y_predict) # alpha_t * m_t(x)\n",
    "            partial_ensemble_error = compute_error(y, np.sign(partial_ensamble_pred))\n",
    "            \n",
    "            self.errors.append(partial_ensemble_error)\n",
    "            self.alphas.append(alpha)\n",
    "            self.models.append(weakModelCopy)\n",
    "            self.weight_error.append(error)\n",
    "            \n",
    "            if t % self.k_step == 0:\n",
    "                print(\"{} \\tWeight error: {} \\t Ensamble error: {}\".format(\n",
    "                          t+1,\n",
    "                          round(error,4),\n",
    "                          round(partial_ensemble_error, 4)\n",
    "                ))\n",
    "            \n",
    "        return self\n",
    "\n",
    "    def predict(self, X):\n",
    "        preds = np.zeros(X.shape[0])\n",
    "\n",
    "        for t in range(0, self.T):\n",
    "            a = self.alphas[t]\n",
    "            m = self.models[t]\n",
    "\n",
    "            # Voto di maggioranza pesata per alpha\n",
    "            preds += np.dot(a,m.predict(X))\n",
    "        return np.sign(preds)"
   ]
  },
  {
   "cell_type": "markdown",
   "metadata": {},
   "source": [
    "In the implementation you are free to assume:\n",
    "- that the problem is a binary classification problem with labels in $\\{-1, +1\\}$.\n",
    "- that the weakModel can fit a weighted sample set by means of the call `weakModel.fit(X,y,sample_weight=w)` where `w` is a vector of length $|y|$."
   ]
  },
  {
   "cell_type": "markdown",
   "metadata": {},
   "source": [
    "2. Test your implementation on the dataset loaded above and using an SVC with a polynomial kernel. "
   ]
  },
  {
   "cell_type": "code",
   "execution_count": 6,
   "metadata": {},
   "outputs": [
    {
     "name": "stdout",
     "output_type": "stream",
     "text": [
      "1 \tWeight error: 0.3519 \t Ensamble error: 0.3519\n",
      "11 \tWeight error: 0.3753 \t Ensamble error: 0.2158\n",
      "21 \tWeight error: 0.4092 \t Ensamble error: 0.1723\n",
      "31 \tWeight error: 0.4449 \t Ensamble error: 0.1686\n",
      "41 \tWeight error: 0.4359 \t Ensamble error: 0.1618\n",
      "51 \tWeight error: 0.4548 \t Ensamble error: 0.156\n",
      "61 \tWeight error: 0.4358 \t Ensamble error: 0.15\n",
      "71 \tWeight error: 0.4537 \t Ensamble error: 0.143\n",
      "81 \tWeight error: 0.4478 \t Ensamble error: 0.1387\n",
      "91 \tWeight error: 0.4411 \t Ensamble error: 0.1305\n"
     ]
    },
    {
     "data": {
      "text/plain": [
       "<__main__.AdaBoost at 0x1a1da2c630>"
      ]
     },
     "execution_count": 6,
     "metadata": {},
     "output_type": "execute_result"
    }
   ],
   "source": [
    "weakModel = SVC_(kernel=\"poly\", degree=3)\n",
    "adaboost = AdaBoost(weakModel, 100) # 100 iterazioni\n",
    "adaboost.fit(X_train, y_train)"
   ]
  },
  {
   "cell_type": "code",
   "execution_count": 7,
   "metadata": {},
   "outputs": [
    {
     "name": "stdout",
     "output_type": "stream",
     "text": [
      "Accuracy on the Train Set: 0.87425\n",
      "Accuracy on the Test Set: 0.85\n"
     ]
    }
   ],
   "source": [
    "y_train_pred = adaboost.predict(X_train)\n",
    "y_test_pred = adaboost.predict(X_test)\n",
    "\n",
    "print(\"Accuracy on the Train Set: %s\" % accuracy_score(y_train, y_train_pred))\n",
    "print(\"Accuracy on the Test Set: %s\" % accuracy_score(y_test, y_test_pred))"
   ]
  },
  {
   "cell_type": "markdown",
   "metadata": {},
   "source": [
    "3. evaluate the AdaBoost performances as usual by calculating the classification error and compare it with the classification error of the weak model.\n"
   ]
  },
  {
   "cell_type": "code",
   "execution_count": 8,
   "metadata": {},
   "outputs": [
    {
     "name": "stdout",
     "output_type": "stream",
     "text": [
      "Training Set\n",
      "\n",
      "Accuracy \t Error\n",
      "0.874250 \t 0.125750\n",
      "\n",
      "------------------------------\n",
      "Test Set\n",
      "\n",
      "Accuracy \t Error\n",
      "0.850000 \t 0.150000\n",
      "\n"
     ]
    }
   ],
   "source": [
    "print(\"Training Set\\n\")\n",
    "print(\"Accuracy \\t Error\")\n",
    "print(\"%5f \\t %5f\\n\" % (accuracy_score(y_train, y_train_pred), compute_error(y_train, y_train_pred)))\n",
    "print(\"-\" * 30)\n",
    "print(\"Test Set\\n\")\n",
    "print(\"Accuracy \\t Error\")\n",
    "print(\"%5f \\t %5f\\n\" % (accuracy_score(y_test, y_test_pred), compute_error(y_test, y_test_pred)))"
   ]
  },
  {
   "cell_type": "code",
   "execution_count": 9,
   "metadata": {},
   "outputs": [
    {
     "data": {
      "image/png": "[encoded data removed]",
      "text/plain": [
       "<Figure size 432x288 with 1 Axes>"
      ]
     },
     "metadata": {
      "needs_background": "light"
     },
     "output_type": "display_data"
    }
   ],
   "source": [
    "xs = np.arange(0, len(adaboost.errors))\n",
    "plt.plot(xs, adaboost.errors)\n",
    "plt.xlabel(\"Iterazione t\")\n",
    "plt.ylabel(\"Ensemble error e\")\n",
    "plt.title(\"Training set ensemble error trend\")\n",
    "plt.show()"
   ]
  },
  {
   "cell_type": "code",
   "execution_count": 10,
   "metadata": {},
   "outputs": [
    {
     "data": {
      "image/png": "[encoded data removed]",
      "text/plain": [
       "<Figure size 432x288 with 1 Axes>"
      ]
     },
     "metadata": {
      "needs_background": "light"
     },
     "output_type": "display_data"
    }
   ],
   "source": [
    "xs = np.arange(0, len(adaboost.weight_error))\n",
    "plt.plot(xs, adaboost.weight_error)\n",
    "plt.xlabel(\"Iterazione t\")\n",
    "plt.ylabel(\"Weight error e\")\n",
    "plt.title(\"Training set weight error trend\")\n",
    "plt.show()"
   ]
  },
  {
   "cell_type": "markdown",
   "metadata": {},
   "source": [
    "**Note 1**:  \n",
    "since the labels are bound to be in ${+1, -1}$, the classification error (i.e., the number of incorrectly classified examples over the total number of examples) can be easily computed as:\n",
    "$$\n",
    "   error(y,y') = \\frac{N - y \\cdot y'}{2N} = \\frac{1}{2} - \\frac{y \\cdot y'}{2N},\n",
    "$$\n",
    "where $N$ is the total number of examples. The formula can be derived noticing that $y \\cdot y'$ calculates the number $N_c$ of examples correctly classified  minus the number $N_{\\bar c}$ of examples incorrectly classified. We have then $y \\cdot y' = N_c - N_{\\bar c}$ and by noticing that $N = N_c + N_{\\bar c}$:\n",
    "$$\n",
    "   N - y \\cdot y' = N_c + N_{\\bar c} - N_c + N_{\\bar c} = 2 N_{\\bar c} \\Rightarrow \\frac{N - y \\cdot y'}{2 N} = \\frac{N_{\\bar c}}{N}\n",
    "$$\n",
    "\n",
    "**Note 2**:\n",
    "do not forget to deepcopy your base model before fitting it to the new data\n",
    "\n",
    "**Note 3**:\n",
    "The SVC model allows specifying weights, but it *does not* work well when weights are normalized (it works well when the weights are larger). The following class takes normalized weights and denormalize them before passing them to the SVC classifier:\n",
    "\n",
    "```python\n",
    "    class SVC_:\n",
    "        def __init__(self, kernel=\"rbf\", degree=\"3\"):\n",
    "            self.svc = SVC(kernel=kernel, degree=degree)\n",
    "\n",
    "        def fit(self, X,y,sample_weight=None):\n",
    "            if sample_weight is not None:\n",
    "                sample_weight = sample_weight * len(X)\n",
    "\n",
    "            self.svc.fit(X,y,sample_weight=sample_weight)\n",
    "            return self\n",
    "\n",
    "        def predict(self, X):\n",
    "            return self.svc.predict(X)\n",
    "```"
   ]
  },
  {
   "cell_type": "markdown",
   "metadata": {},
   "source": [
    "# Exercise 2"
   ]
  },
  {
   "cell_type": "markdown",
   "metadata": {},
   "source": [
    "1. Write a weak learner to be used with the AdaBoost algorithm you just wrote. The weak learner that you will implement is the most inaccurate weak learner possible: it basically works by extracting a linear model at random and trying to use that model to classify the examples. Being extracted at random the models it generates do not guarantee that the weighted error $\\epsilon_t$ is smaller than $0.5$. The algorithm solves this problem by flipping the decisions whenever it finds out that $\\epsilon_t > 0.5$ (i.e., if the weighted error is larger than $0.5$ it reverses the sign of all the weights so that the decision surface stays the same, but the regions where it predicts $+1$ and $-1$ are reversed).\n",
    "\n",
    "    It shall work as follows:\n",
    "\n",
    "    - it creates a random linear model by generating the needed weight vector $\\mathbf{w}$ at random (**note**: these are the weights of the linear model, they are *NOT* related in any way to the weights of the examples); each weight shall be sampled from U(-1,1);\n",
    "    - it evaluates the weighted loss $\\epsilon_t$ on the given dataset and flip the linear model if $\\epsilon_t > 0.5$;\n",
    "    - at prediction time it predicts +1 if $\\mathbf{x} \\cdot \\mathbf{w} > 0$; it predicts -1 otherwise."
   ]
  },
  {
   "cell_type": "code",
   "execution_count": 11,
   "metadata": {},
   "outputs": [],
   "source": [
    "class RandomLinearModel:\n",
    "    # Peso totale degli elementi classificati in maniera errata\n",
    "    def loss(self, y, y_, w):\n",
    "        # True.astype(int) = 1\n",
    "        # False.astype(int) = 0\n",
    "        error = np.dot(w, ((y * y_) < 0).astype(int)) # w_i * [y_i != m_t(xi)] = 1 \n",
    "        return error\n",
    "        \n",
    "    def fit(self, X, y, example_weights):\n",
    "        self.w_ = np.random.uniform(-1, 1, X.shape[1]) # Genero il weight vector con pesi U(-1,1);\n",
    "        err = self.loss(y, self.predict(X), example_weights)\n",
    "        # print(err)\n",
    "        # flip\n",
    "        if err > 0.5:\n",
    "            self.w_ * -1\n",
    "        return self    \n",
    "        \n",
    "    def predict(self, X):\n",
    "        return np.sign(np.dot(X, self.w_))"
   ]
  },
  {
   "cell_type": "markdown",
   "metadata": {},
   "source": [
    "2. Learn an AdaBoost model using the RandomLinearModel weak learner printing every $K$ iterations the weighted error and the current error of the ensemble (you are free to choose $K$ so to make your output just frequent enough to let you know what is happening but without flooding the console with messages). Evaluate the training and test error of the final ensemble model."
   ]
  },
  {
   "cell_type": "code",
   "execution_count": 12,
   "metadata": {},
   "outputs": [
    {
     "name": "stdout",
     "output_type": "stream",
     "text": [
      "1 \tWeight error: 0.4916 \t Ensamble error: 0.4916\n",
      "301 \tWeight error: 0.4999 \t Ensamble error: 0.4399\n",
      "601 \tWeight error: 0.5026 \t Ensamble error: 0.4119\n",
      "901 \tWeight error: 0.5017 \t Ensamble error: 0.3956\n",
      "1201 \tWeight error: 0.501 \t Ensamble error: 0.3788\n",
      "1501 \tWeight error: 0.4931 \t Ensamble error: 0.372\n",
      "1801 \tWeight error: 0.4932 \t Ensamble error: 0.361\n",
      "2101 \tWeight error: 0.5004 \t Ensamble error: 0.353\n",
      "2401 \tWeight error: 0.5019 \t Ensamble error: 0.34\n",
      "2701 \tWeight error: 0.4979 \t Ensamble error: 0.3306\n",
      "3001 \tWeight error: 0.5096 \t Ensamble error: 0.3235\n",
      "3301 \tWeight error: 0.495 \t Ensamble error: 0.3171\n",
      "3601 \tWeight error: 0.5001 \t Ensamble error: 0.3085\n",
      "3901 \tWeight error: 0.5011 \t Ensamble error: 0.3001\n",
      "4201 \tWeight error: 0.5009 \t Ensamble error: 0.291\n",
      "4501 \tWeight error: 0.5024 \t Ensamble error: 0.2845\n",
      "4801 \tWeight error: 0.5032 \t Ensamble error: 0.2734\n"
     ]
    }
   ],
   "source": [
    "rs = RandomLinearModel()\n",
    "a = AdaBoost(rs, 5000, k_step=300).fit(X_train,y_train)"
   ]
  },
  {
   "cell_type": "code",
   "execution_count": 13,
   "metadata": {},
   "outputs": [
    {
     "name": "stdout",
     "output_type": "stream",
     "text": [
      "Training Set\n",
      "\n",
      "Accuracy \t Error\n",
      "0.728875 \t 0.271125\n",
      "\n",
      "------------------------------\n",
      "Test Set\n",
      "\n",
      "Accuracy \t Error\n",
      "0.502500 \t 0.497500\n",
      "\n"
     ]
    },
    {
     "data": {
      "image/png": "[encoded data removed]",
      "text/plain": [
       "<Figure size 432x288 with 1 Axes>"
      ]
     },
     "metadata": {
      "needs_background": "light"
     },
     "output_type": "display_data"
    }
   ],
   "source": [
    "y_train_pred = a.predict(X_train)\n",
    "y_test_pred = a.predict(X_test)\n",
    "\n",
    "print(\"Training Set\\n\")\n",
    "print(\"Accuracy \\t Error\")\n",
    "print(\"%5f \\t %5f\\n\" % (accuracy_score(y_train, y_train_pred), compute_error(y_train, y_train_pred)))\n",
    "print(\"-\" * 30)\n",
    "print(\"Test Set\\n\")\n",
    "print(\"Accuracy \\t Error\")\n",
    "print(\"%5f \\t %5f\\n\" % (accuracy_score(y_test, y_test_pred), compute_error(y_test, y_test_pred)))\n",
    "\n",
    "xs = np.arange(0, len(a.errors))\n",
    "plt.plot(xs, a.errors)\n",
    "plt.xlabel(\"Iterazione t\")\n",
    "plt.ylabel(\"Ensemble error e\")\n",
    "plt.title(\"Training set ensemble error trend\")\n",
    "plt.show()"
   ]
  },
  {
   "cell_type": "markdown",
   "metadata": {},
   "source": [
    "3. Write few paragraphs about what you think about the experiment and about the results you obtained."
   ]
  },
  {
   "cell_type": "markdown",
   "metadata": {},
   "source": [
    "Possiamo notare come, rispetto all'utilizzo del weakLearner SVC, Adaboost con il RandomLinearModel impieghi molte più iterazioni per ottenere una buona accuratezza sul training set. Questo è molto probabilmente dovuto all'utilizzo di modelli lineari inageguati che tendenzialmente commentono un errore che si aggira intorno al 50% degli esempi.\n",
    "\n",
    "In generale Adaboost fa quindi molta fatica ad ottenere una buona accuratezza sul test set (non riesce dunque a generalizzare adeguatamente)"
   ]
  }
 ],
 "metadata": {
  "anaconda-cloud": {},
  "kernelspec": {
   "display_name": "Python 3",
   "language": "python",
   "name": "python3"
  },
  "language_info": {
   "codemirror_mode": {
    "name": "ipython",
    "version": 3
   },
   "file_extension": ".py",
   "mimetype": "text/x-python",
   "name": "python",
   "nbconvert_exporter": "python",
   "pygments_lexer": "ipython3",
   "version": "3.6.9"
  }
 },
 "nbformat": 4,
 "nbformat_minor": 1
}
