{
 "cells": [
  {
   "cell_type": "code",
   "execution_count": 1,
   "metadata": {},
   "outputs": [],
   "source": [
    "import numpy as np\n",
    "import math\n",
    "from copy import deepcopy\n",
    "import sklearn.datasets\n",
    "from sklearn.svm import SVC\n",
    "from matplotlib import pyplot as plt"
   ]
  },
  {
   "cell_type": "code",
   "execution_count": 2,
   "metadata": {},
   "outputs": [
    {
     "data": {
      "text/plain": [
       "array([ 0.33769795,  0.12039163,  0.20036546,  0.13133012, -1.31624663,\n",
       "        0.10710606, -1.51032905,  0.88765716, -1.43433842, -0.12042555])"
      ]
     },
     "execution_count": 2,
     "metadata": {},
     "output_type": "execute_result"
    }
   ],
   "source": [
    "X,y = sklearn.datasets.make_hastie_10_2()\n",
    "X_train = X[0:8000,:]\n",
    "y_train = y[0:8000]\n",
    "X_test = X[8000:,:]\n",
    "y_test = y[8000:]\n",
    "X[0]"
   ]
  },
  {
   "cell_type": "markdown",
   "metadata": {},
   "source": [
    "# Exercise 1\n",
    "\n",
    "1. Implement the AdaBoost ensemble algorithm by completing the following code:"
   ]
  },
  {
   "cell_type": "code",
   "execution_count": 3,
   "metadata": {},
   "outputs": [],
   "source": [
    "#SVC with weight correction, as suggested\n",
    "class SVC_:\n",
    "        def __init__(self, kernel=\"rbf\", degree=\"3\"):\n",
    "            self.svc = SVC(kernel=kernel, degree=degree)\n",
    "\n",
    "        def fit(self, X,y,sample_weight=None):\n",
    "            if sample_weight is not None:\n",
    "                sample_weight = sample_weight * len(X)\n",
    "\n",
    "            self.svc.fit(X,y,sample_weight=sample_weight)\n",
    "            return self\n",
    "\n",
    "        def predict(self, X):\n",
    "            return self.svc.predict(X)"
   ]
  },
  {
   "cell_type": "code",
   "execution_count": 4,
   "metadata": {},
   "outputs": [],
   "source": [
    "#utility error function\n",
    "def calc_error(y_true, y_pred):\n",
    "    return 0.5 - np.dot(y_true.T, y_pred)/(y_true.size * 2)"
   ]
  },
  {
   "cell_type": "code",
   "execution_count": 5,
   "metadata": {},
   "outputs": [],
   "source": [
    "class AdaBoost: \n",
    "    def __init__(self, _weakModel, _T):\n",
    "        self.T = _T\n",
    "        self.weakModel = _weakModel\n",
    "        self.alphas = []\n",
    "        self.models = []\n",
    "        self.errors = []\n",
    "\n",
    "\n",
    "    def fit(self, X, y, printFreq=True):\n",
    "        w_start = 1 / len(X_train)  # Distribuzione uniforme dei pesi associati agli esempi [1/|D|]\n",
    "        self.w = np.zeros(len(X_train))\n",
    "        # Inizializzazione con valori di default\n",
    "        self.w.fill(w_start)\n",
    "        \n",
    "        partial_pred = np.zeros(y.size)\n",
    "        \n",
    "        for t in range(0, self.T): # Itero T volte\n",
    "            #if (printFreq): print(t)\n",
    "\n",
    "            weakModelCopy = deepcopy(self.weakModel) #Mantengo i riferimenti del modello originale\n",
    "            weakModelCopy.fit(X, y, self.w)  # Calcola m_t = A(D, w^t)\n",
    "\n",
    "            # Calcolo exponential loss di m_t = somma dei pesi delle classificazioni errate (< 0.5 per l'apprendibilità debole)\n",
    "            error = 0\n",
    "            y_predict = weakModelCopy.predict(X)  \n",
    "            for i in range(0, len(X)):\n",
    "                if y_predict[i] != y[i]:\n",
    "                    error += self.w[i]\n",
    "            #ymt = y * y_predict\n",
    "            #error = np.dot(self.w, (ymt < 0).astype(int))  \n",
    "\n",
    "            # Calcolo del peso associato alle ipotesi alpha_t = 1/2 ln ( [1-\\epsilon] / [\\epsilon] )\n",
    "            alpha = 0.5 * math.log((1 - error) / error)\n",
    "            \n",
    "            partial_pred += np.dot(alpha, y_predict)\n",
    "\n",
    "            # Aggiornamento dell'intero vettore pesi w in funzione di \\alpha e della predizione (segno concorde o discorde)    \n",
    "            #w = w * np.exp(-alpha * y * y_predict)\n",
    "            #w = w / np.sum(w)\n",
    "            sum = 0\n",
    "            for i in range(0, len(X)):\n",
    "                self.w[i] = self.w[i] * math.exp(-alpha * y[i] * y_predict[i])\n",
    "                sum += self.w[i]\n",
    "\n",
    "            #Normalizzazione dei pesi nell'intervallo [0, 1]\n",
    "            for i in range(0, len(X)):\n",
    "                self.w[i] = self.w[i] / sum\n",
    "                \n",
    "            ensemble_err = calc_error(y, np.sign(partial_pred))\n",
    "            self.errors.append(ensemble_err)\n",
    "            self.alphas.append(alpha)\n",
    "            self.models.append(weakModelCopy)\n",
    "        return self\n",
    "\n",
    "    def predict(self, X, printFreq=True):\n",
    "        preds = np.zeros(X.shape[0])\n",
    "\n",
    "        for t in range(0, self.T):\n",
    "            #if (printFreq): print(t)\n",
    "            a = self.alphas[t]\n",
    "            m = self.models[t]\n",
    "\n",
    "            # Voto di maggioranza pesata per \\alpha (peso delle ipotesi e non delle istanze mal classificate)\n",
    "            preds += np.dot(a,m.predict(X))\n",
    "            preds = np.sign(preds)\n",
    "        return preds"
   ]
  },
  {
   "cell_type": "markdown",
   "metadata": {},
   "source": [
    "In the implementation you are free to assume:\n",
    "- that the problem is a binary classification problem with labels in $\\{-1, +1\\}$.\n",
    "- that the weakModel can fit a weighted sample set by means of the call `weakModel.fit(X,y,sample_weight=w)` where `w` is a vector of length $|y|$."
   ]
  },
  {
   "cell_type": "markdown",
   "metadata": {},
   "source": [
    "2. Test your implementation on the dataset loaded above and using an SVC with a polynomial kernel. "
   ]
  },
  {
   "cell_type": "code",
   "execution_count": 6,
   "metadata": {},
   "outputs": [
    {
     "name": "stdout",
     "output_type": "stream",
     "text": [
      "Accuracy on the Train Set: 0.653125\n",
      "Accuracy on the Test Set: 0.606\n"
     ]
    }
   ],
   "source": [
    "from sklearn.metrics import accuracy_score\n",
    "\n",
    "weakModel = SVC_(kernel=\"poly\", degree=3)\n",
    "adaboost = AdaBoost(weakModel, 5)#100 iterazioni\n",
    "adaboost.fit(X_train, y_train)\n",
    "y_train_pred = adaboost.predict(X_train)\n",
    "y_test_pred = adaboost.predict(X_test)\n",
    "\n",
    "print(\"Accuracy on the Train Set: %s\" % accuracy_score(y_train, y_train_pred))\n",
    "print(\"Accuracy on the Test Set: %s\" % accuracy_score(y_test, y_test_pred))"
   ]
  },
  {
   "cell_type": "markdown",
   "metadata": {},
   "source": [
    "3. evaluate the AdaBoost performances as usual by calculating the classification error and compare it with the classification error of the weak model.\n"
   ]
  },
  {
   "cell_type": "code",
   "execution_count": 7,
   "metadata": {},
   "outputs": [
    {
     "name": "stdout",
     "output_type": "stream",
     "text": [
      "Training Set\n",
      " --------------------\n",
      "Acc: 0.653125 (Error: 0.346875)\n",
      "\n",
      "Test Set\n",
      " --------------------\n",
      "Acc: 0.606000 (Error: 0.394000)\n",
      "\n"
     ]
    },
    {
     "data": {
      "image/png": "[encoded data removed]",
      "text/plain": [
       "<Figure size 432x288 with 1 Axes>"
      ]
     },
     "metadata": {
      "needs_background": "light"
     },
     "output_type": "display_data"
    }
   ],
   "source": [
    "from sklearn.metrics import accuracy_score\n",
    "print(\"Training Set\\n\", \"-\" * 20)\n",
    "print(\"Acc: %5f (Error: %5f)\\n\" % (accuracy_score(y_train, y_train_pred), calc_error(y_train, y_train_pred)))\n",
    "print(\"Test Set\\n\", \"-\" * 20)\n",
    "print(\"Acc: %5f (Error: %5f)\\n\" % (accuracy_score(y_test, y_test_pred), calc_error(y_test, y_test_pred)))\n",
    "\n",
    "xs = np.arange(0, len(adaboost.errors))\n",
    "plt.plot(xs, adaboost.errors)\n",
    "plt.xlabel(\"Iteration\")\n",
    "plt.ylabel(\"Ensemble error\")\n",
    "plt.title(\"Ensemble error trend aumentando il nuemero di modelli\")\n",
    "plt.show()"
   ]
  },
  {
   "cell_type": "markdown",
   "metadata": {},
   "source": [
    "**Note 1**:  \n",
    "since the labels are bound to be in ${+1, -1}$, the classification error (i.e., the number of incorrectly classified examples over the total number of examples) can be easily computed as:\n",
    "$$\n",
    "   error(y,y') = \\frac{N - y \\cdot y'}{2N} = \\frac{1}{2} - \\frac{y \\cdot y'}{2N},\n",
    "$$\n",
    "where $N$ is the total number of examples. The formula can be derived noticing that $y \\cdot y'$ calculates the number $N_c$ of examples correctly classified  minus the number $N_{\\bar c}$ of examples incorrectly classified. We have then $y \\cdot y' = N_c - N_{\\bar c}$ and by noticing that $N = N_c + N_{\\bar c}$:\n",
    "$$\n",
    "   N - y \\cdot y' = N_c + N_{\\bar c} - N_c + N_{\\bar c} = 2 N_{\\bar c} \\Rightarrow \\frac{N - y \\cdot y'}{2 N} = \\frac{N_{\\bar c}}{N}\n",
    "$$\n",
    "\n",
    "**Note 2**:\n",
    "do not forget to deepcopy your base model before fitting it to the new data\n",
    "\n",
    "**Note 3**:\n",
    "The SVC model allows specifying weights, but it *does not* work well when weights are normalized (it works well when the weights are larger). The following class takes normalized weights and denormalize them before passing them to the SVC classifier:\n",
    "\n",
    "```python\n",
    "    class SVC_:\n",
    "        def __init__(self, kernel=\"rbf\", degree=\"3\"):\n",
    "            self.svc = SVC(kernel=kernel, degree=degree)\n",
    "\n",
    "        def fit(self, X,y,sample_weight=None):\n",
    "            if sample_weight is not None:\n",
    "                sample_weight = sample_weight * len(X)\n",
    "\n",
    "            self.svc.fit(X,y,sample_weight=sample_weight)\n",
    "            return self\n",
    "\n",
    "        def predict(self, X):\n",
    "            return self.svc.predict(X)\n",
    "```"
   ]
  },
  {
   "cell_type": "markdown",
   "metadata": {},
   "source": [
    "# Exercise 2"
   ]
  },
  {
   "cell_type": "markdown",
   "metadata": {},
   "source": [
    "1. Write a weak learner to be used with the AdaBoost algorithm you just wrote. The weak learner that you will implement is the most inaccurate weak learner possible: it basically works by extracting a linear model at random and trying to use that model to classify the examples. Being extracted at random the models it generates do not guarantee that the weighted error $\\epsilon_t$ is smaller than $0.5$. The algorithm solves this problem by flipping the decisions whenever it finds out that $\\epsilon_t > 0.5$ (i.e., if the weighted error is larger than $0.5$ it reverses the sign of all the weights so that the decision surface stays the same, but the regions where it predicts $+1$ and $-1$ are reversed).\n",
    "\n",
    "    It shall work as follows:\n",
    "\n",
    "    - it creates a random linear model by generating the needed weight vector $\\mathbf{w}$ at random (**note**: these are the weights of the linear model, they are *NOT* related in any way to the weights of the examples); each weight shall be sampled from U(-1,1);\n",
    "    - it evaluates the weighted loss $\\epsilon_t$ on the given dataset and flip the linear model if $\\epsilon_t > 0.5$;\n",
    "    - at prediction time it predicts +1 if $\\mathbf{x} \\cdot \\mathbf{w} > 0$; it predicts -1 otherwise."
   ]
  },
  {
   "cell_type": "code",
   "execution_count": 8,
   "metadata": {},
   "outputs": [],
   "source": [
    "class RandomLinearModel:\n",
    "    # peso totale degli elementi mal classificati\n",
    "    def loss(self, y, y_, w):\n",
    "        #sum = np.sum(w.dot([1 if y_t != y_p else 0 for y_t, y_p in zip(y, y_)]))\n",
    "        sum = np.dot(w, ((y*y_) < 0).astype(int))\n",
    "        return sum\n",
    "        \n",
    "    def fit(self,X,y,example_weights):\n",
    "        self.w_ = np.random.uniform(-1, 1, X.shape[1]) # Creo un modello lineare a random con peso tra U(-1,1);\n",
    "        err = self.loss(y, self.predict(X), example_weights)\n",
    "        if err > 0.5:           # 0.5 è la condizione necessaria e sufficiente ...\n",
    "            self.w_ * -1\n",
    "        return self    \n",
    "        \n",
    "    def predict(self,X):\n",
    "        return [1 if s > 0 else -1 for s in X.dot(self.w_)]"
   ]
  },
  {
   "cell_type": "markdown",
   "metadata": {},
   "source": [
    "2. Learn an AdaBoost model using the RandomLinearModel weak learner printing every $K$ iterations the weighted error and the current error of the ensemble (you are free to choose $K$ so to make your output just frequent enough to let you know what is happening but without flooding the console with messages). Evaluate the training and test error of the final ensemble model."
   ]
  },
  {
   "cell_type": "code",
   "execution_count": 9,
   "metadata": {},
   "outputs": [
    {
     "name": "stdout",
     "output_type": "stream",
     "text": [
      "Training Set\n",
      " --------------------\n",
      "Acc: 0.501250 (Error: 0.498750)\n",
      "\n",
      "Test Set\n",
      " --------------------\n",
      "Acc: 0.511750 (Error: 0.488250)\n",
      "\n"
     ]
    },
    {
     "data": {
      "image/png": "[encoded data removed]",
      "text/plain": [
       "<Figure size 432x288 with 1 Axes>"
      ]
     },
     "metadata": {
      "needs_background": "light"
     },
     "output_type": "display_data"
    }
   ],
   "source": [
    "rs = RandomLinearModel()\n",
    "a = AdaBoost(rs,250)\n",
    "a.fit(X_train,y_train, False)\n",
    "\n",
    "y_train_pred = a.predict(X_train)\n",
    "y_test_pred = a.predict(X_test)\n",
    "\n",
    "print(\"Training Set\\n\", \"-\" * 20)\n",
    "print(\"Acc: %5f (Error: %5f)\\n\" % (accuracy_score(y_train, y_train_pred), calc_error(y_train, y_train_pred)))\n",
    "print(\"Test Set\\n\", \"-\" * 20)\n",
    "print(\"Acc: %5f (Error: %5f)\\n\" % (accuracy_score(y_test, y_test_pred), calc_error(y_test, y_test_pred)))\n",
    "\n",
    "xs = np.arange(0, len(a.errors))\n",
    "plt.plot(xs, a.errors)\n",
    "plt.xlabel(\"Iteration\")\n",
    "plt.ylabel(\"Ensemble error\")\n",
    "plt.title(\"Ensemble error trend aumentando il nuemero di modelli\")\n",
    "plt.show()"
   ]
  },
  {
   "cell_type": "markdown",
   "metadata": {},
   "source": [
    "3. Write few paragraphs about what you think about the experiment and about the results you obtained."
   ]
  },
  {
   "cell_type": "markdown",
   "metadata": {},
   "source": [
    "Possiamo notare che dopo varie iterazioni di AdaBoost, si ottiene un guadagno piccolo in termini di accuratezza.\n",
    "Questo è dovuto all'uso di un modello inadeguato.\n",
    "Quindi si può dire che un modello randomico non è capace di generalizzare."
   ]
  }
 ],
 "metadata": {
  "anaconda-cloud": {},
  "kernelspec": {
   "display_name": "Python 3",
   "language": "python",
   "name": "python3"
  },
  "language_info": {
   "codemirror_mode": {
    "name": "ipython",
    "version": 3
   },
   "file_extension": ".py",
   "mimetype": "text/x-python",
   "name": "python",
   "nbconvert_exporter": "python",
   "pygments_lexer": "ipython3",
   "version": "3.6.9"
  }
 },
 "nbformat": 4,
 "nbformat_minor": 1
}
