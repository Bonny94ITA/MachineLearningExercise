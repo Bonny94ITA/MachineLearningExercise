{
 "cells": [
  {
   "cell_type": "markdown",
   "metadata": {},
   "source": [
    "# Experiments with the one vs rest  multiclass classification scheme"
   ]
  },
  {
   "cell_type": "code",
   "execution_count": 9,
   "metadata": {},
   "outputs": [],
   "source": [
    "%matplotlib inline\n",
    "\n",
    "from sklearn import datasets\n",
    "from sklearn.multiclass import OneVsRestClassifier as OvR\n",
    "from sklearn.svm import LinearSVC\n",
    "import numpy as np\n",
    "import copy\n",
    "from matplotlib import pyplot as plt\n",
    "\n",
    "import warnings\n",
    "warnings.filterwarnings(\"ignore\")"
   ]
  },
  {
   "cell_type": "code",
   "execution_count": 10,
   "metadata": {},
   "outputs": [],
   "source": [
    "digits = datasets.load_digits()"
   ]
  },
  {
   "cell_type": "markdown",
   "metadata": {},
   "source": [
    "We will use the \"Optical Recognition of Handwritten Digits Data Set\" from UCI (included in scikit learn and already loaded on the previous line). Let us plot the first 10 images in the dataset."
   ]
  },
  {
   "cell_type": "code",
   "execution_count": 11,
   "metadata": {},
   "outputs": [
    {
     "data": {
      "image/png": "[encoded data removed]",
      "text/plain": [
       "<Figure size 432x288 with 10 Axes>"
      ]
     },
     "metadata": {
      "needs_background": "light"
     },
     "output_type": "display_data"
    }
   ],
   "source": [
    "for index, image in enumerate(digits.images[:10]):\n",
    "    plt.subplot(2, 5, index + 1)\n",
    "    plt.imshow(image, cmap=plt.cm.gray_r, interpolation='nearest')"
   ]
  },
  {
   "cell_type": "markdown",
   "metadata": {},
   "source": [
    "Let us create a training set using the first 1000 images and a test set using the rest of the data."
   ]
  },
  {
   "cell_type": "code",
   "execution_count": 12,
   "metadata": {},
   "outputs": [
    {
     "name": "stdout",
     "output_type": "stream",
     "text": [
      "[ 0.  0.  5. 13.  9.  1.  0.  0.  0.  0. 13. 15. 10. 15.  5.  0.  0.  3.\n",
      " 15.  2.  0. 11.  8.  0.  0.  4. 12.  0.  0.  8.  8.  0.  0.  5.  8.  0.\n",
      "  0.  9.  8.  0.  0.  4. 11.  0.  1. 12.  7.  0.  0.  2. 14.  5. 10. 12.\n",
      "  0.  0.  0.  0.  6. 13. 10.  0.  0.  0.]\n",
      "0\n"
     ]
    },
    {
     "data": {
      "text/plain": [
       "<matplotlib.image.AxesImage at 0x1a17d37f28>"
      ]
     },
     "execution_count": 12,
     "metadata": {},
     "output_type": "execute_result"
    },
    {
     "data": {
      "image/png": "[encoded data removed]",
      "text/plain": [
       "<Figure size 432x288 with 1 Axes>"
      ]
     },
     "metadata": {
      "needs_background": "light"
     },
     "output_type": "display_data"
    }
   ],
   "source": [
    "X,y = digits.data[0:1000], digits.target[0:1000]\n",
    "X_test, y_test = digits.data[1000:], digits.target[1000:]\n",
    "print(X[0])\n",
    "print(y[0])\n",
    "plt.imshow(digits.images[0], cmap=plt.cm.gray_r, interpolation='nearest')"
   ]
  },
  {
   "cell_type": "markdown",
   "metadata": {},
   "source": [
    "scikit-learn provide us with an One-Vs-Rest classifier that we already imported with name `OvR`. Let us use that classifier to fit the training set and to make predictions over the test set:"
   ]
  },
  {
   "cell_type": "code",
   "execution_count": 13,
   "metadata": {},
   "outputs": [
    {
     "data": {
      "text/plain": [
       "array([1, 4, 0, 5, 3, 6, 9, 6, 1, 7, 5, 4, 4, 7, 2, 8, 2, 2, 5, 7])"
      ]
     },
     "execution_count": 13,
     "metadata": {},
     "output_type": "execute_result"
    }
   ],
   "source": [
    "binaryLearner = LinearSVC(random_state=0)\n",
    "\n",
    "oneVrestLearningAlgorithm = OvR(binaryLearner)\n",
    "oneVrestLearningAlgorithm.fit(X,y)\n",
    "predicted_labels = oneVrestLearningAlgorithm.predict(X_test)\n",
    "predicted_labels[:20]\n",
    "# n.b.: the above is equivalent to:\n",
    "# predicted_labels = OvR(LinearSVC(random_state=0)).fit(X,y).predict(X_test)"
   ]
  },
  {
   "cell_type": "code",
   "execution_count": 14,
   "metadata": {},
   "outputs": [
    {
     "name": "stdout",
     "output_type": "stream",
     "text": [
      "Accuracy: 0.9071518193224593\n"
     ]
    }
   ],
   "source": [
    "print(\"Accuracy: %s\" % (1.0 - np.count_nonzero(y_test - predicted_labels) / float(len(predicted_labels))))"
   ]
  },
  {
   "cell_type": "markdown",
   "metadata": {},
   "source": [
    "# Exercise"
   ]
  },
  {
   "cell_type": "markdown",
   "metadata": {},
   "source": [
    "Reimplement the OvR classifier by completing the methods in the following class [[1](#hint1)]:"
   ]
  },
  {
   "cell_type": "code",
   "execution_count": 15,
   "metadata": {},
   "outputs": [],
   "source": [
    "class OneVsRestClassifier:\n",
    "    def __init__(self, learner):\n",
    "        self.learner = learner #LinearSVC\n",
    "        self.learner_list = []\n",
    "        \n",
    "    def __create_output_code_matrix(self, number_of_classifiers):\n",
    "        # Creiamo la matrice con tutti -1\n",
    "        output_code_matrix = np.ones(shape=(number_of_classifiers, number_of_classifiers)) * -1\n",
    "        # Riempiamo la diagonale con degli 1\n",
    "        np.fill_diagonal(output_code_matrix, 1)\n",
    "        \n",
    "        return output_code_matrix\n",
    "    \n",
    "    def __create_binary_classifier(self, labels, positive_class):\n",
    "        new_labels = copy.deepcopy(labels)\n",
    "        \n",
    "        # Poniamo a -1 tutte le label diverse dalla classe positiva selezionata correntemente\n",
    "        new_labels[(new_labels > positive_class) | (new_labels < positive_class)] = -1\n",
    "        # Poniamo ad 1 la label della classe positiva corrente\n",
    "        new_labels[new_labels == positive_class] = 1\n",
    "        return new_labels\n",
    "\n",
    "    def fit(self, data, labels):\n",
    "        number_of_classifiers = np.unique(labels).size # = 10\n",
    "        self.output_code_matrix = self.__create_output_code_matrix(number_of_classifiers)\n",
    "        \n",
    "        # Per ogni classificatore da fittare\n",
    "        for i in range(number_of_classifiers):\n",
    "            new_learner = copy.deepcopy(self.learner)\n",
    "            # Normalizzo le label in base al classificatore (i)\n",
    "            new_labels = self.__create_binary_classifier(labels, positive_class=i)\n",
    "            new_learner.fit(data, new_labels)\n",
    "            \n",
    "            self.learner_list.append(new_learner)\n",
    "\n",
    "        return self\n",
    "    \n",
    "    def __distance(self, w):\n",
    "        # Per ogni riga della matrice di output code calcoliamo la distanza dal vettore di prediction w\n",
    "        return [np.sum((1 - c*w) / 2) for c in self.output_code_matrix] # [2.0, 0, 2.0, 2.0, 2.0, ...]\n",
    "        \n",
    "\n",
    "    def predict(self, data):\n",
    "        \n",
    "        # Aggiungo, ad una lista, un array di label per ogni classificatore in base alle\n",
    "        # predizioni che fa su tutto il test-set\n",
    "        predicted_labels_list = np.array([learner.predict(data) for learner in self.learner_list])\n",
    "        \n",
    "        # np.argmin restituisce l'indice del valore minimo in modo da determinare la classe più corretta di ogni esempio\n",
    "        ovr_predictions = [np.argmin(self.__distance(w)) for w in predicted_labels_list.T]\n",
    "        \n",
    "        return ovr_predictions"
   ]
  },
  {
   "cell_type": "markdown",
   "metadata": {},
   "source": [
    "Calculate the accuracy of your solution using the following code [[2](#hint2)]:"
   ]
  },
  {
   "cell_type": "code",
   "execution_count": 16,
   "metadata": {},
   "outputs": [
    {
     "name": "stdout",
     "output_type": "stream",
     "text": [
      "[1, 4, 0, 5, 3, 6, 9, 6, 1, 7, 5, 4, 4, 7, 2, 0, 2, 2, 5, 7]\n",
      "Accuracy: 0.8331242158092849\n"
     ]
    }
   ],
   "source": [
    "ovr = OneVsRestClassifier(LinearSVC(random_state=0))\n",
    "predicted_labels = ovr.fit(X,y).predict(X_test)\n",
    "print(predicted_labels[:20])\n",
    "print(\"Accuracy: %s\" % (1.0-np.count_nonzero(predicted_labels-y_test)/float(len(y_test))))"
   ]
  },
  {
   "cell_type": "markdown",
   "metadata": {},
   "source": [
    "<a name=\"hint1\">Hint 1:</a> Feel free to organize your code as you like (add as many methods as you believe are necessary).\n",
    "\n",
    "<a name=\"hint2\">Hint 2:</a> The scheme provided by scikit-learn is a little different from the one we have seen in the lessons. It is normal if your accuracy is not as good as the one obtained above (expect the accuracy to be between 0.8 and 0.9)."
   ]
  },
  {
   "cell_type": "code",
   "execution_count": null,
   "metadata": {},
   "outputs": [],
   "source": []
  }
 ],
 "metadata": {
  "anaconda-cloud": {},
  "kernelspec": {
   "display_name": "Python 3",
   "language": "python",
   "name": "python3"
  },
  "language_info": {
   "codemirror_mode": {
    "name": "ipython",
    "version": 3
   },
   "file_extension": ".py",
   "mimetype": "text/x-python",
   "name": "python",
   "nbconvert_exporter": "python",
   "pygments_lexer": "ipython3",
   "version": "3.6.9"
  }
 },
 "nbformat": 4,
 "nbformat_minor": 1
}
