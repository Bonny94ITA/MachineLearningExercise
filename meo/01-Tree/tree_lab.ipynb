{
 "cells": [
  {
   "cell_type": "markdown",
   "metadata": {},
   "source": [
    "# Tree models lab"
   ]
  },
  {
   "cell_type": "code",
   "execution_count": 1,
   "metadata": {},
   "outputs": [],
   "source": [
    "from sklearn import tree\n",
    "from sklearn.datasets import load_iris\n",
    "from matplotlib import pyplot as plt\n",
    "import numpy as np\n",
    "import graphviz\n",
    "from sklearn.datasets import load_iris\n",
    "import sys"
   ]
  },
  {
   "cell_type": "code",
   "execution_count": 2,
   "metadata": {},
   "outputs": [],
   "source": [
    "#np.set_printoptions(threshold=sys.maxsize)\n",
    "np.set_printoptions(threshold=20)"
   ]
  },
  {
   "cell_type": "code",
   "execution_count": 3,
   "metadata": {},
   "outputs": [],
   "source": [
    "iris = load_iris()"
   ]
  },
  {
   "cell_type": "markdown",
   "metadata": {},
   "source": [
    "## 1) Get an artificial inflation of some class in the training set by a given factor: 10 (weigh more the classes virginica e versicolor which are more difficult to discriminate). Learn the tree in these conditions"
   ]
  },
  {
   "cell_type": "code",
   "execution_count": 4,
   "metadata": {},
   "outputs": [],
   "source": [
    "INFLATION = 10\n",
    "# label = 0 = setosa\n",
    "# label = 1 = versicolor\n",
    "# label = 2 = virginica"
   ]
  },
  {
   "cell_type": "markdown",
   "metadata": {},
   "source": [
    "###### Inflate del dataset (setosa = 50, versicolor = 500, virginica = 500)"
   ]
  },
  {
   "cell_type": "code",
   "execution_count": 5,
   "metadata": {},
   "outputs": [],
   "source": [
    "#Per ogni esempio setosa vogliamo aggiungere 10 esempi virginica e versicolor\n",
    "def inflate_class(label):\n",
    "    size = len(iris.data) // 3 # flooring division: 150 // 3\n",
    "    indices = np.arange(size*label, size*(label + 1)) # indici del dataset che contengono gli elementi della classe \"label\"\n",
    "    return np.repeat(indices, INFLATION)"
   ]
  },
  {
   "cell_type": "code",
   "execution_count": 6,
   "metadata": {},
   "outputs": [],
   "source": [
    "iris_setosa_indices = np.arange(0, 50) # 50\n",
    "iris_versicolor_indices_inflated = inflate_class(label=1) # 50*10\n",
    "iris_virginica_indices_inflated = inflate_class(label=2) # 50*10\n",
    "\n",
    "iris_indices_inflated = np.concatenate([\n",
    "    iris_setosa_indices,\n",
    "    iris_versicolor_indices_inflated,\n",
    "    iris_virginica_indices_inflated]) # len = 1050"
   ]
  },
  {
   "cell_type": "markdown",
   "metadata": {},
   "source": [
    "###### Randomizziamo gli indici e li suddividiamo tra training set (70%) e test set (circa 30%)"
   ]
  },
  {
   "cell_type": "code",
   "execution_count": 7,
   "metadata": {},
   "outputs": [],
   "source": [
    "np.random.shuffle(iris_indices_inflated)\n",
    "\n",
    "indices_training=iris_indices_inflated[:-300]\n",
    "indices_test=iris_indices_inflated[-300:]\n",
    "\n",
    "iris_X_train = iris.data[indices_training]\n",
    "iris_y_train = iris.target[indices_training]\n",
    "iris_X_test  = iris.data[indices_test]\n",
    "iris_y_test  = iris.target[indices_test]"
   ]
  },
  {
   "cell_type": "code",
   "execution_count": 8,
   "metadata": {},
   "outputs": [
    {
     "name": "stdout",
     "output_type": "stream",
     "text": [
      "[0 1 2 3 4 5 6 7 8 9]\n",
      "[0 1 2 3 4 5 6]\n",
      "[7 8 9]\n"
     ]
    }
   ],
   "source": [
    "x = np.arange(10); print(x); print(x[:-3]); print(x[-3:]) # prova"
   ]
  },
  {
   "cell_type": "markdown",
   "metadata": {},
   "source": [
    "##### Dichiarazione del classificatore"
   ]
  },
  {
   "cell_type": "code",
   "execution_count": 9,
   "metadata": {},
   "outputs": [],
   "source": [
    "clf = tree.DecisionTreeClassifier(\n",
    "    criterion=\"entropy\",\n",
    "    random_state=300,\n",
    "    min_samples_leaf=5,\n",
    "    class_weight={0:1,1:1,2:1}\n",
    ")"
   ]
  },
  {
   "cell_type": "markdown",
   "metadata": {},
   "source": [
    "##### Fit del modello"
   ]
  },
  {
   "cell_type": "code",
   "execution_count": 10,
   "metadata": {},
   "outputs": [],
   "source": [
    "clf = clf.fit(iris_X_train, iris_y_train)"
   ]
  },
  {
   "cell_type": "markdown",
   "metadata": {},
   "source": [
    "### Test del modello"
   ]
  },
  {
   "cell_type": "code",
   "execution_count": 11,
   "metadata": {},
   "outputs": [],
   "source": [
    "predicted_y_test = clf.predict(iris_X_test)"
   ]
  },
  {
   "cell_type": "code",
   "execution_count": 12,
   "metadata": {},
   "outputs": [
    {
     "name": "stdout",
     "output_type": "stream",
     "text": [
      "Nessun errore\n"
     ]
    }
   ],
   "source": [
    "no_error = True\n",
    "for i in range(len(iris_y_test)): \n",
    "    # print(\"Instance # \"+str(indices_test[i])+\": \")\n",
    "    color = \"\\x1b[31m\" if (predicted_y_test[i] != iris_y_test[i]) else \"\\x1b[92m\"\n",
    "    if predicted_y_test[i] != iris_y_test[i]:\n",
    "        no_error = False\n",
    "        print(color + \"Predicted: \"+iris.target_names[predicted_y_test[i]]+\"\\t True: \"+iris.target_names[iris_y_test[i]]+\"\\x1b[0m\\n\")\n",
    "\n",
    "if no_error: print(\"Nessun errore\")"
   ]
  },
  {
   "cell_type": "markdown",
   "metadata": {},
   "source": [
    "##### Accuracy & F1 score"
   ]
  },
  {
   "cell_type": "code",
   "execution_count": 13,
   "metadata": {},
   "outputs": [
    {
     "name": "stdout",
     "output_type": "stream",
     "text": [
      "Accuracy score: 1.0\n",
      "F1 score: 1.0\n"
     ]
    }
   ],
   "source": [
    "# Print some metrics results\n",
    "from sklearn.metrics import accuracy_score\n",
    "from sklearn.metrics import f1_score\n",
    "acc_score = accuracy_score(iris_y_test, predicted_y_test)\n",
    "print(\"Accuracy score: \"+ str(acc_score))\n",
    "f1=f1_score(iris_y_test, predicted_y_test, average='macro')\n",
    "print(\"F1 score: \"+str(f1)) #f-score"
   ]
  },
  {
   "cell_type": "markdown",
   "metadata": {},
   "source": [
    "##### Cross validation"
   ]
  },
  {
   "cell_type": "code",
   "execution_count": 14,
   "metadata": {},
   "outputs": [
    {
     "name": "stdout",
     "output_type": "stream",
     "text": [
      "[1.0, 0.933, 1.0, 1.0, 0.933, 0.867, 0.867, 1.0, 1.0, 1.0]\n"
     ]
    }
   ],
   "source": [
    "from sklearn.model_selection import cross_val_score\n",
    "\n",
    "iterations = 10\n",
    "scores = cross_val_score(clf, iris.data, iris.target, cv=iterations) # score=accuracy\n",
    "print([round(i,3) for i in scores])"
   ]
  },
  {
   "cell_type": "code",
   "execution_count": 15,
   "metadata": {},
   "outputs": [
    {
     "name": "stdout",
     "output_type": "stream",
     "text": [
      "[1.0, 0.933, 1.0, 1.0, 0.933, 0.867, 0.861, 1.0, 1.0, 1.0]\n"
     ]
    }
   ],
   "source": [
    "f1_scores = cross_val_score(clf, iris.data, iris.target, cv=iterations, scoring='f1_macro')\n",
    "print([round(i,3) for i in f1_scores])"
   ]
  },
  {
   "cell_type": "code",
   "execution_count": 16,
   "metadata": {
    "scrolled": false
   },
   "outputs": [
    {
     "data": {
      "image/svg+xml": [
       "<?xml version=\"1.0\" encoding=\"UTF-8\" standalone=\"no\"?>\n",
       "<!DOCTYPE svg PUBLIC \"-//W3C//DTD SVG 1.1//EN\"\n",
       " \"http://www.w3.org/Graphics/SVG/1.1/DTD/svg11.dtd\">\n",
       "<!-- Generated by graphviz version 2.40.1 (20161225.0304)\n",
       " -->\n",
       "<!-- Title: Tree Pages: 1 -->\n",
       "<svg width=\"772pt\" height=\"642pt\"\n",
       " viewBox=\"0.00 0.00 771.69 642.00\" xmlns=\"http://www.w3.org/2000/svg\" xmlns:xlink=\"http://www.w3.org/1999/xlink\">\n",
       "<g id=\"graph0\" class=\"graph\" transform=\"scale(1 1) rotate(0) translate(4 638)\">\n",
       "<title>Tree</title>\n",
       "<polygon fill=\"#ffffff\" stroke=\"transparent\" points=\"-4,4 -4,-638 767.6924,-638 767.6924,4 -4,4\"/>\n",
       "<!-- 0 -->\n",
       "<g id=\"node1\" class=\"node\">\n",
       "<title>0</title>\n",
       "<path fill=\"#fcfffd\" stroke=\"#000000\" d=\"M518.3645,-634C518.3645,-634 385.3279,-634 385.3279,-634 379.3279,-634 373.3279,-628 373.3279,-622 373.3279,-622 373.3279,-568 373.3279,-568 373.3279,-562 379.3279,-556 385.3279,-556 385.3279,-556 518.3645,-556 518.3645,-556 524.3645,-556 530.3645,-562 530.3645,-568 530.3645,-568 530.3645,-622 530.3645,-622 530.3645,-628 524.3645,-634 518.3645,-634\"/>\n",
       "<text text-anchor=\"start\" x=\"381.0874\" y=\"-618.8\" font-family=\"Helvetica,sans-Serif\" font-size=\"14.00\" fill=\"#000000\">petal width (cm) ≤ 1.75</text>\n",
       "<text text-anchor=\"start\" x=\"403.0034\" y=\"-604.8\" font-family=\"Helvetica,sans-Serif\" font-size=\"14.00\" fill=\"#000000\">entropy = 1.225</text>\n",
       "<text text-anchor=\"start\" x=\"406.124\" y=\"-590.8\" font-family=\"Helvetica,sans-Serif\" font-size=\"14.00\" fill=\"#000000\">samples = 750</text>\n",
       "<text text-anchor=\"start\" x=\"384.3208\" y=\"-576.8\" font-family=\"Helvetica,sans-Serif\" font-size=\"14.00\" fill=\"#000000\">value = [35, 360, 355]</text>\n",
       "<text text-anchor=\"start\" x=\"397.9688\" y=\"-562.8\" font-family=\"Helvetica,sans-Serif\" font-size=\"14.00\" fill=\"#000000\">class = versicolor</text>\n",
       "</g>\n",
       "<!-- 1 -->\n",
       "<g id=\"node2\" class=\"node\">\n",
       "<title>1</title>\n",
       "<path fill=\"#5eea99\" stroke=\"#000000\" d=\"M431.3257,-520C431.3257,-520 292.3667,-520 292.3667,-520 286.3667,-520 280.3667,-514 280.3667,-508 280.3667,-508 280.3667,-454 280.3667,-454 280.3667,-448 286.3667,-442 292.3667,-442 292.3667,-442 431.3257,-442 431.3257,-442 437.3257,-442 443.3257,-448 443.3257,-454 443.3257,-454 443.3257,-508 443.3257,-508 443.3257,-514 437.3257,-520 431.3257,-520\"/>\n",
       "<text text-anchor=\"start\" x=\"288.3564\" y=\"-504.8\" font-family=\"Helvetica,sans-Serif\" font-size=\"14.00\" fill=\"#000000\">petal length (cm) ≤ 2.45</text>\n",
       "<text text-anchor=\"start\" x=\"313.0034\" y=\"-490.8\" font-family=\"Helvetica,sans-Serif\" font-size=\"14.00\" fill=\"#000000\">entropy = 0.828</text>\n",
       "<text text-anchor=\"start\" x=\"316.124\" y=\"-476.8\" font-family=\"Helvetica,sans-Serif\" font-size=\"14.00\" fill=\"#000000\">samples = 423</text>\n",
       "<text text-anchor=\"start\" x=\"298.2139\" y=\"-462.8\" font-family=\"Helvetica,sans-Serif\" font-size=\"14.00\" fill=\"#000000\">value = [35, 351, 37]</text>\n",
       "<text text-anchor=\"start\" x=\"307.9688\" y=\"-448.8\" font-family=\"Helvetica,sans-Serif\" font-size=\"14.00\" fill=\"#000000\">class = versicolor</text>\n",
       "</g>\n",
       "<!-- 0&#45;&gt;1 -->\n",
       "<g id=\"edge1\" class=\"edge\">\n",
       "<title>0&#45;&gt;1</title>\n",
       "<path fill=\"none\" stroke=\"#000000\" d=\"M420.8733,-555.7677C413.8731,-546.9007 406.3696,-537.3964 399.1398,-528.2385\"/>\n",
       "<polygon fill=\"#000000\" stroke=\"#000000\" points=\"401.8198,-525.9847 392.8762,-520.3046 396.3256,-530.3223 401.8198,-525.9847\"/>\n",
       "<text text-anchor=\"middle\" x=\"389.9551\" y=\"-540.9334\" font-family=\"Helvetica,sans-Serif\" font-size=\"14.00\" fill=\"#000000\">True</text>\n",
       "</g>\n",
       "<!-- 12 -->\n",
       "<g id=\"node13\" class=\"node\">\n",
       "<title>12</title>\n",
       "<path fill=\"#853fe6\" stroke=\"#000000\" d=\"M612.3257,-520C612.3257,-520 473.3667,-520 473.3667,-520 467.3667,-520 461.3667,-514 461.3667,-508 461.3667,-508 461.3667,-454 461.3667,-454 461.3667,-448 467.3667,-442 473.3667,-442 473.3667,-442 612.3257,-442 612.3257,-442 618.3257,-442 624.3257,-448 624.3257,-454 624.3257,-454 624.3257,-508 624.3257,-508 624.3257,-514 618.3257,-520 612.3257,-520\"/>\n",
       "<text text-anchor=\"start\" x=\"469.3564\" y=\"-504.8\" font-family=\"Helvetica,sans-Serif\" font-size=\"14.00\" fill=\"#000000\">petal length (cm) ≤ 4.85</text>\n",
       "<text text-anchor=\"start\" x=\"494.0034\" y=\"-490.8\" font-family=\"Helvetica,sans-Serif\" font-size=\"14.00\" fill=\"#000000\">entropy = 0.182</text>\n",
       "<text text-anchor=\"start\" x=\"497.124\" y=\"-476.8\" font-family=\"Helvetica,sans-Serif\" font-size=\"14.00\" fill=\"#000000\">samples = 327</text>\n",
       "<text text-anchor=\"start\" x=\"487\" y=\"-462.8\" font-family=\"Helvetica,sans-Serif\" font-size=\"14.00\" fill=\"#000000\">value = [0, 9, 318]</text>\n",
       "<text text-anchor=\"start\" x=\"493.2446\" y=\"-448.8\" font-family=\"Helvetica,sans-Serif\" font-size=\"14.00\" fill=\"#000000\">class = virginica</text>\n",
       "</g>\n",
       "<!-- 0&#45;&gt;12 -->\n",
       "<g id=\"edge12\" class=\"edge\">\n",
       "<title>0&#45;&gt;12</title>\n",
       "<path fill=\"none\" stroke=\"#000000\" d=\"M483.1632,-555.7677C490.2412,-546.9007 497.828,-537.3964 505.1382,-528.2385\"/>\n",
       "<polygon fill=\"#000000\" stroke=\"#000000\" points=\"507.9682,-530.3036 511.4714,-520.3046 502.4974,-525.9365 507.9682,-530.3036\"/>\n",
       "<text text-anchor=\"middle\" x=\"514.2588\" y=\"-540.9488\" font-family=\"Helvetica,sans-Serif\" font-size=\"14.00\" fill=\"#000000\">False</text>\n",
       "</g>\n",
       "<!-- 2 -->\n",
       "<g id=\"node3\" class=\"node\">\n",
       "<title>2</title>\n",
       "<path fill=\"#e58139\" stroke=\"#000000\" d=\"M252.7525,-399C252.7525,-399 156.9399,-399 156.9399,-399 150.9399,-399 144.9399,-393 144.9399,-387 144.9399,-387 144.9399,-347 144.9399,-347 144.9399,-341 150.9399,-335 156.9399,-335 156.9399,-335 252.7525,-335 252.7525,-335 258.7525,-335 264.7525,-341 264.7525,-347 264.7525,-347 264.7525,-387 264.7525,-387 264.7525,-393 258.7525,-399 252.7525,-399\"/>\n",
       "<text text-anchor=\"start\" x=\"163.7896\" y=\"-383.8\" font-family=\"Helvetica,sans-Serif\" font-size=\"14.00\" fill=\"#000000\">entropy = 0.0</text>\n",
       "<text text-anchor=\"start\" x=\"163.0171\" y=\"-369.8\" font-family=\"Helvetica,sans-Serif\" font-size=\"14.00\" fill=\"#000000\">samples = 35</text>\n",
       "<text text-anchor=\"start\" x=\"152.8931\" y=\"-355.8\" font-family=\"Helvetica,sans-Serif\" font-size=\"14.00\" fill=\"#000000\">value = [35, 0, 0]</text>\n",
       "<text text-anchor=\"start\" x=\"160.2964\" y=\"-341.8\" font-family=\"Helvetica,sans-Serif\" font-size=\"14.00\" fill=\"#000000\">class = setosa</text>\n",
       "</g>\n",
       "<!-- 1&#45;&gt;2 -->\n",
       "<g id=\"edge2\" class=\"edge\">\n",
       "<title>1&#45;&gt;2</title>\n",
       "<path fill=\"none\" stroke=\"#000000\" d=\"M307.8157,-441.7677C291.5004,-429.9209 273.6182,-416.9364 257.4007,-405.1606\"/>\n",
       "<polygon fill=\"#000000\" stroke=\"#000000\" points=\"259.2371,-402.1687 249.0888,-399.1252 255.1242,-407.833 259.2371,-402.1687\"/>\n",
       "</g>\n",
       "<!-- 3 -->\n",
       "<g id=\"node4\" class=\"node\">\n",
       "<title>3</title>\n",
       "<path fill=\"#4ee88e\" stroke=\"#000000\" d=\"M433.3257,-406C433.3257,-406 294.3667,-406 294.3667,-406 288.3667,-406 282.3667,-400 282.3667,-394 282.3667,-394 282.3667,-340 282.3667,-340 282.3667,-334 288.3667,-328 294.3667,-328 294.3667,-328 433.3257,-328 433.3257,-328 439.3257,-328 445.3257,-334 445.3257,-340 445.3257,-340 445.3257,-394 445.3257,-394 445.3257,-400 439.3257,-406 433.3257,-406\"/>\n",
       "<text text-anchor=\"start\" x=\"290.3564\" y=\"-390.8\" font-family=\"Helvetica,sans-Serif\" font-size=\"14.00\" fill=\"#000000\">petal length (cm) ≤ 4.95</text>\n",
       "<text text-anchor=\"start\" x=\"315.0034\" y=\"-376.8\" font-family=\"Helvetica,sans-Serif\" font-size=\"14.00\" fill=\"#000000\">entropy = 0.454</text>\n",
       "<text text-anchor=\"start\" x=\"318.124\" y=\"-362.8\" font-family=\"Helvetica,sans-Serif\" font-size=\"14.00\" fill=\"#000000\">samples = 388</text>\n",
       "<text text-anchor=\"start\" x=\"304.1069\" y=\"-348.8\" font-family=\"Helvetica,sans-Serif\" font-size=\"14.00\" fill=\"#000000\">value = [0, 351, 37]</text>\n",
       "<text text-anchor=\"start\" x=\"309.9688\" y=\"-334.8\" font-family=\"Helvetica,sans-Serif\" font-size=\"14.00\" fill=\"#000000\">class = versicolor</text>\n",
       "</g>\n",
       "<!-- 1&#45;&gt;3 -->\n",
       "<g id=\"edge3\" class=\"edge\">\n",
       "<title>1&#45;&gt;3</title>\n",
       "<path fill=\"none\" stroke=\"#000000\" d=\"M362.5345,-441.7677C362.6775,-433.6172 362.8299,-424.9283 362.9784,-416.4649\"/>\n",
       "<polygon fill=\"#000000\" stroke=\"#000000\" points=\"366.4806,-416.3645 363.1566,-406.3046 359.4817,-416.2417 366.4806,-416.3645\"/>\n",
       "</g>\n",
       "<!-- 4 -->\n",
       "<g id=\"node5\" class=\"node\">\n",
       "<title>4</title>\n",
       "<path fill=\"#3de583\" stroke=\"#000000\" d=\"M259.3645,-292C259.3645,-292 126.3279,-292 126.3279,-292 120.3279,-292 114.3279,-286 114.3279,-280 114.3279,-280 114.3279,-226 114.3279,-226 114.3279,-220 120.3279,-214 126.3279,-214 126.3279,-214 259.3645,-214 259.3645,-214 265.3645,-214 271.3645,-220 271.3645,-226 271.3645,-226 271.3645,-280 271.3645,-280 271.3645,-286 265.3645,-292 259.3645,-292\"/>\n",
       "<text text-anchor=\"start\" x=\"122.0874\" y=\"-276.8\" font-family=\"Helvetica,sans-Serif\" font-size=\"14.00\" fill=\"#000000\">petal width (cm) ≤ 1.65</text>\n",
       "<text text-anchor=\"start\" x=\"144.0034\" y=\"-262.8\" font-family=\"Helvetica,sans-Serif\" font-size=\"14.00\" fill=\"#000000\">entropy = 0.128</text>\n",
       "<text text-anchor=\"start\" x=\"147.124\" y=\"-248.8\" font-family=\"Helvetica,sans-Serif\" font-size=\"14.00\" fill=\"#000000\">samples = 341</text>\n",
       "<text text-anchor=\"start\" x=\"137\" y=\"-234.8\" font-family=\"Helvetica,sans-Serif\" font-size=\"14.00\" fill=\"#000000\">value = [0, 335, 6]</text>\n",
       "<text text-anchor=\"start\" x=\"138.9688\" y=\"-220.8\" font-family=\"Helvetica,sans-Serif\" font-size=\"14.00\" fill=\"#000000\">class = versicolor</text>\n",
       "</g>\n",
       "<!-- 3&#45;&gt;4 -->\n",
       "<g id=\"edge4\" class=\"edge\">\n",
       "<title>3&#45;&gt;4</title>\n",
       "<path fill=\"none\" stroke=\"#000000\" d=\"M304.9977,-327.7677C290.5417,-318.1303 274.9563,-307.7401 260.1364,-297.8601\"/>\n",
       "<polygon fill=\"#000000\" stroke=\"#000000\" points=\"261.7754,-294.7463 251.5134,-292.1115 257.8924,-300.5707 261.7754,-294.7463\"/>\n",
       "</g>\n",
       "<!-- 7 -->\n",
       "<g id=\"node8\" class=\"node\">\n",
       "<title>7</title>\n",
       "<path fill=\"#c29ff2\" stroke=\"#000000\" d=\"M435.3645,-292C435.3645,-292 302.3279,-292 302.3279,-292 296.3279,-292 290.3279,-286 290.3279,-280 290.3279,-280 290.3279,-226 290.3279,-226 290.3279,-220 296.3279,-214 302.3279,-214 302.3279,-214 435.3645,-214 435.3645,-214 441.3645,-214 447.3645,-220 447.3645,-226 447.3645,-226 447.3645,-280 447.3645,-280 447.3645,-286 441.3645,-292 435.3645,-292\"/>\n",
       "<text text-anchor=\"start\" x=\"298.0874\" y=\"-276.8\" font-family=\"Helvetica,sans-Serif\" font-size=\"14.00\" fill=\"#000000\">petal width (cm) ≤ 1.55</text>\n",
       "<text text-anchor=\"start\" x=\"320.0034\" y=\"-262.8\" font-family=\"Helvetica,sans-Serif\" font-size=\"14.00\" fill=\"#000000\">entropy = 0.925</text>\n",
       "<text text-anchor=\"start\" x=\"327.0171\" y=\"-248.8\" font-family=\"Helvetica,sans-Serif\" font-size=\"14.00\" fill=\"#000000\">samples = 47</text>\n",
       "<text text-anchor=\"start\" x=\"313\" y=\"-234.8\" font-family=\"Helvetica,sans-Serif\" font-size=\"14.00\" fill=\"#000000\">value = [0, 16, 31]</text>\n",
       "<text text-anchor=\"start\" x=\"319.2446\" y=\"-220.8\" font-family=\"Helvetica,sans-Serif\" font-size=\"14.00\" fill=\"#000000\">class = virginica</text>\n",
       "</g>\n",
       "<!-- 3&#45;&gt;7 -->\n",
       "<g id=\"edge7\" class=\"edge\">\n",
       "<title>3&#45;&gt;7</title>\n",
       "<path fill=\"none\" stroke=\"#000000\" d=\"M365.5669,-327.7677C365.9244,-319.6172 366.3055,-310.9283 366.6767,-302.4649\"/>\n",
       "<polygon fill=\"#000000\" stroke=\"#000000\" points=\"370.1807,-302.4484 367.1223,-292.3046 363.1874,-302.1416 370.1807,-302.4484\"/>\n",
       "</g>\n",
       "<!-- 5 -->\n",
       "<g id=\"node6\" class=\"node\">\n",
       "<title>5</title>\n",
       "<path fill=\"#39e581\" stroke=\"#000000\" d=\"M115.5389,-171C115.5389,-171 12.1534,-171 12.1534,-171 6.1534,-171 .1534,-165 .1534,-159 .1534,-159 .1534,-119 .1534,-119 .1534,-113 6.1534,-107 12.1534,-107 12.1534,-107 115.5389,-107 115.5389,-107 121.5389,-107 127.5389,-113 127.5389,-119 127.5389,-119 127.5389,-159 127.5389,-159 127.5389,-165 121.5389,-171 115.5389,-171\"/>\n",
       "<text text-anchor=\"start\" x=\"22.7896\" y=\"-155.8\" font-family=\"Helvetica,sans-Serif\" font-size=\"14.00\" fill=\"#000000\">entropy = 0.0</text>\n",
       "<text text-anchor=\"start\" x=\"18.124\" y=\"-141.8\" font-family=\"Helvetica,sans-Serif\" font-size=\"14.00\" fill=\"#000000\">samples = 335</text>\n",
       "<text text-anchor=\"start\" x=\"8\" y=\"-127.8\" font-family=\"Helvetica,sans-Serif\" font-size=\"14.00\" fill=\"#000000\">value = [0, 335, 0]</text>\n",
       "<text text-anchor=\"start\" x=\"9.9688\" y=\"-113.8\" font-family=\"Helvetica,sans-Serif\" font-size=\"14.00\" fill=\"#000000\">class = versicolor</text>\n",
       "</g>\n",
       "<!-- 4&#45;&gt;5 -->\n",
       "<g id=\"edge5\" class=\"edge\">\n",
       "<title>4&#45;&gt;5</title>\n",
       "<path fill=\"none\" stroke=\"#000000\" d=\"M148.4517,-213.7677C135.2921,-202.1383 120.8919,-189.4125 107.7628,-177.81\"/>\n",
       "<polygon fill=\"#000000\" stroke=\"#000000\" points=\"110.0094,-175.1245 100.1984,-171.1252 105.374,-180.3699 110.0094,-175.1245\"/>\n",
       "</g>\n",
       "<!-- 6 -->\n",
       "<g id=\"node7\" class=\"node\">\n",
       "<title>6</title>\n",
       "<path fill=\"#8139e5\" stroke=\"#000000\" d=\"M248.5495,-171C248.5495,-171 157.1429,-171 157.1429,-171 151.1429,-171 145.1429,-165 145.1429,-159 145.1429,-159 145.1429,-119 145.1429,-119 145.1429,-113 151.1429,-107 157.1429,-107 157.1429,-107 248.5495,-107 248.5495,-107 254.5495,-107 260.5495,-113 260.5495,-119 260.5495,-119 260.5495,-159 260.5495,-159 260.5495,-165 254.5495,-171 248.5495,-171\"/>\n",
       "<text text-anchor=\"start\" x=\"161.7896\" y=\"-155.8\" font-family=\"Helvetica,sans-Serif\" font-size=\"14.00\" fill=\"#000000\">entropy = 0.0</text>\n",
       "<text text-anchor=\"start\" x=\"164.9102\" y=\"-141.8\" font-family=\"Helvetica,sans-Serif\" font-size=\"14.00\" fill=\"#000000\">samples = 6</text>\n",
       "<text text-anchor=\"start\" x=\"154.7861\" y=\"-127.8\" font-family=\"Helvetica,sans-Serif\" font-size=\"14.00\" fill=\"#000000\">value = [0, 0, 6]</text>\n",
       "<text text-anchor=\"start\" x=\"153.2446\" y=\"-113.8\" font-family=\"Helvetica,sans-Serif\" font-size=\"14.00\" fill=\"#000000\">class = virginica</text>\n",
       "</g>\n",
       "<!-- 4&#45;&gt;6 -->\n",
       "<g id=\"edge6\" class=\"edge\">\n",
       "<title>4&#45;&gt;6</title>\n",
       "<path fill=\"none\" stroke=\"#000000\" d=\"M196.2876,-213.7677C197.2124,-203.2251 198.2162,-191.7816 199.154,-181.0907\"/>\n",
       "<polygon fill=\"#000000\" stroke=\"#000000\" points=\"202.6409,-181.3928 200.0282,-171.1252 195.6677,-180.7811 202.6409,-181.3928\"/>\n",
       "</g>\n",
       "<!-- 8 -->\n",
       "<g id=\"node9\" class=\"node\">\n",
       "<title>8</title>\n",
       "<path fill=\"#8139e5\" stroke=\"#000000\" d=\"M406.7525,-171C406.7525,-171 310.9399,-171 310.9399,-171 304.9399,-171 298.9399,-165 298.9399,-159 298.9399,-159 298.9399,-119 298.9399,-119 298.9399,-113 304.9399,-107 310.9399,-107 310.9399,-107 406.7525,-107 406.7525,-107 412.7525,-107 418.7525,-113 418.7525,-119 418.7525,-119 418.7525,-159 418.7525,-159 418.7525,-165 412.7525,-171 406.7525,-171\"/>\n",
       "<text text-anchor=\"start\" x=\"317.7896\" y=\"-155.8\" font-family=\"Helvetica,sans-Serif\" font-size=\"14.00\" fill=\"#000000\">entropy = 0.0</text>\n",
       "<text text-anchor=\"start\" x=\"317.0171\" y=\"-141.8\" font-family=\"Helvetica,sans-Serif\" font-size=\"14.00\" fill=\"#000000\">samples = 22</text>\n",
       "<text text-anchor=\"start\" x=\"306.8931\" y=\"-127.8\" font-family=\"Helvetica,sans-Serif\" font-size=\"14.00\" fill=\"#000000\">value = [0, 0, 22]</text>\n",
       "<text text-anchor=\"start\" x=\"309.2446\" y=\"-113.8\" font-family=\"Helvetica,sans-Serif\" font-size=\"14.00\" fill=\"#000000\">class = virginica</text>\n",
       "</g>\n",
       "<!-- 7&#45;&gt;8 -->\n",
       "<g id=\"edge8\" class=\"edge\">\n",
       "<title>7&#45;&gt;8</title>\n",
       "<path fill=\"none\" stroke=\"#000000\" d=\"M365.4048,-213.7677C364.48,-203.2251 363.4762,-191.7816 362.5384,-181.0907\"/>\n",
       "<polygon fill=\"#000000\" stroke=\"#000000\" points=\"366.0247,-180.7811 361.6642,-171.1252 359.0515,-181.3928 366.0247,-180.7811\"/>\n",
       "</g>\n",
       "<!-- 9 -->\n",
       "<g id=\"node10\" class=\"node\">\n",
       "<title>9</title>\n",
       "<path fill=\"#a8f4c8\" stroke=\"#000000\" d=\"M587.3257,-178C587.3257,-178 448.3667,-178 448.3667,-178 442.3667,-178 436.3667,-172 436.3667,-166 436.3667,-166 436.3667,-112 436.3667,-112 436.3667,-106 442.3667,-100 448.3667,-100 448.3667,-100 587.3257,-100 587.3257,-100 593.3257,-100 599.3257,-106 599.3257,-112 599.3257,-112 599.3257,-166 599.3257,-166 599.3257,-172 593.3257,-178 587.3257,-178\"/>\n",
       "<text text-anchor=\"start\" x=\"444.3564\" y=\"-162.8\" font-family=\"Helvetica,sans-Serif\" font-size=\"14.00\" fill=\"#000000\">petal length (cm) ≤ 5.45</text>\n",
       "<text text-anchor=\"start\" x=\"469.0034\" y=\"-148.8\" font-family=\"Helvetica,sans-Serif\" font-size=\"14.00\" fill=\"#000000\">entropy = 0.943</text>\n",
       "<text text-anchor=\"start\" x=\"476.0171\" y=\"-134.8\" font-family=\"Helvetica,sans-Serif\" font-size=\"14.00\" fill=\"#000000\">samples = 25</text>\n",
       "<text text-anchor=\"start\" x=\"465.8931\" y=\"-120.8\" font-family=\"Helvetica,sans-Serif\" font-size=\"14.00\" fill=\"#000000\">value = [0, 16, 9]</text>\n",
       "<text text-anchor=\"start\" x=\"463.9688\" y=\"-106.8\" font-family=\"Helvetica,sans-Serif\" font-size=\"14.00\" fill=\"#000000\">class = versicolor</text>\n",
       "</g>\n",
       "<!-- 7&#45;&gt;9 -->\n",
       "<g id=\"edge9\" class=\"edge\">\n",
       "<title>7&#45;&gt;9</title>\n",
       "<path fill=\"none\" stroke=\"#000000\" d=\"M420.1235,-213.7677C432.4843,-204.3105 445.7926,-194.1282 458.4884,-184.4147\"/>\n",
       "<polygon fill=\"#000000\" stroke=\"#000000\" points=\"460.9115,-186.9677 466.7268,-178.1115 456.658,-181.4082 460.9115,-186.9677\"/>\n",
       "</g>\n",
       "<!-- 10 -->\n",
       "<g id=\"node11\" class=\"node\">\n",
       "<title>10</title>\n",
       "<path fill=\"#39e581\" stroke=\"#000000\" d=\"M499.6013,-64C499.6013,-64 400.0911,-64 400.0911,-64 394.0911,-64 388.0911,-58 388.0911,-52 388.0911,-52 388.0911,-12 388.0911,-12 388.0911,-6 394.0911,0 400.0911,0 400.0911,0 499.6013,0 499.6013,0 505.6013,0 511.6013,-6 511.6013,-12 511.6013,-12 511.6013,-52 511.6013,-52 511.6013,-58 505.6013,-64 499.6013,-64\"/>\n",
       "<text text-anchor=\"start\" x=\"408.7896\" y=\"-48.8\" font-family=\"Helvetica,sans-Serif\" font-size=\"14.00\" fill=\"#000000\">entropy = 0.0</text>\n",
       "<text text-anchor=\"start\" x=\"408.0171\" y=\"-34.8\" font-family=\"Helvetica,sans-Serif\" font-size=\"14.00\" fill=\"#000000\">samples = 16</text>\n",
       "<text text-anchor=\"start\" x=\"397.8931\" y=\"-20.8\" font-family=\"Helvetica,sans-Serif\" font-size=\"14.00\" fill=\"#000000\">value = [0, 16, 0]</text>\n",
       "<text text-anchor=\"start\" x=\"395.9688\" y=\"-6.8\" font-family=\"Helvetica,sans-Serif\" font-size=\"14.00\" fill=\"#000000\">class = versicolor</text>\n",
       "</g>\n",
       "<!-- 9&#45;&gt;10 -->\n",
       "<g id=\"edge10\" class=\"edge\">\n",
       "<title>9&#45;&gt;10</title>\n",
       "<path fill=\"none\" stroke=\"#000000\" d=\"M492.9116,-99.7647C487.3396,-90.9971 481.4172,-81.678 475.8049,-72.8469\"/>\n",
       "<polygon fill=\"#000000\" stroke=\"#000000\" points=\"478.6381,-70.7795 470.3205,-64.2169 472.7302,-74.534 478.6381,-70.7795\"/>\n",
       "</g>\n",
       "<!-- 11 -->\n",
       "<g id=\"node12\" class=\"node\">\n",
       "<title>11</title>\n",
       "<path fill=\"#8139e5\" stroke=\"#000000\" d=\"M632.5495,-64C632.5495,-64 541.1429,-64 541.1429,-64 535.1429,-64 529.1429,-58 529.1429,-52 529.1429,-52 529.1429,-12 529.1429,-12 529.1429,-6 535.1429,0 541.1429,0 541.1429,0 632.5495,0 632.5495,0 638.5495,0 644.5495,-6 644.5495,-12 644.5495,-12 644.5495,-52 644.5495,-52 644.5495,-58 638.5495,-64 632.5495,-64\"/>\n",
       "<text text-anchor=\"start\" x=\"545.7896\" y=\"-48.8\" font-family=\"Helvetica,sans-Serif\" font-size=\"14.00\" fill=\"#000000\">entropy = 0.0</text>\n",
       "<text text-anchor=\"start\" x=\"548.9102\" y=\"-34.8\" font-family=\"Helvetica,sans-Serif\" font-size=\"14.00\" fill=\"#000000\">samples = 9</text>\n",
       "<text text-anchor=\"start\" x=\"538.7861\" y=\"-20.8\" font-family=\"Helvetica,sans-Serif\" font-size=\"14.00\" fill=\"#000000\">value = [0, 0, 9]</text>\n",
       "<text text-anchor=\"start\" x=\"537.2446\" y=\"-6.8\" font-family=\"Helvetica,sans-Serif\" font-size=\"14.00\" fill=\"#000000\">class = virginica</text>\n",
       "</g>\n",
       "<!-- 9&#45;&gt;11 -->\n",
       "<g id=\"edge11\" class=\"edge\">\n",
       "<title>9&#45;&gt;11</title>\n",
       "<path fill=\"none\" stroke=\"#000000\" d=\"M543.1474,-99.7647C548.8014,-90.9971 554.8109,-81.678 560.5057,-72.8469\"/>\n",
       "<polygon fill=\"#000000\" stroke=\"#000000\" points=\"563.5927,-74.5178 566.0708,-64.2169 557.7099,-70.7242 563.5927,-74.5178\"/>\n",
       "</g>\n",
       "<!-- 13 -->\n",
       "<g id=\"node14\" class=\"node\">\n",
       "<title>13</title>\n",
       "<path fill=\"#c09cf2\" stroke=\"#000000\" d=\"M606.1881,-406C606.1881,-406 477.5043,-406 477.5043,-406 471.5043,-406 465.5043,-400 465.5043,-394 465.5043,-394 465.5043,-340 465.5043,-340 465.5043,-334 471.5043,-328 477.5043,-328 477.5043,-328 606.1881,-328 606.1881,-328 612.1881,-328 618.1881,-334 618.1881,-340 618.1881,-340 618.1881,-394 618.1881,-394 618.1881,-400 612.1881,-406 606.1881,-406\"/>\n",
       "<text text-anchor=\"start\" x=\"473.4253\" y=\"-390.8\" font-family=\"Helvetica,sans-Serif\" font-size=\"14.00\" fill=\"#000000\">sepal width (cm) ≤ 3.1</text>\n",
       "<text text-anchor=\"start\" x=\"493.0034\" y=\"-376.8\" font-family=\"Helvetica,sans-Serif\" font-size=\"14.00\" fill=\"#000000\">entropy = 0.918</text>\n",
       "<text text-anchor=\"start\" x=\"500.0171\" y=\"-362.8\" font-family=\"Helvetica,sans-Serif\" font-size=\"14.00\" fill=\"#000000\">samples = 27</text>\n",
       "<text text-anchor=\"start\" x=\"489.8931\" y=\"-348.8\" font-family=\"Helvetica,sans-Serif\" font-size=\"14.00\" fill=\"#000000\">value = [0, 9, 18]</text>\n",
       "<text text-anchor=\"start\" x=\"492.2446\" y=\"-334.8\" font-family=\"Helvetica,sans-Serif\" font-size=\"14.00\" fill=\"#000000\">class = virginica</text>\n",
       "</g>\n",
       "<!-- 12&#45;&gt;13 -->\n",
       "<g id=\"edge13\" class=\"edge\">\n",
       "<title>12&#45;&gt;13</title>\n",
       "<path fill=\"none\" stroke=\"#000000\" d=\"M542.502,-441.7677C542.4306,-433.6172 542.3543,-424.9283 542.2801,-416.4649\"/>\n",
       "<polygon fill=\"#000000\" stroke=\"#000000\" points=\"545.7786,-416.2735 542.191,-406.3046 538.7789,-416.335 545.7786,-416.2735\"/>\n",
       "</g>\n",
       "<!-- 16 -->\n",
       "<g id=\"node17\" class=\"node\">\n",
       "<title>16</title>\n",
       "<path fill=\"#8139e5\" stroke=\"#000000\" d=\"M751.5389,-399C751.5389,-399 648.1534,-399 648.1534,-399 642.1534,-399 636.1534,-393 636.1534,-387 636.1534,-387 636.1534,-347 636.1534,-347 636.1534,-341 642.1534,-335 648.1534,-335 648.1534,-335 751.5389,-335 751.5389,-335 757.5389,-335 763.5389,-341 763.5389,-347 763.5389,-347 763.5389,-387 763.5389,-387 763.5389,-393 757.5389,-399 751.5389,-399\"/>\n",
       "<text text-anchor=\"start\" x=\"658.7896\" y=\"-383.8\" font-family=\"Helvetica,sans-Serif\" font-size=\"14.00\" fill=\"#000000\">entropy = 0.0</text>\n",
       "<text text-anchor=\"start\" x=\"654.124\" y=\"-369.8\" font-family=\"Helvetica,sans-Serif\" font-size=\"14.00\" fill=\"#000000\">samples = 300</text>\n",
       "<text text-anchor=\"start\" x=\"644\" y=\"-355.8\" font-family=\"Helvetica,sans-Serif\" font-size=\"14.00\" fill=\"#000000\">value = [0, 0, 300]</text>\n",
       "<text text-anchor=\"start\" x=\"650.2446\" y=\"-341.8\" font-family=\"Helvetica,sans-Serif\" font-size=\"14.00\" fill=\"#000000\">class = virginica</text>\n",
       "</g>\n",
       "<!-- 12&#45;&gt;16 -->\n",
       "<g id=\"edge16\" class=\"edge\">\n",
       "<title>12&#45;&gt;16</title>\n",
       "<path fill=\"none\" stroke=\"#000000\" d=\"M596.8767,-441.7677C613.192,-429.9209 631.0742,-416.9364 647.2917,-405.1606\"/>\n",
       "<polygon fill=\"#000000\" stroke=\"#000000\" points=\"649.5682,-407.833 655.6036,-399.1252 645.4553,-402.1687 649.5682,-407.833\"/>\n",
       "</g>\n",
       "<!-- 14 -->\n",
       "<g id=\"node15\" class=\"node\">\n",
       "<title>14</title>\n",
       "<path fill=\"#8139e5\" stroke=\"#000000\" d=\"M585.7525,-285C585.7525,-285 489.9399,-285 489.9399,-285 483.9399,-285 477.9399,-279 477.9399,-273 477.9399,-273 477.9399,-233 477.9399,-233 477.9399,-227 483.9399,-221 489.9399,-221 489.9399,-221 585.7525,-221 585.7525,-221 591.7525,-221 597.7525,-227 597.7525,-233 597.7525,-233 597.7525,-273 597.7525,-273 597.7525,-279 591.7525,-285 585.7525,-285\"/>\n",
       "<text text-anchor=\"start\" x=\"496.7896\" y=\"-269.8\" font-family=\"Helvetica,sans-Serif\" font-size=\"14.00\" fill=\"#000000\">entropy = 0.0</text>\n",
       "<text text-anchor=\"start\" x=\"496.0171\" y=\"-255.8\" font-family=\"Helvetica,sans-Serif\" font-size=\"14.00\" fill=\"#000000\">samples = 18</text>\n",
       "<text text-anchor=\"start\" x=\"485.8931\" y=\"-241.8\" font-family=\"Helvetica,sans-Serif\" font-size=\"14.00\" fill=\"#000000\">value = [0, 0, 18]</text>\n",
       "<text text-anchor=\"start\" x=\"488.2446\" y=\"-227.8\" font-family=\"Helvetica,sans-Serif\" font-size=\"14.00\" fill=\"#000000\">class = virginica</text>\n",
       "</g>\n",
       "<!-- 13&#45;&gt;14 -->\n",
       "<g id=\"edge14\" class=\"edge\">\n",
       "<title>13&#45;&gt;14</title>\n",
       "<path fill=\"none\" stroke=\"#000000\" d=\"M540.4696,-327.7677C540.1035,-317.3338 539.7065,-306.0174 539.3347,-295.4215\"/>\n",
       "<polygon fill=\"#000000\" stroke=\"#000000\" points=\"542.822,-294.9963 538.9734,-285.1252 535.8263,-295.2418 542.822,-294.9963\"/>\n",
       "</g>\n",
       "<!-- 15 -->\n",
       "<g id=\"node16\" class=\"node\">\n",
       "<title>15</title>\n",
       "<path fill=\"#39e581\" stroke=\"#000000\" d=\"M727.6013,-285C727.6013,-285 628.0911,-285 628.0911,-285 622.0911,-285 616.0911,-279 616.0911,-273 616.0911,-273 616.0911,-233 616.0911,-233 616.0911,-227 622.0911,-221 628.0911,-221 628.0911,-221 727.6013,-221 727.6013,-221 733.6013,-221 739.6013,-227 739.6013,-233 739.6013,-233 739.6013,-273 739.6013,-273 739.6013,-279 733.6013,-285 727.6013,-285\"/>\n",
       "<text text-anchor=\"start\" x=\"636.7896\" y=\"-269.8\" font-family=\"Helvetica,sans-Serif\" font-size=\"14.00\" fill=\"#000000\">entropy = 0.0</text>\n",
       "<text text-anchor=\"start\" x=\"639.9102\" y=\"-255.8\" font-family=\"Helvetica,sans-Serif\" font-size=\"14.00\" fill=\"#000000\">samples = 9</text>\n",
       "<text text-anchor=\"start\" x=\"629.7861\" y=\"-241.8\" font-family=\"Helvetica,sans-Serif\" font-size=\"14.00\" fill=\"#000000\">value = [0, 9, 0]</text>\n",
       "<text text-anchor=\"start\" x=\"623.9688\" y=\"-227.8\" font-family=\"Helvetica,sans-Serif\" font-size=\"14.00\" fill=\"#000000\">class = versicolor</text>\n",
       "</g>\n",
       "<!-- 13&#45;&gt;15 -->\n",
       "<g id=\"edge15\" class=\"edge\">\n",
       "<title>13&#45;&gt;15</title>\n",
       "<path fill=\"none\" stroke=\"#000000\" d=\"M588.6497,-327.7677C602.5233,-316.1383 617.705,-303.4125 631.5465,-291.81\"/>\n",
       "<polygon fill=\"#000000\" stroke=\"#000000\" points=\"634.1061,-294.2315 639.5214,-285.1252 629.6093,-288.8669 634.1061,-294.2315\"/>\n",
       "</g>\n",
       "</g>\n",
       "</svg>\n"
      ],
      "text/plain": [
       "<graphviz.files.Source at 0x1a1723d048>"
      ]
     },
     "execution_count": 16,
     "metadata": {},
     "output_type": "execute_result"
    }
   ],
   "source": [
    "dot_data = tree.export_graphviz(clf, out_file=None, \n",
    "                         feature_names=iris.feature_names, \n",
    "                         class_names=iris.target_names, \n",
    "                         filled=True, rounded=True,  \n",
    "                         special_characters=True)  \n",
    "graph = graphviz.Source(dot_data)\n",
    "graph"
   ]
  },
  {
   "cell_type": "markdown",
   "metadata": {},
   "source": [
    "- Come vediamo la classe setosa è molto semplice da distinguere (basta una singola foglia sulla sinistra) Le altre due classi sono invece più simili e complesse da separare\n",
    "- Questo albero è sicuramente overfittato (ad esempio le foglie generalmente includono davvero pochi esempi)"
   ]
  },
  {
   "cell_type": "markdown",
   "metadata": {},
   "source": [
    "## 2) Modify the weight of some classes (set to 10 the weights for misclassification between virginica into versicolor and vice versa) and learn the tree in these conditions. You should obtain similar results as for step 1."
   ]
  },
  {
   "cell_type": "markdown",
   "metadata": {},
   "source": [
    "##### Dichiarazione del classificatore"
   ]
  },
  {
   "cell_type": "code",
   "execution_count": 17,
   "metadata": {},
   "outputs": [],
   "source": [
    "clf = tree.DecisionTreeClassifier(\n",
    "    criterion=\"entropy\",\n",
    "    random_state=300,\n",
    "    min_samples_leaf=5,\n",
    "    class_weight={0:1,1:10,2:10}\n",
    ")"
   ]
  },
  {
   "cell_type": "code",
   "execution_count": 18,
   "metadata": {},
   "outputs": [],
   "source": [
    "np.random.seed(0)\n",
    "indices = np.random.permutation(len(iris.data))\n",
    "\n",
    "# We now decide to keep the last 10 indices for test set, the remaining for the training set\n",
    "indices_training=indices[:-30]\n",
    "indices_test=indices[-30:]\n",
    "\n",
    "iris_X_train = iris.data[indices_training] # keep for training all the matrix elements with the exception of the last 10 \n",
    "iris_y_train = iris.target[indices_training]\n",
    "iris_X_test  = iris.data[indices_test] # keep the last 10 elements for test set\n",
    "iris_y_test  = iris.target[indices_test]"
   ]
  },
  {
   "cell_type": "markdown",
   "metadata": {},
   "source": [
    "##### Fit del modello"
   ]
  },
  {
   "cell_type": "code",
   "execution_count": 19,
   "metadata": {},
   "outputs": [],
   "source": [
    "clf = clf.fit(iris_X_train, iris_y_train)"
   ]
  },
  {
   "cell_type": "markdown",
   "metadata": {},
   "source": [
    "### Test del modello"
   ]
  },
  {
   "cell_type": "code",
   "execution_count": 20,
   "metadata": {},
   "outputs": [],
   "source": [
    "predicted_y_test = clf.predict(iris_X_test)"
   ]
  },
  {
   "cell_type": "code",
   "execution_count": 21,
   "metadata": {},
   "outputs": [
    {
     "name": "stdout",
     "output_type": "stream",
     "text": [
      "Instance # 77: \n",
      "\u001b[31mPredicted: virginica\t True: versicolor\u001b[0m\n",
      "\n",
      "Instance # 70: \n",
      "\u001b[31mPredicted: virginica\t True: versicolor\u001b[0m\n",
      "\n"
     ]
    }
   ],
   "source": [
    "no_error = True\n",
    "for i in range(len(iris_y_test)): \n",
    "    color = \"\\x1b[31m\" if (predicted_y_test[i] != iris_y_test[i]) else \"\\x1b[92m\"\n",
    "    if predicted_y_test[i] != iris_y_test[i]:\n",
    "        no_error = False\n",
    "        print(\"Instance # \"+str(indices_test[i])+\": \")\n",
    "        print(color + \"Predicted: \"+iris.target_names[predicted_y_test[i]]+\"\\t True: \"+iris.target_names[iris_y_test[i]]+\"\\x1b[0m\\n\")\n",
    "\n",
    "if no_error: print(\"Nessun errore\")"
   ]
  },
  {
   "cell_type": "markdown",
   "metadata": {},
   "source": [
    "##### Accuracy & F1 score"
   ]
  },
  {
   "cell_type": "code",
   "execution_count": 22,
   "metadata": {},
   "outputs": [
    {
     "name": "stdout",
     "output_type": "stream",
     "text": [
      "Accuracy score: 0.9333333333333333\n",
      "F1 score: 0.9333333333333332\n"
     ]
    }
   ],
   "source": [
    "# Print some metrics results\n",
    "from sklearn.metrics import accuracy_score\n",
    "from sklearn.metrics import f1_score\n",
    "acc_score = accuracy_score(iris_y_test, predicted_y_test)\n",
    "print(\"Accuracy score: \"+ str(acc_score))\n",
    "f1=f1_score(iris_y_test, predicted_y_test, average='macro')\n",
    "print(\"F1 score: \"+str(f1)) #f-score"
   ]
  },
  {
   "cell_type": "markdown",
   "metadata": {},
   "source": [
    "##### Cross validation"
   ]
  },
  {
   "cell_type": "code",
   "execution_count": 54,
   "metadata": {
    "scrolled": true
   },
   "outputs": [
    {
     "name": "stdout",
     "output_type": "stream",
     "text": [
      "[1.0, 0.933, 1.0, 1.0, 0.933, 0.867, 0.867, 1.0, 1.0, 1.0]\n",
      "0.96\n"
     ]
    }
   ],
   "source": [
    "from sklearn.model_selection import cross_val_score\n",
    "\n",
    "iterations = 10\n",
    "scores = cross_val_score(clf, iris.data, iris.target, cv=iterations) # score=accuracy\n",
    "print([round(i,3) for i in scores])\n",
    "print(round(scores.mean(),3))"
   ]
  },
  {
   "cell_type": "code",
   "execution_count": 24,
   "metadata": {},
   "outputs": [
    {
     "name": "stdout",
     "output_type": "stream",
     "text": [
      "[1.0, 0.933, 1.0, 1.0, 0.933, 0.867, 0.861, 1.0, 1.0, 1.0]\n"
     ]
    }
   ],
   "source": [
    "f1_scores = cross_val_score(clf, iris.data, iris.target, cv=iterations, scoring='f1_macro')\n",
    "print([round(i,3) for i in f1_scores])"
   ]
  },
  {
   "cell_type": "code",
   "execution_count": 25,
   "metadata": {},
   "outputs": [
    {
     "data": {
      "image/svg+xml": [
       "<?xml version=\"1.0\" encoding=\"UTF-8\" standalone=\"no\"?>\n",
       "<!DOCTYPE svg PUBLIC \"-//W3C//DTD SVG 1.1//EN\"\n",
       " \"http://www.w3.org/Graphics/SVG/1.1/DTD/svg11.dtd\">\n",
       "<!-- Generated by graphviz version 2.40.1 (20161225.0304)\n",
       " -->\n",
       "<!-- Title: Tree Pages: 1 -->\n",
       "<svg width=\"374pt\" height=\"414pt\"\n",
       " viewBox=\"0.00 0.00 373.80 414.00\" xmlns=\"http://www.w3.org/2000/svg\" xmlns:xlink=\"http://www.w3.org/1999/xlink\">\n",
       "<g id=\"graph0\" class=\"graph\" transform=\"scale(1 1) rotate(0) translate(4 410)\">\n",
       "<title>Tree</title>\n",
       "<polygon fill=\"#ffffff\" stroke=\"transparent\" points=\"-4,4 -4,-410 369.7993,-410 369.7993,4 -4,4\"/>\n",
       "<!-- 0 -->\n",
       "<g id=\"node1\" class=\"node\">\n",
       "<title>0</title>\n",
       "<path fill=\"#f9f6fe\" stroke=\"#000000\" d=\"M286.4714,-406C286.4714,-406 153.4348,-406 153.4348,-406 147.4348,-406 141.4348,-400 141.4348,-394 141.4348,-394 141.4348,-340 141.4348,-340 141.4348,-334 147.4348,-328 153.4348,-328 153.4348,-328 286.4714,-328 286.4714,-328 292.4714,-328 298.4714,-334 298.4714,-340 298.4714,-340 298.4714,-394 298.4714,-394 298.4714,-400 292.4714,-406 286.4714,-406\"/>\n",
       "<text text-anchor=\"start\" x=\"149.1943\" y=\"-390.8\" font-family=\"Helvetica,sans-Serif\" font-size=\"14.00\" fill=\"#000000\">petal width (cm) ≤ 1.65</text>\n",
       "<text text-anchor=\"start\" x=\"171.1104\" y=\"-376.8\" font-family=\"Helvetica,sans-Serif\" font-size=\"14.00\" fill=\"#000000\">entropy = 1.228</text>\n",
       "<text text-anchor=\"start\" x=\"174.231\" y=\"-362.8\" font-family=\"Helvetica,sans-Serif\" font-size=\"14.00\" fill=\"#000000\">samples = 120</text>\n",
       "<text text-anchor=\"start\" x=\"152.4277\" y=\"-348.8\" font-family=\"Helvetica,sans-Serif\" font-size=\"14.00\" fill=\"#000000\">value = [40, 390, 410]</text>\n",
       "<text text-anchor=\"start\" x=\"170.3516\" y=\"-334.8\" font-family=\"Helvetica,sans-Serif\" font-size=\"14.00\" fill=\"#000000\">class = virginica</text>\n",
       "</g>\n",
       "<!-- 1 -->\n",
       "<g id=\"node2\" class=\"node\">\n",
       "<title>1</title>\n",
       "<path fill=\"#5eea98\" stroke=\"#000000\" d=\"M208.4326,-292C208.4326,-292 69.4736,-292 69.4736,-292 63.4736,-292 57.4736,-286 57.4736,-280 57.4736,-280 57.4736,-226 57.4736,-226 57.4736,-220 63.4736,-214 69.4736,-214 69.4736,-214 208.4326,-214 208.4326,-214 214.4326,-214 220.4326,-220 220.4326,-226 220.4326,-226 220.4326,-280 220.4326,-280 220.4326,-286 214.4326,-292 208.4326,-292\"/>\n",
       "<text text-anchor=\"start\" x=\"65.4634\" y=\"-276.8\" font-family=\"Helvetica,sans-Serif\" font-size=\"14.00\" fill=\"#000000\">petal length (cm) ≤ 2.45</text>\n",
       "<text text-anchor=\"start\" x=\"90.1104\" y=\"-262.8\" font-family=\"Helvetica,sans-Serif\" font-size=\"14.00\" fill=\"#000000\">entropy = 0.828</text>\n",
       "<text text-anchor=\"start\" x=\"97.124\" y=\"-248.8\" font-family=\"Helvetica,sans-Serif\" font-size=\"14.00\" fill=\"#000000\">samples = 83</text>\n",
       "<text text-anchor=\"start\" x=\"75.3208\" y=\"-234.8\" font-family=\"Helvetica,sans-Serif\" font-size=\"14.00\" fill=\"#000000\">value = [40, 390, 40]</text>\n",
       "<text text-anchor=\"start\" x=\"85.0757\" y=\"-220.8\" font-family=\"Helvetica,sans-Serif\" font-size=\"14.00\" fill=\"#000000\">class = versicolor</text>\n",
       "</g>\n",
       "<!-- 0&#45;&gt;1 -->\n",
       "<g id=\"edge1\" class=\"edge\">\n",
       "<title>0&#45;&gt;1</title>\n",
       "<path fill=\"none\" stroke=\"#000000\" d=\"M192.0775,-327.7677C185.8409,-318.9903 179.1606,-309.5883 172.7146,-300.5161\"/>\n",
       "<polygon fill=\"#000000\" stroke=\"#000000\" points=\"175.5254,-298.4292 166.8801,-292.3046 169.8191,-302.4837 175.5254,-298.4292\"/>\n",
       "<text text-anchor=\"middle\" x=\"162.7087\" y=\"-312.7542\" font-family=\"Helvetica,sans-Serif\" font-size=\"14.00\" fill=\"#000000\">True</text>\n",
       "</g>\n",
       "<!-- 6 -->\n",
       "<g id=\"node7\" class=\"node\">\n",
       "<title>6</title>\n",
       "<path fill=\"#8139e5\" stroke=\"#000000\" d=\"M353.6459,-285C353.6459,-285 250.2604,-285 250.2604,-285 244.2604,-285 238.2604,-279 238.2604,-273 238.2604,-273 238.2604,-233 238.2604,-233 238.2604,-227 244.2604,-221 250.2604,-221 250.2604,-221 353.6459,-221 353.6459,-221 359.6459,-221 365.6459,-227 365.6459,-233 365.6459,-233 365.6459,-273 365.6459,-273 365.6459,-279 359.6459,-285 353.6459,-285\"/>\n",
       "<text text-anchor=\"start\" x=\"260.8965\" y=\"-269.8\" font-family=\"Helvetica,sans-Serif\" font-size=\"14.00\" fill=\"#000000\">entropy = 0.0</text>\n",
       "<text text-anchor=\"start\" x=\"260.124\" y=\"-255.8\" font-family=\"Helvetica,sans-Serif\" font-size=\"14.00\" fill=\"#000000\">samples = 37</text>\n",
       "<text text-anchor=\"start\" x=\"246.1069\" y=\"-241.8\" font-family=\"Helvetica,sans-Serif\" font-size=\"14.00\" fill=\"#000000\">value = [0, 0, 370]</text>\n",
       "<text text-anchor=\"start\" x=\"252.3516\" y=\"-227.8\" font-family=\"Helvetica,sans-Serif\" font-size=\"14.00\" fill=\"#000000\">class = virginica</text>\n",
       "</g>\n",
       "<!-- 0&#45;&gt;6 -->\n",
       "<g id=\"edge6\" class=\"edge\">\n",
       "<title>0&#45;&gt;6</title>\n",
       "<path fill=\"none\" stroke=\"#000000\" d=\"M248.1729,-327.7677C256.147,-316.6817 264.8377,-304.5994 272.8621,-293.4436\"/>\n",
       "<polygon fill=\"#000000\" stroke=\"#000000\" points=\"275.8475,-295.287 278.8455,-285.1252 270.1649,-291.1995 275.8475,-295.287\"/>\n",
       "<text text-anchor=\"middle\" x=\"282.8738\" y=\"-305.5985\" font-family=\"Helvetica,sans-Serif\" font-size=\"14.00\" fill=\"#000000\">False</text>\n",
       "</g>\n",
       "<!-- 2 -->\n",
       "<g id=\"node3\" class=\"node\">\n",
       "<title>2</title>\n",
       "<path fill=\"#e58139\" stroke=\"#000000\" d=\"M107.8594,-171C107.8594,-171 12.0468,-171 12.0468,-171 6.0468,-171 .0468,-165 .0468,-159 .0468,-159 .0468,-119 .0468,-119 .0468,-113 6.0468,-107 12.0468,-107 12.0468,-107 107.8594,-107 107.8594,-107 113.8594,-107 119.8594,-113 119.8594,-119 119.8594,-119 119.8594,-159 119.8594,-159 119.8594,-165 113.8594,-171 107.8594,-171\"/>\n",
       "<text text-anchor=\"start\" x=\"18.8965\" y=\"-155.8\" font-family=\"Helvetica,sans-Serif\" font-size=\"14.00\" fill=\"#000000\">entropy = 0.0</text>\n",
       "<text text-anchor=\"start\" x=\"18.124\" y=\"-141.8\" font-family=\"Helvetica,sans-Serif\" font-size=\"14.00\" fill=\"#000000\">samples = 40</text>\n",
       "<text text-anchor=\"start\" x=\"8\" y=\"-127.8\" font-family=\"Helvetica,sans-Serif\" font-size=\"14.00\" fill=\"#000000\">value = [40, 0, 0]</text>\n",
       "<text text-anchor=\"start\" x=\"15.4033\" y=\"-113.8\" font-family=\"Helvetica,sans-Serif\" font-size=\"14.00\" fill=\"#000000\">class = setosa</text>\n",
       "</g>\n",
       "<!-- 1&#45;&gt;2 -->\n",
       "<g id=\"edge2\" class=\"edge\">\n",
       "<title>1&#45;&gt;2</title>\n",
       "<path fill=\"none\" stroke=\"#000000\" d=\"M111.7658,-213.7677C104.0834,-202.6817 95.7106,-190.5994 87.9799,-179.4436\"/>\n",
       "<polygon fill=\"#000000\" stroke=\"#000000\" points=\"90.788,-177.351 82.2153,-171.1252 85.0344,-181.3381 90.788,-177.351\"/>\n",
       "</g>\n",
       "<!-- 3 -->\n",
       "<g id=\"node4\" class=\"node\">\n",
       "<title>3</title>\n",
       "<path fill=\"#4de88e\" stroke=\"#000000\" d=\"M288.4326,-178C288.4326,-178 149.4736,-178 149.4736,-178 143.4736,-178 137.4736,-172 137.4736,-166 137.4736,-166 137.4736,-112 137.4736,-112 137.4736,-106 143.4736,-100 149.4736,-100 149.4736,-100 288.4326,-100 288.4326,-100 294.4326,-100 300.4326,-106 300.4326,-112 300.4326,-112 300.4326,-166 300.4326,-166 300.4326,-172 294.4326,-178 288.4326,-178\"/>\n",
       "<text text-anchor=\"start\" x=\"145.4634\" y=\"-162.8\" font-family=\"Helvetica,sans-Serif\" font-size=\"14.00\" fill=\"#000000\">petal length (cm) ≤ 4.95</text>\n",
       "<text text-anchor=\"start\" x=\"170.1104\" y=\"-148.8\" font-family=\"Helvetica,sans-Serif\" font-size=\"14.00\" fill=\"#000000\">entropy = 0.446</text>\n",
       "<text text-anchor=\"start\" x=\"177.124\" y=\"-134.8\" font-family=\"Helvetica,sans-Serif\" font-size=\"14.00\" fill=\"#000000\">samples = 43</text>\n",
       "<text text-anchor=\"start\" x=\"159.2139\" y=\"-120.8\" font-family=\"Helvetica,sans-Serif\" font-size=\"14.00\" fill=\"#000000\">value = [0, 390, 40]</text>\n",
       "<text text-anchor=\"start\" x=\"165.0757\" y=\"-106.8\" font-family=\"Helvetica,sans-Serif\" font-size=\"14.00\" fill=\"#000000\">class = versicolor</text>\n",
       "</g>\n",
       "<!-- 1&#45;&gt;3 -->\n",
       "<g id=\"edge3\" class=\"edge\">\n",
       "<title>1&#45;&gt;3</title>\n",
       "<path fill=\"none\" stroke=\"#000000\" d=\"M166.4846,-213.7677C172.6442,-204.9903 179.242,-195.5883 185.6085,-186.5161\"/>\n",
       "<polygon fill=\"#000000\" stroke=\"#000000\" points=\"188.4916,-188.5007 191.3709,-178.3046 182.7617,-184.4797 188.4916,-188.5007\"/>\n",
       "</g>\n",
       "<!-- 4 -->\n",
       "<g id=\"node5\" class=\"node\">\n",
       "<title>4</title>\n",
       "<path fill=\"#39e581\" stroke=\"#000000\" d=\"M197.6459,-64C197.6459,-64 94.2604,-64 94.2604,-64 88.2604,-64 82.2604,-58 82.2604,-52 82.2604,-52 82.2604,-12 82.2604,-12 82.2604,-6 88.2604,0 94.2604,0 94.2604,0 197.6459,0 197.6459,0 203.6459,0 209.6459,-6 209.6459,-12 209.6459,-12 209.6459,-52 209.6459,-52 209.6459,-58 203.6459,-64 197.6459,-64\"/>\n",
       "<text text-anchor=\"start\" x=\"104.8965\" y=\"-48.8\" font-family=\"Helvetica,sans-Serif\" font-size=\"14.00\" fill=\"#000000\">entropy = 0.0</text>\n",
       "<text text-anchor=\"start\" x=\"104.124\" y=\"-34.8\" font-family=\"Helvetica,sans-Serif\" font-size=\"14.00\" fill=\"#000000\">samples = 38</text>\n",
       "<text text-anchor=\"start\" x=\"90.1069\" y=\"-20.8\" font-family=\"Helvetica,sans-Serif\" font-size=\"14.00\" fill=\"#000000\">value = [0, 380, 0]</text>\n",
       "<text text-anchor=\"start\" x=\"92.0757\" y=\"-6.8\" font-family=\"Helvetica,sans-Serif\" font-size=\"14.00\" fill=\"#000000\">class = versicolor</text>\n",
       "</g>\n",
       "<!-- 3&#45;&gt;4 -->\n",
       "<g id=\"edge4\" class=\"edge\">\n",
       "<title>3&#45;&gt;4</title>\n",
       "<path fill=\"none\" stroke=\"#000000\" d=\"M192.1851,-99.7647C186.1411,-90.9057 179.7131,-81.4838 173.6324,-72.571\"/>\n",
       "<polygon fill=\"#000000\" stroke=\"#000000\" points=\"176.4599,-70.505 167.9329,-64.2169 170.6774,-74.4501 176.4599,-70.505\"/>\n",
       "</g>\n",
       "<!-- 5 -->\n",
       "<g id=\"node6\" class=\"node\">\n",
       "<title>5</title>\n",
       "<path fill=\"#a06aec\" stroke=\"#000000\" d=\"M343.6459,-64C343.6459,-64 240.2604,-64 240.2604,-64 234.2604,-64 228.2604,-58 228.2604,-52 228.2604,-52 228.2604,-12 228.2604,-12 228.2604,-6 234.2604,0 240.2604,0 240.2604,0 343.6459,0 343.6459,0 349.6459,0 355.6459,-6 355.6459,-12 355.6459,-12 355.6459,-52 355.6459,-52 355.6459,-58 349.6459,-64 343.6459,-64\"/>\n",
       "<text text-anchor=\"start\" x=\"243.1104\" y=\"-48.8\" font-family=\"Helvetica,sans-Serif\" font-size=\"14.00\" fill=\"#000000\">entropy = 0.722</text>\n",
       "<text text-anchor=\"start\" x=\"254.0171\" y=\"-34.8\" font-family=\"Helvetica,sans-Serif\" font-size=\"14.00\" fill=\"#000000\">samples = 5</text>\n",
       "<text text-anchor=\"start\" x=\"236.1069\" y=\"-20.8\" font-family=\"Helvetica,sans-Serif\" font-size=\"14.00\" fill=\"#000000\">value = [0, 10, 40]</text>\n",
       "<text text-anchor=\"start\" x=\"242.3516\" y=\"-6.8\" font-family=\"Helvetica,sans-Serif\" font-size=\"14.00\" fill=\"#000000\">class = virginica</text>\n",
       "</g>\n",
       "<!-- 3&#45;&gt;5 -->\n",
       "<g id=\"edge5\" class=\"edge\">\n",
       "<title>3&#45;&gt;5</title>\n",
       "<path fill=\"none\" stroke=\"#000000\" d=\"M245.7211,-99.7647C251.7651,-90.9057 258.1932,-81.4838 264.2738,-72.571\"/>\n",
       "<polygon fill=\"#000000\" stroke=\"#000000\" points=\"267.2288,-74.4501 269.9734,-64.2169 261.4464,-70.505 267.2288,-74.4501\"/>\n",
       "</g>\n",
       "</g>\n",
       "</svg>\n"
      ],
      "text/plain": [
       "<graphviz.files.Source at 0x1a17256eb8>"
      ]
     },
     "execution_count": 25,
     "metadata": {},
     "output_type": "execute_result"
    }
   ],
   "source": [
    "dot_data = tree.export_graphviz(clf, out_file=None, \n",
    "                         feature_names=iris.feature_names, \n",
    "                         class_names=iris.target_names, \n",
    "                         filled=True, rounded=True,  \n",
    "                         special_characters=True)  \n",
    "graph = graphviz.Source(dot_data)\n",
    "graph"
   ]
  },
  {
   "cell_type": "markdown",
   "metadata": {},
   "source": [
    "- Il risultato appare già migliore rispetto al primo step"
   ]
  },
  {
   "cell_type": "markdown",
   "metadata": {},
   "source": [
    "## 3) learn trees but avoid overfitting (by improving the error on the test set) tuning the parameters on: the minimum number of samples per leaf, max depth of the tree, min_impurity_decrease parameters, max leaf nodes, etc."
   ]
  },
  {
   "cell_type": "markdown",
   "metadata": {},
   "source": [
    "##### Dichiarazione del classificatore"
   ]
  },
  {
   "cell_type": "code",
   "execution_count": 26,
   "metadata": {},
   "outputs": [],
   "source": [
    "clf_leaf = tree.DecisionTreeClassifier(\n",
    "    criterion=\"entropy\",\n",
    "    random_state=300,\n",
    "    min_samples_leaf=10,\n",
    "    # min_samples_split=20,\n",
    "    # max_depth = 3,\n",
    "    class_weight={0:1,1:10,2:10}\n",
    ")"
   ]
  },
  {
   "cell_type": "code",
   "execution_count": 27,
   "metadata": {},
   "outputs": [],
   "source": [
    "clf_impurity = tree.DecisionTreeClassifier(\n",
    "    criterion=\"entropy\",\n",
    "    random_state=300,\n",
    "    # max_leaf_nodes = 3,\n",
    "    min_impurity_decrease=0.125,\n",
    "    class_weight={0:1,1:10,2:10}\n",
    ")"
   ]
  },
  {
   "cell_type": "code",
   "execution_count": 28,
   "metadata": {},
   "outputs": [],
   "source": [
    "np.random.seed(0)\n",
    "indices = np.random.permutation(len(iris.data))\n",
    "\n",
    "# We now decide to keep the last 10 indices for test set, the remaining for the training set\n",
    "indices_training=indices[:-30]\n",
    "indices_test=indices[-30:]\n",
    "\n",
    "iris_X_train = iris.data[indices_training] # keep for training all the matrix elements with the exception of the last 10 \n",
    "iris_y_train = iris.target[indices_training]\n",
    "iris_X_test  = iris.data[indices_test] # keep the last 10 elements for test set\n",
    "iris_y_test  = iris.target[indices_test]"
   ]
  },
  {
   "cell_type": "markdown",
   "metadata": {},
   "source": [
    "##### Fit del modello"
   ]
  },
  {
   "cell_type": "code",
   "execution_count": 29,
   "metadata": {},
   "outputs": [],
   "source": [
    "clf_leaf = clf_leaf.fit(iris_X_train, iris_y_train)"
   ]
  },
  {
   "cell_type": "code",
   "execution_count": 30,
   "metadata": {},
   "outputs": [],
   "source": [
    "clf_impurity = clf_impurity.fit(iris_X_train, iris_y_train)"
   ]
  },
  {
   "cell_type": "markdown",
   "metadata": {},
   "source": [
    "### Test del modello"
   ]
  },
  {
   "cell_type": "code",
   "execution_count": 31,
   "metadata": {},
   "outputs": [],
   "source": [
    "predicted_y_test_leaf = clf_leaf.predict(iris_X_test)"
   ]
  },
  {
   "cell_type": "code",
   "execution_count": 32,
   "metadata": {},
   "outputs": [],
   "source": [
    "predicted_y_test_impurity = clf_impurity.predict(iris_X_test)"
   ]
  },
  {
   "cell_type": "code",
   "execution_count": 33,
   "metadata": {},
   "outputs": [
    {
     "name": "stdout",
     "output_type": "stream",
     "text": [
      "Instance # 77: \n",
      "\u001b[31mPredicted: virginica\t True: versicolor\u001b[0m\n",
      "\n",
      "Instance # 70: \n",
      "\u001b[31mPredicted: virginica\t True: versicolor\u001b[0m\n",
      "\n"
     ]
    }
   ],
   "source": [
    "no_error = True\n",
    "for i in range(len(iris_y_test)): \n",
    "    color = \"\\x1b[31m\" if (predicted_y_test_leaf[i] != iris_y_test[i]) else \"\\x1b[92m\"\n",
    "    if predicted_y_test_leaf[i] != iris_y_test[i]:\n",
    "        no_error = False\n",
    "        print(\"Instance # \"+str(indices_test[i])+\": \")\n",
    "        print(color + \"Predicted: \"+iris.target_names[predicted_y_test_leaf[i]]+\"\\t True: \"+iris.target_names[iris_y_test[i]]+\"\\x1b[0m\\n\")\n",
    "\n",
    "if no_error: print(\"Nessun errore\")"
   ]
  },
  {
   "cell_type": "code",
   "execution_count": 34,
   "metadata": {},
   "outputs": [
    {
     "name": "stdout",
     "output_type": "stream",
     "text": [
      "Instance # 77: \n",
      "\u001b[31mPredicted: virginica\t True: versicolor\u001b[0m\n",
      "\n",
      "Instance # 70: \n",
      "\u001b[31mPredicted: virginica\t True: versicolor\u001b[0m\n",
      "\n"
     ]
    }
   ],
   "source": [
    "no_error = True\n",
    "for i in range(len(iris_y_test)): \n",
    "    color = \"\\x1b[31m\" if (predicted_y_test_impurity[i] != iris_y_test[i]) else \"\\x1b[92m\"\n",
    "    if predicted_y_test_impurity[i] != iris_y_test[i]:\n",
    "        no_error = False\n",
    "        print(\"Instance # \"+str(indices_test[i])+\": \")\n",
    "        print(color + \"Predicted: \"+iris.target_names[predicted_y_test_impurity[i]]+\"\\t True: \"+iris.target_names[iris_y_test[i]]+\"\\x1b[0m\\n\")\n",
    "\n",
    "if no_error: print(\"Nessun errore\")"
   ]
  },
  {
   "cell_type": "code",
   "execution_count": 35,
   "metadata": {},
   "outputs": [
    {
     "data": {
      "image/svg+xml": [
       "<?xml version=\"1.0\" encoding=\"UTF-8\" standalone=\"no\"?>\n",
       "<!DOCTYPE svg PUBLIC \"-//W3C//DTD SVG 1.1//EN\"\n",
       " \"http://www.w3.org/Graphics/SVG/1.1/DTD/svg11.dtd\">\n",
       "<!-- Generated by graphviz version 2.40.1 (20161225.0304)\n",
       " -->\n",
       "<!-- Title: Tree Pages: 1 -->\n",
       "<svg width=\"374pt\" height=\"414pt\"\n",
       " viewBox=\"0.00 0.00 373.80 414.00\" xmlns=\"http://www.w3.org/2000/svg\" xmlns:xlink=\"http://www.w3.org/1999/xlink\">\n",
       "<g id=\"graph0\" class=\"graph\" transform=\"scale(1 1) rotate(0) translate(4 410)\">\n",
       "<title>Tree</title>\n",
       "<polygon fill=\"#ffffff\" stroke=\"transparent\" points=\"-4,4 -4,-410 369.7993,-410 369.7993,4 -4,4\"/>\n",
       "<!-- 0 -->\n",
       "<g id=\"node1\" class=\"node\">\n",
       "<title>0</title>\n",
       "<path fill=\"#f9f6fe\" stroke=\"#000000\" d=\"M286.4714,-406C286.4714,-406 153.4348,-406 153.4348,-406 147.4348,-406 141.4348,-400 141.4348,-394 141.4348,-394 141.4348,-340 141.4348,-340 141.4348,-334 147.4348,-328 153.4348,-328 153.4348,-328 286.4714,-328 286.4714,-328 292.4714,-328 298.4714,-334 298.4714,-340 298.4714,-340 298.4714,-394 298.4714,-394 298.4714,-400 292.4714,-406 286.4714,-406\"/>\n",
       "<text text-anchor=\"start\" x=\"149.1943\" y=\"-390.8\" font-family=\"Helvetica,sans-Serif\" font-size=\"14.00\" fill=\"#000000\">petal width (cm) ≤ 1.65</text>\n",
       "<text text-anchor=\"start\" x=\"171.1104\" y=\"-376.8\" font-family=\"Helvetica,sans-Serif\" font-size=\"14.00\" fill=\"#000000\">entropy = 1.228</text>\n",
       "<text text-anchor=\"start\" x=\"174.231\" y=\"-362.8\" font-family=\"Helvetica,sans-Serif\" font-size=\"14.00\" fill=\"#000000\">samples = 120</text>\n",
       "<text text-anchor=\"start\" x=\"152.4277\" y=\"-348.8\" font-family=\"Helvetica,sans-Serif\" font-size=\"14.00\" fill=\"#000000\">value = [40, 390, 410]</text>\n",
       "<text text-anchor=\"start\" x=\"170.3516\" y=\"-334.8\" font-family=\"Helvetica,sans-Serif\" font-size=\"14.00\" fill=\"#000000\">class = virginica</text>\n",
       "</g>\n",
       "<!-- 1 -->\n",
       "<g id=\"node2\" class=\"node\">\n",
       "<title>1</title>\n",
       "<path fill=\"#5eea98\" stroke=\"#000000\" d=\"M208.4326,-292C208.4326,-292 69.4736,-292 69.4736,-292 63.4736,-292 57.4736,-286 57.4736,-280 57.4736,-280 57.4736,-226 57.4736,-226 57.4736,-220 63.4736,-214 69.4736,-214 69.4736,-214 208.4326,-214 208.4326,-214 214.4326,-214 220.4326,-220 220.4326,-226 220.4326,-226 220.4326,-280 220.4326,-280 220.4326,-286 214.4326,-292 208.4326,-292\"/>\n",
       "<text text-anchor=\"start\" x=\"65.4634\" y=\"-276.8\" font-family=\"Helvetica,sans-Serif\" font-size=\"14.00\" fill=\"#000000\">petal length (cm) ≤ 2.45</text>\n",
       "<text text-anchor=\"start\" x=\"90.1104\" y=\"-262.8\" font-family=\"Helvetica,sans-Serif\" font-size=\"14.00\" fill=\"#000000\">entropy = 0.828</text>\n",
       "<text text-anchor=\"start\" x=\"97.124\" y=\"-248.8\" font-family=\"Helvetica,sans-Serif\" font-size=\"14.00\" fill=\"#000000\">samples = 83</text>\n",
       "<text text-anchor=\"start\" x=\"75.3208\" y=\"-234.8\" font-family=\"Helvetica,sans-Serif\" font-size=\"14.00\" fill=\"#000000\">value = [40, 390, 40]</text>\n",
       "<text text-anchor=\"start\" x=\"85.0757\" y=\"-220.8\" font-family=\"Helvetica,sans-Serif\" font-size=\"14.00\" fill=\"#000000\">class = versicolor</text>\n",
       "</g>\n",
       "<!-- 0&#45;&gt;1 -->\n",
       "<g id=\"edge1\" class=\"edge\">\n",
       "<title>0&#45;&gt;1</title>\n",
       "<path fill=\"none\" stroke=\"#000000\" d=\"M192.0775,-327.7677C185.8409,-318.9903 179.1606,-309.5883 172.7146,-300.5161\"/>\n",
       "<polygon fill=\"#000000\" stroke=\"#000000\" points=\"175.5254,-298.4292 166.8801,-292.3046 169.8191,-302.4837 175.5254,-298.4292\"/>\n",
       "<text text-anchor=\"middle\" x=\"162.7087\" y=\"-312.7542\" font-family=\"Helvetica,sans-Serif\" font-size=\"14.00\" fill=\"#000000\">True</text>\n",
       "</g>\n",
       "<!-- 6 -->\n",
       "<g id=\"node7\" class=\"node\">\n",
       "<title>6</title>\n",
       "<path fill=\"#8139e5\" stroke=\"#000000\" d=\"M353.6459,-285C353.6459,-285 250.2604,-285 250.2604,-285 244.2604,-285 238.2604,-279 238.2604,-273 238.2604,-273 238.2604,-233 238.2604,-233 238.2604,-227 244.2604,-221 250.2604,-221 250.2604,-221 353.6459,-221 353.6459,-221 359.6459,-221 365.6459,-227 365.6459,-233 365.6459,-233 365.6459,-273 365.6459,-273 365.6459,-279 359.6459,-285 353.6459,-285\"/>\n",
       "<text text-anchor=\"start\" x=\"260.8965\" y=\"-269.8\" font-family=\"Helvetica,sans-Serif\" font-size=\"14.00\" fill=\"#000000\">entropy = 0.0</text>\n",
       "<text text-anchor=\"start\" x=\"260.124\" y=\"-255.8\" font-family=\"Helvetica,sans-Serif\" font-size=\"14.00\" fill=\"#000000\">samples = 37</text>\n",
       "<text text-anchor=\"start\" x=\"246.1069\" y=\"-241.8\" font-family=\"Helvetica,sans-Serif\" font-size=\"14.00\" fill=\"#000000\">value = [0, 0, 370]</text>\n",
       "<text text-anchor=\"start\" x=\"252.3516\" y=\"-227.8\" font-family=\"Helvetica,sans-Serif\" font-size=\"14.00\" fill=\"#000000\">class = virginica</text>\n",
       "</g>\n",
       "<!-- 0&#45;&gt;6 -->\n",
       "<g id=\"edge6\" class=\"edge\">\n",
       "<title>0&#45;&gt;6</title>\n",
       "<path fill=\"none\" stroke=\"#000000\" d=\"M248.1729,-327.7677C256.147,-316.6817 264.8377,-304.5994 272.8621,-293.4436\"/>\n",
       "<polygon fill=\"#000000\" stroke=\"#000000\" points=\"275.8475,-295.287 278.8455,-285.1252 270.1649,-291.1995 275.8475,-295.287\"/>\n",
       "<text text-anchor=\"middle\" x=\"282.8738\" y=\"-305.5985\" font-family=\"Helvetica,sans-Serif\" font-size=\"14.00\" fill=\"#000000\">False</text>\n",
       "</g>\n",
       "<!-- 2 -->\n",
       "<g id=\"node3\" class=\"node\">\n",
       "<title>2</title>\n",
       "<path fill=\"#e58139\" stroke=\"#000000\" d=\"M107.8594,-171C107.8594,-171 12.0468,-171 12.0468,-171 6.0468,-171 .0468,-165 .0468,-159 .0468,-159 .0468,-119 .0468,-119 .0468,-113 6.0468,-107 12.0468,-107 12.0468,-107 107.8594,-107 107.8594,-107 113.8594,-107 119.8594,-113 119.8594,-119 119.8594,-119 119.8594,-159 119.8594,-159 119.8594,-165 113.8594,-171 107.8594,-171\"/>\n",
       "<text text-anchor=\"start\" x=\"18.8965\" y=\"-155.8\" font-family=\"Helvetica,sans-Serif\" font-size=\"14.00\" fill=\"#000000\">entropy = 0.0</text>\n",
       "<text text-anchor=\"start\" x=\"18.124\" y=\"-141.8\" font-family=\"Helvetica,sans-Serif\" font-size=\"14.00\" fill=\"#000000\">samples = 40</text>\n",
       "<text text-anchor=\"start\" x=\"8\" y=\"-127.8\" font-family=\"Helvetica,sans-Serif\" font-size=\"14.00\" fill=\"#000000\">value = [40, 0, 0]</text>\n",
       "<text text-anchor=\"start\" x=\"15.4033\" y=\"-113.8\" font-family=\"Helvetica,sans-Serif\" font-size=\"14.00\" fill=\"#000000\">class = setosa</text>\n",
       "</g>\n",
       "<!-- 1&#45;&gt;2 -->\n",
       "<g id=\"edge2\" class=\"edge\">\n",
       "<title>1&#45;&gt;2</title>\n",
       "<path fill=\"none\" stroke=\"#000000\" d=\"M111.7658,-213.7677C104.0834,-202.6817 95.7106,-190.5994 87.9799,-179.4436\"/>\n",
       "<polygon fill=\"#000000\" stroke=\"#000000\" points=\"90.788,-177.351 82.2153,-171.1252 85.0344,-181.3381 90.788,-177.351\"/>\n",
       "</g>\n",
       "<!-- 3 -->\n",
       "<g id=\"node4\" class=\"node\">\n",
       "<title>3</title>\n",
       "<path fill=\"#4de88e\" stroke=\"#000000\" d=\"M288.4326,-178C288.4326,-178 149.4736,-178 149.4736,-178 143.4736,-178 137.4736,-172 137.4736,-166 137.4736,-166 137.4736,-112 137.4736,-112 137.4736,-106 143.4736,-100 149.4736,-100 149.4736,-100 288.4326,-100 288.4326,-100 294.4326,-100 300.4326,-106 300.4326,-112 300.4326,-112 300.4326,-166 300.4326,-166 300.4326,-172 294.4326,-178 288.4326,-178\"/>\n",
       "<text text-anchor=\"start\" x=\"145.4634\" y=\"-162.8\" font-family=\"Helvetica,sans-Serif\" font-size=\"14.00\" fill=\"#000000\">petal length (cm) ≤ 4.65</text>\n",
       "<text text-anchor=\"start\" x=\"170.1104\" y=\"-148.8\" font-family=\"Helvetica,sans-Serif\" font-size=\"14.00\" fill=\"#000000\">entropy = 0.446</text>\n",
       "<text text-anchor=\"start\" x=\"177.124\" y=\"-134.8\" font-family=\"Helvetica,sans-Serif\" font-size=\"14.00\" fill=\"#000000\">samples = 43</text>\n",
       "<text text-anchor=\"start\" x=\"159.2139\" y=\"-120.8\" font-family=\"Helvetica,sans-Serif\" font-size=\"14.00\" fill=\"#000000\">value = [0, 390, 40]</text>\n",
       "<text text-anchor=\"start\" x=\"165.0757\" y=\"-106.8\" font-family=\"Helvetica,sans-Serif\" font-size=\"14.00\" fill=\"#000000\">class = versicolor</text>\n",
       "</g>\n",
       "<!-- 1&#45;&gt;3 -->\n",
       "<g id=\"edge3\" class=\"edge\">\n",
       "<title>1&#45;&gt;3</title>\n",
       "<path fill=\"none\" stroke=\"#000000\" d=\"M166.4846,-213.7677C172.6442,-204.9903 179.242,-195.5883 185.6085,-186.5161\"/>\n",
       "<polygon fill=\"#000000\" stroke=\"#000000\" points=\"188.4916,-188.5007 191.3709,-178.3046 182.7617,-184.4797 188.4916,-188.5007\"/>\n",
       "</g>\n",
       "<!-- 4 -->\n",
       "<g id=\"node5\" class=\"node\">\n",
       "<title>4</title>\n",
       "<path fill=\"#39e581\" stroke=\"#000000\" d=\"M197.6459,-64C197.6459,-64 94.2604,-64 94.2604,-64 88.2604,-64 82.2604,-58 82.2604,-52 82.2604,-52 82.2604,-12 82.2604,-12 82.2604,-6 88.2604,0 94.2604,0 94.2604,0 197.6459,0 197.6459,0 203.6459,0 209.6459,-6 209.6459,-12 209.6459,-12 209.6459,-52 209.6459,-52 209.6459,-58 203.6459,-64 197.6459,-64\"/>\n",
       "<text text-anchor=\"start\" x=\"104.8965\" y=\"-48.8\" font-family=\"Helvetica,sans-Serif\" font-size=\"14.00\" fill=\"#000000\">entropy = 0.0</text>\n",
       "<text text-anchor=\"start\" x=\"104.124\" y=\"-34.8\" font-family=\"Helvetica,sans-Serif\" font-size=\"14.00\" fill=\"#000000\">samples = 31</text>\n",
       "<text text-anchor=\"start\" x=\"90.1069\" y=\"-20.8\" font-family=\"Helvetica,sans-Serif\" font-size=\"14.00\" fill=\"#000000\">value = [0, 310, 0]</text>\n",
       "<text text-anchor=\"start\" x=\"92.0757\" y=\"-6.8\" font-family=\"Helvetica,sans-Serif\" font-size=\"14.00\" fill=\"#000000\">class = versicolor</text>\n",
       "</g>\n",
       "<!-- 3&#45;&gt;4 -->\n",
       "<g id=\"edge4\" class=\"edge\">\n",
       "<title>3&#45;&gt;4</title>\n",
       "<path fill=\"none\" stroke=\"#000000\" d=\"M192.1851,-99.7647C186.1411,-90.9057 179.7131,-81.4838 173.6324,-72.571\"/>\n",
       "<polygon fill=\"#000000\" stroke=\"#000000\" points=\"176.4599,-70.505 167.9329,-64.2169 170.6774,-74.4501 176.4599,-70.505\"/>\n",
       "</g>\n",
       "<!-- 5 -->\n",
       "<g id=\"node6\" class=\"node\">\n",
       "<title>5</title>\n",
       "<path fill=\"#9cf2c0\" stroke=\"#000000\" d=\"M343.6459,-64C343.6459,-64 240.2604,-64 240.2604,-64 234.2604,-64 228.2604,-58 228.2604,-52 228.2604,-52 228.2604,-12 228.2604,-12 228.2604,-6 234.2604,0 240.2604,0 240.2604,0 343.6459,0 343.6459,0 349.6459,0 355.6459,-6 355.6459,-12 355.6459,-12 355.6459,-52 355.6459,-52 355.6459,-58 349.6459,-64 343.6459,-64\"/>\n",
       "<text text-anchor=\"start\" x=\"243.1104\" y=\"-48.8\" font-family=\"Helvetica,sans-Serif\" font-size=\"14.00\" fill=\"#000000\">entropy = 0.918</text>\n",
       "<text text-anchor=\"start\" x=\"250.124\" y=\"-34.8\" font-family=\"Helvetica,sans-Serif\" font-size=\"14.00\" fill=\"#000000\">samples = 12</text>\n",
       "<text text-anchor=\"start\" x=\"236.1069\" y=\"-20.8\" font-family=\"Helvetica,sans-Serif\" font-size=\"14.00\" fill=\"#000000\">value = [0, 80, 40]</text>\n",
       "<text text-anchor=\"start\" x=\"238.0757\" y=\"-6.8\" font-family=\"Helvetica,sans-Serif\" font-size=\"14.00\" fill=\"#000000\">class = versicolor</text>\n",
       "</g>\n",
       "<!-- 3&#45;&gt;5 -->\n",
       "<g id=\"edge5\" class=\"edge\">\n",
       "<title>3&#45;&gt;5</title>\n",
       "<path fill=\"none\" stroke=\"#000000\" d=\"M245.7211,-99.7647C251.7651,-90.9057 258.1932,-81.4838 264.2738,-72.571\"/>\n",
       "<polygon fill=\"#000000\" stroke=\"#000000\" points=\"267.2288,-74.4501 269.9734,-64.2169 261.4464,-70.505 267.2288,-74.4501\"/>\n",
       "</g>\n",
       "</g>\n",
       "</svg>\n"
      ],
      "text/plain": [
       "<graphviz.files.Source at 0x1a1725b320>"
      ]
     },
     "execution_count": 35,
     "metadata": {},
     "output_type": "execute_result"
    }
   ],
   "source": [
    "dot_data = tree.export_graphviz(clf_leaf, out_file=None, \n",
    "                         feature_names=iris.feature_names, \n",
    "                         class_names=iris.target_names, \n",
    "                         filled=True, rounded=True,  \n",
    "                         special_characters=True)  \n",
    "graph = graphviz.Source(dot_data)\n",
    "graph"
   ]
  },
  {
   "cell_type": "code",
   "execution_count": 36,
   "metadata": {},
   "outputs": [
    {
     "data": {
      "image/svg+xml": [
       "<?xml version=\"1.0\" encoding=\"UTF-8\" standalone=\"no\"?>\n",
       "<!DOCTYPE svg PUBLIC \"-//W3C//DTD SVG 1.1//EN\"\n",
       " \"http://www.w3.org/Graphics/SVG/1.1/DTD/svg11.dtd\">\n",
       "<!-- Generated by graphviz version 2.40.1 (20161225.0304)\n",
       " -->\n",
       "<!-- Title: Tree Pages: 1 -->\n",
       "<svg width=\"374pt\" height=\"414pt\"\n",
       " viewBox=\"0.00 0.00 373.80 414.00\" xmlns=\"http://www.w3.org/2000/svg\" xmlns:xlink=\"http://www.w3.org/1999/xlink\">\n",
       "<g id=\"graph0\" class=\"graph\" transform=\"scale(1 1) rotate(0) translate(4 410)\">\n",
       "<title>Tree</title>\n",
       "<polygon fill=\"#ffffff\" stroke=\"transparent\" points=\"-4,4 -4,-410 369.7993,-410 369.7993,4 -4,4\"/>\n",
       "<!-- 0 -->\n",
       "<g id=\"node1\" class=\"node\">\n",
       "<title>0</title>\n",
       "<path fill=\"#f9f6fe\" stroke=\"#000000\" d=\"M286.4714,-406C286.4714,-406 153.4348,-406 153.4348,-406 147.4348,-406 141.4348,-400 141.4348,-394 141.4348,-394 141.4348,-340 141.4348,-340 141.4348,-334 147.4348,-328 153.4348,-328 153.4348,-328 286.4714,-328 286.4714,-328 292.4714,-328 298.4714,-334 298.4714,-340 298.4714,-340 298.4714,-394 298.4714,-394 298.4714,-400 292.4714,-406 286.4714,-406\"/>\n",
       "<text text-anchor=\"start\" x=\"149.1943\" y=\"-390.8\" font-family=\"Helvetica,sans-Serif\" font-size=\"14.00\" fill=\"#000000\">petal width (cm) ≤ 1.65</text>\n",
       "<text text-anchor=\"start\" x=\"171.1104\" y=\"-376.8\" font-family=\"Helvetica,sans-Serif\" font-size=\"14.00\" fill=\"#000000\">entropy = 1.228</text>\n",
       "<text text-anchor=\"start\" x=\"174.231\" y=\"-362.8\" font-family=\"Helvetica,sans-Serif\" font-size=\"14.00\" fill=\"#000000\">samples = 120</text>\n",
       "<text text-anchor=\"start\" x=\"152.4277\" y=\"-348.8\" font-family=\"Helvetica,sans-Serif\" font-size=\"14.00\" fill=\"#000000\">value = [40, 390, 410]</text>\n",
       "<text text-anchor=\"start\" x=\"170.3516\" y=\"-334.8\" font-family=\"Helvetica,sans-Serif\" font-size=\"14.00\" fill=\"#000000\">class = virginica</text>\n",
       "</g>\n",
       "<!-- 1 -->\n",
       "<g id=\"node2\" class=\"node\">\n",
       "<title>1</title>\n",
       "<path fill=\"#5eea98\" stroke=\"#000000\" d=\"M208.4326,-292C208.4326,-292 69.4736,-292 69.4736,-292 63.4736,-292 57.4736,-286 57.4736,-280 57.4736,-280 57.4736,-226 57.4736,-226 57.4736,-220 63.4736,-214 69.4736,-214 69.4736,-214 208.4326,-214 208.4326,-214 214.4326,-214 220.4326,-220 220.4326,-226 220.4326,-226 220.4326,-280 220.4326,-280 220.4326,-286 214.4326,-292 208.4326,-292\"/>\n",
       "<text text-anchor=\"start\" x=\"65.4634\" y=\"-276.8\" font-family=\"Helvetica,sans-Serif\" font-size=\"14.00\" fill=\"#000000\">petal length (cm) ≤ 2.45</text>\n",
       "<text text-anchor=\"start\" x=\"90.1104\" y=\"-262.8\" font-family=\"Helvetica,sans-Serif\" font-size=\"14.00\" fill=\"#000000\">entropy = 0.828</text>\n",
       "<text text-anchor=\"start\" x=\"97.124\" y=\"-248.8\" font-family=\"Helvetica,sans-Serif\" font-size=\"14.00\" fill=\"#000000\">samples = 83</text>\n",
       "<text text-anchor=\"start\" x=\"75.3208\" y=\"-234.8\" font-family=\"Helvetica,sans-Serif\" font-size=\"14.00\" fill=\"#000000\">value = [40, 390, 40]</text>\n",
       "<text text-anchor=\"start\" x=\"85.0757\" y=\"-220.8\" font-family=\"Helvetica,sans-Serif\" font-size=\"14.00\" fill=\"#000000\">class = versicolor</text>\n",
       "</g>\n",
       "<!-- 0&#45;&gt;1 -->\n",
       "<g id=\"edge1\" class=\"edge\">\n",
       "<title>0&#45;&gt;1</title>\n",
       "<path fill=\"none\" stroke=\"#000000\" d=\"M192.0775,-327.7677C185.8409,-318.9903 179.1606,-309.5883 172.7146,-300.5161\"/>\n",
       "<polygon fill=\"#000000\" stroke=\"#000000\" points=\"175.5254,-298.4292 166.8801,-292.3046 169.8191,-302.4837 175.5254,-298.4292\"/>\n",
       "<text text-anchor=\"middle\" x=\"162.7087\" y=\"-312.7542\" font-family=\"Helvetica,sans-Serif\" font-size=\"14.00\" fill=\"#000000\">True</text>\n",
       "</g>\n",
       "<!-- 6 -->\n",
       "<g id=\"node7\" class=\"node\">\n",
       "<title>6</title>\n",
       "<path fill=\"#8139e5\" stroke=\"#000000\" d=\"M353.6459,-285C353.6459,-285 250.2604,-285 250.2604,-285 244.2604,-285 238.2604,-279 238.2604,-273 238.2604,-273 238.2604,-233 238.2604,-233 238.2604,-227 244.2604,-221 250.2604,-221 250.2604,-221 353.6459,-221 353.6459,-221 359.6459,-221 365.6459,-227 365.6459,-233 365.6459,-233 365.6459,-273 365.6459,-273 365.6459,-279 359.6459,-285 353.6459,-285\"/>\n",
       "<text text-anchor=\"start\" x=\"260.8965\" y=\"-269.8\" font-family=\"Helvetica,sans-Serif\" font-size=\"14.00\" fill=\"#000000\">entropy = 0.0</text>\n",
       "<text text-anchor=\"start\" x=\"260.124\" y=\"-255.8\" font-family=\"Helvetica,sans-Serif\" font-size=\"14.00\" fill=\"#000000\">samples = 37</text>\n",
       "<text text-anchor=\"start\" x=\"246.1069\" y=\"-241.8\" font-family=\"Helvetica,sans-Serif\" font-size=\"14.00\" fill=\"#000000\">value = [0, 0, 370]</text>\n",
       "<text text-anchor=\"start\" x=\"252.3516\" y=\"-227.8\" font-family=\"Helvetica,sans-Serif\" font-size=\"14.00\" fill=\"#000000\">class = virginica</text>\n",
       "</g>\n",
       "<!-- 0&#45;&gt;6 -->\n",
       "<g id=\"edge6\" class=\"edge\">\n",
       "<title>0&#45;&gt;6</title>\n",
       "<path fill=\"none\" stroke=\"#000000\" d=\"M248.1729,-327.7677C256.147,-316.6817 264.8377,-304.5994 272.8621,-293.4436\"/>\n",
       "<polygon fill=\"#000000\" stroke=\"#000000\" points=\"275.8475,-295.287 278.8455,-285.1252 270.1649,-291.1995 275.8475,-295.287\"/>\n",
       "<text text-anchor=\"middle\" x=\"282.8738\" y=\"-305.5985\" font-family=\"Helvetica,sans-Serif\" font-size=\"14.00\" fill=\"#000000\">False</text>\n",
       "</g>\n",
       "<!-- 2 -->\n",
       "<g id=\"node3\" class=\"node\">\n",
       "<title>2</title>\n",
       "<path fill=\"#e58139\" stroke=\"#000000\" d=\"M107.8594,-171C107.8594,-171 12.0468,-171 12.0468,-171 6.0468,-171 .0468,-165 .0468,-159 .0468,-159 .0468,-119 .0468,-119 .0468,-113 6.0468,-107 12.0468,-107 12.0468,-107 107.8594,-107 107.8594,-107 113.8594,-107 119.8594,-113 119.8594,-119 119.8594,-119 119.8594,-159 119.8594,-159 119.8594,-165 113.8594,-171 107.8594,-171\"/>\n",
       "<text text-anchor=\"start\" x=\"18.8965\" y=\"-155.8\" font-family=\"Helvetica,sans-Serif\" font-size=\"14.00\" fill=\"#000000\">entropy = 0.0</text>\n",
       "<text text-anchor=\"start\" x=\"18.124\" y=\"-141.8\" font-family=\"Helvetica,sans-Serif\" font-size=\"14.00\" fill=\"#000000\">samples = 40</text>\n",
       "<text text-anchor=\"start\" x=\"8\" y=\"-127.8\" font-family=\"Helvetica,sans-Serif\" font-size=\"14.00\" fill=\"#000000\">value = [40, 0, 0]</text>\n",
       "<text text-anchor=\"start\" x=\"15.4033\" y=\"-113.8\" font-family=\"Helvetica,sans-Serif\" font-size=\"14.00\" fill=\"#000000\">class = setosa</text>\n",
       "</g>\n",
       "<!-- 1&#45;&gt;2 -->\n",
       "<g id=\"edge2\" class=\"edge\">\n",
       "<title>1&#45;&gt;2</title>\n",
       "<path fill=\"none\" stroke=\"#000000\" d=\"M111.7658,-213.7677C104.0834,-202.6817 95.7106,-190.5994 87.9799,-179.4436\"/>\n",
       "<polygon fill=\"#000000\" stroke=\"#000000\" points=\"90.788,-177.351 82.2153,-171.1252 85.0344,-181.3381 90.788,-177.351\"/>\n",
       "</g>\n",
       "<!-- 3 -->\n",
       "<g id=\"node4\" class=\"node\">\n",
       "<title>3</title>\n",
       "<path fill=\"#4de88e\" stroke=\"#000000\" d=\"M288.4326,-178C288.4326,-178 149.4736,-178 149.4736,-178 143.4736,-178 137.4736,-172 137.4736,-166 137.4736,-166 137.4736,-112 137.4736,-112 137.4736,-106 143.4736,-100 149.4736,-100 149.4736,-100 288.4326,-100 288.4326,-100 294.4326,-100 300.4326,-106 300.4326,-112 300.4326,-112 300.4326,-166 300.4326,-166 300.4326,-172 294.4326,-178 288.4326,-178\"/>\n",
       "<text text-anchor=\"start\" x=\"145.4634\" y=\"-162.8\" font-family=\"Helvetica,sans-Serif\" font-size=\"14.00\" fill=\"#000000\">petal length (cm) ≤ 4.95</text>\n",
       "<text text-anchor=\"start\" x=\"170.1104\" y=\"-148.8\" font-family=\"Helvetica,sans-Serif\" font-size=\"14.00\" fill=\"#000000\">entropy = 0.446</text>\n",
       "<text text-anchor=\"start\" x=\"177.124\" y=\"-134.8\" font-family=\"Helvetica,sans-Serif\" font-size=\"14.00\" fill=\"#000000\">samples = 43</text>\n",
       "<text text-anchor=\"start\" x=\"159.2139\" y=\"-120.8\" font-family=\"Helvetica,sans-Serif\" font-size=\"14.00\" fill=\"#000000\">value = [0, 390, 40]</text>\n",
       "<text text-anchor=\"start\" x=\"165.0757\" y=\"-106.8\" font-family=\"Helvetica,sans-Serif\" font-size=\"14.00\" fill=\"#000000\">class = versicolor</text>\n",
       "</g>\n",
       "<!-- 1&#45;&gt;3 -->\n",
       "<g id=\"edge3\" class=\"edge\">\n",
       "<title>1&#45;&gt;3</title>\n",
       "<path fill=\"none\" stroke=\"#000000\" d=\"M166.4846,-213.7677C172.6442,-204.9903 179.242,-195.5883 185.6085,-186.5161\"/>\n",
       "<polygon fill=\"#000000\" stroke=\"#000000\" points=\"188.4916,-188.5007 191.3709,-178.3046 182.7617,-184.4797 188.4916,-188.5007\"/>\n",
       "</g>\n",
       "<!-- 4 -->\n",
       "<g id=\"node5\" class=\"node\">\n",
       "<title>4</title>\n",
       "<path fill=\"#39e581\" stroke=\"#000000\" d=\"M197.6459,-64C197.6459,-64 94.2604,-64 94.2604,-64 88.2604,-64 82.2604,-58 82.2604,-52 82.2604,-52 82.2604,-12 82.2604,-12 82.2604,-6 88.2604,0 94.2604,0 94.2604,0 197.6459,0 197.6459,0 203.6459,0 209.6459,-6 209.6459,-12 209.6459,-12 209.6459,-52 209.6459,-52 209.6459,-58 203.6459,-64 197.6459,-64\"/>\n",
       "<text text-anchor=\"start\" x=\"104.8965\" y=\"-48.8\" font-family=\"Helvetica,sans-Serif\" font-size=\"14.00\" fill=\"#000000\">entropy = 0.0</text>\n",
       "<text text-anchor=\"start\" x=\"104.124\" y=\"-34.8\" font-family=\"Helvetica,sans-Serif\" font-size=\"14.00\" fill=\"#000000\">samples = 38</text>\n",
       "<text text-anchor=\"start\" x=\"90.1069\" y=\"-20.8\" font-family=\"Helvetica,sans-Serif\" font-size=\"14.00\" fill=\"#000000\">value = [0, 380, 0]</text>\n",
       "<text text-anchor=\"start\" x=\"92.0757\" y=\"-6.8\" font-family=\"Helvetica,sans-Serif\" font-size=\"14.00\" fill=\"#000000\">class = versicolor</text>\n",
       "</g>\n",
       "<!-- 3&#45;&gt;4 -->\n",
       "<g id=\"edge4\" class=\"edge\">\n",
       "<title>3&#45;&gt;4</title>\n",
       "<path fill=\"none\" stroke=\"#000000\" d=\"M192.1851,-99.7647C186.1411,-90.9057 179.7131,-81.4838 173.6324,-72.571\"/>\n",
       "<polygon fill=\"#000000\" stroke=\"#000000\" points=\"176.4599,-70.505 167.9329,-64.2169 170.6774,-74.4501 176.4599,-70.505\"/>\n",
       "</g>\n",
       "<!-- 5 -->\n",
       "<g id=\"node6\" class=\"node\">\n",
       "<title>5</title>\n",
       "<path fill=\"#a06aec\" stroke=\"#000000\" d=\"M343.6459,-64C343.6459,-64 240.2604,-64 240.2604,-64 234.2604,-64 228.2604,-58 228.2604,-52 228.2604,-52 228.2604,-12 228.2604,-12 228.2604,-6 234.2604,0 240.2604,0 240.2604,0 343.6459,0 343.6459,0 349.6459,0 355.6459,-6 355.6459,-12 355.6459,-12 355.6459,-52 355.6459,-52 355.6459,-58 349.6459,-64 343.6459,-64\"/>\n",
       "<text text-anchor=\"start\" x=\"243.1104\" y=\"-48.8\" font-family=\"Helvetica,sans-Serif\" font-size=\"14.00\" fill=\"#000000\">entropy = 0.722</text>\n",
       "<text text-anchor=\"start\" x=\"254.0171\" y=\"-34.8\" font-family=\"Helvetica,sans-Serif\" font-size=\"14.00\" fill=\"#000000\">samples = 5</text>\n",
       "<text text-anchor=\"start\" x=\"236.1069\" y=\"-20.8\" font-family=\"Helvetica,sans-Serif\" font-size=\"14.00\" fill=\"#000000\">value = [0, 10, 40]</text>\n",
       "<text text-anchor=\"start\" x=\"242.3516\" y=\"-6.8\" font-family=\"Helvetica,sans-Serif\" font-size=\"14.00\" fill=\"#000000\">class = virginica</text>\n",
       "</g>\n",
       "<!-- 3&#45;&gt;5 -->\n",
       "<g id=\"edge5\" class=\"edge\">\n",
       "<title>3&#45;&gt;5</title>\n",
       "<path fill=\"none\" stroke=\"#000000\" d=\"M245.7211,-99.7647C251.7651,-90.9057 258.1932,-81.4838 264.2738,-72.571\"/>\n",
       "<polygon fill=\"#000000\" stroke=\"#000000\" points=\"267.2288,-74.4501 269.9734,-64.2169 261.4464,-70.505 267.2288,-74.4501\"/>\n",
       "</g>\n",
       "</g>\n",
       "</svg>\n"
      ],
      "text/plain": [
       "<graphviz.files.Source at 0x1a1725b358>"
      ]
     },
     "execution_count": 36,
     "metadata": {},
     "output_type": "execute_result"
    }
   ],
   "source": [
    "dot_data = tree.export_graphviz(clf_impurity, out_file=None, \n",
    "                         feature_names=iris.feature_names, \n",
    "                         class_names=iris.target_names, \n",
    "                         filled=True, rounded=True,  \n",
    "                         special_characters=True)  \n",
    "graph = graphviz.Source(dot_data)\n",
    "graph"
   ]
  },
  {
   "cell_type": "markdown",
   "metadata": {},
   "source": [
    "- Chiaramente questi due alberi sono in grado di generalizzare meglio"
   ]
  },
  {
   "cell_type": "markdown",
   "metadata": {},
   "source": [
    "##### Cross validation"
   ]
  },
  {
   "cell_type": "code",
   "execution_count": 52,
   "metadata": {
    "scrolled": true
   },
   "outputs": [
    {
     "name": "stdout",
     "output_type": "stream",
     "text": [
      "[0.933, 0.933, 1.0, 0.933, 0.933, 0.867, 0.867, 1.0, 1.0, 1.0]\n",
      "0.947\n"
     ]
    }
   ],
   "source": [
    "iterations = 10\n",
    "scores = cross_val_score(clf_leaf, iris.data, iris.target, cv=iterations) # score=accuracy\n",
    "print([round(i,3) for i in scores])\n",
    "print(round(scores.mean(),3))"
   ]
  },
  {
   "cell_type": "code",
   "execution_count": 53,
   "metadata": {},
   "outputs": [
    {
     "name": "stdout",
     "output_type": "stream",
     "text": [
      "[0.933, 0.933, 1.0, 0.933, 0.933, 0.933, 0.867, 1.0, 1.0, 1.0]\n",
      "0.953\n"
     ]
    }
   ],
   "source": [
    "scores = cross_val_score(clf_impurity, iris.data, iris.target, cv=iterations) # score=accuracy\n",
    "print([round(i,3) for i in scores])\n",
    "print(round(scores.mean(),3))"
   ]
  },
  {
   "cell_type": "code",
   "execution_count": 39,
   "metadata": {},
   "outputs": [
    {
     "name": "stdout",
     "output_type": "stream",
     "text": [
      "[0.933, 0.933, 1.0, 0.933, 0.933, 0.867, 0.861, 1.0, 1.0, 1.0]\n"
     ]
    }
   ],
   "source": [
    "f1_scores = cross_val_score(clf_leaf, iris.data, iris.target, cv=iterations, scoring='f1_macro')\n",
    "print([round(i,3) for i in f1_scores])"
   ]
  },
  {
   "cell_type": "code",
   "execution_count": 40,
   "metadata": {},
   "outputs": [
    {
     "name": "stdout",
     "output_type": "stream",
     "text": [
      "[0.933, 0.933, 1.0, 0.933, 0.933, 0.933, 0.861, 1.0, 1.0, 1.0]\n"
     ]
    }
   ],
   "source": [
    "f1_scores = cross_val_score(clf_impurity, iris.data, iris.target, cv=iterations, scoring='f1_macro')\n",
    "print([round(i,3) for i in f1_scores])"
   ]
  },
  {
   "cell_type": "markdown",
   "metadata": {},
   "source": [
    "## 4) Build the confusion matrix of the created tree models on the test set and show them. "
   ]
  },
  {
   "cell_type": "code",
   "execution_count": 41,
   "metadata": {},
   "outputs": [],
   "source": [
    "def generate_confusion_matrix(true_value, predicted_value):\n",
    "    number_of_classes = len(np.unique(true_value)) # identifica il numero di classi diverse\n",
    "    confusion_matrix = np.zeros((number_of_classes, number_of_classes)) # inizializza la confusion matrix\n",
    "\n",
    "    for i in range(len(true_value)):\n",
    "        confusion_matrix[true_value[i], predicted_value[i]] += 1 # aggiorna la cella corretta\n",
    "\n",
    "    return confusion_matrix"
   ]
  },
  {
   "cell_type": "code",
   "execution_count": 42,
   "metadata": {},
   "outputs": [
    {
     "name": "stdout",
     "output_type": "stream",
     "text": [
      "[0 2 0 ... 1 2 0]\n",
      "[0 2 0 ... 1 2 0]\n"
     ]
    },
    {
     "data": {
      "text/plain": [
       "array([[10.,  0.,  0.],\n",
       "       [ 0.,  9.,  2.],\n",
       "       [ 0.,  0.,  9.]])"
      ]
     },
     "execution_count": 42,
     "metadata": {},
     "output_type": "execute_result"
    }
   ],
   "source": [
    "print(iris_y_test)\n",
    "print(predicted_y_test_leaf)\n",
    "generate_confusion_matrix(iris_y_test, predicted_y_test_leaf)"
   ]
  },
  {
   "cell_type": "code",
   "execution_count": 43,
   "metadata": {},
   "outputs": [
    {
     "data": {
      "text/plain": [
       "array([[10.,  0.,  0.],\n",
       "       [ 0.,  9.,  2.],\n",
       "       [ 0.,  0.,  9.]])"
      ]
     },
     "execution_count": 43,
     "metadata": {},
     "output_type": "execute_result"
    }
   ],
   "source": [
    "generate_confusion_matrix(iris_y_test, predicted_y_test_impurity)"
   ]
  },
  {
   "cell_type": "code",
   "execution_count": 44,
   "metadata": {},
   "outputs": [
    {
     "data": {
      "text/plain": [
       "array([[10,  0,  0],\n",
       "       [ 0,  9,  2],\n",
       "       [ 0,  0,  9]])"
      ]
     },
     "execution_count": 44,
     "metadata": {},
     "output_type": "execute_result"
    }
   ],
   "source": [
    "from sklearn.metrics import confusion_matrix\n",
    "\n",
    "confusion_matrix(iris_y_test, predicted_y_test_leaf)"
   ]
  },
  {
   "cell_type": "markdown",
   "metadata": {},
   "source": [
    "## 5) build the ROC curves (or coverage curves in coverage space) and plot them for each tree model you have created: for each model you have to build three curves, one for each class, considered in turn as the positive class."
   ]
  },
  {
   "cell_type": "code",
   "execution_count": 45,
   "metadata": {},
   "outputs": [],
   "source": [
    "from sklearn.metrics import roc_curve, auc\n",
    "\n",
    "# Fatto con l'aiuto del wiki di sklearn\n",
    "def roc_plot(classes, pred, actual, title):\n",
    "    fpr = dict()\n",
    "    tpr = dict()\n",
    "    roc = dict()\n",
    "    for i in range(len(classes)):\n",
    "        fpr[i], tpr[i], _ = roc_curve(actual[:, i], pred[:, i])\n",
    "        roc[i] = auc(fpr[i], tpr[i]) # area sotto la curva\n",
    "\n",
    "    colors = ['magenta', 'darkorange', 'cornflowerblue']\n",
    "    for i, color in zip(range(len(classes)), colors):\n",
    "        plt.plot(fpr[i], tpr[i], color=color,label='ROC curve of class {0} (area = {1:0.2f})'.format(i, roc[i]), marker='.')\n",
    "\n",
    "    plt.plot([0, 1], [0, 1], 'k--')\n",
    "    plt.xlim([-0.05, 1.0])\n",
    "    plt.ylim([0.0, 1.05])\n",
    "    plt.xlabel('False Positive Rate')\n",
    "    plt.ylabel('True Positive Rate')\n",
    "    plt.title(title)\n",
    "    plt.legend(loc=\"lower right\")\n",
    "    plt.show()"
   ]
  },
  {
   "cell_type": "code",
   "execution_count": 46,
   "metadata": {},
   "outputs": [
    {
     "name": "stdout",
     "output_type": "stream",
     "text": [
      "[1. 0. 0.]\n"
     ]
    }
   ],
   "source": [
    "prob = clf_leaf.predict_proba(iris_X_test)\n",
    "print(prob[0])"
   ]
  },
  {
   "cell_type": "markdown",
   "metadata": {},
   "source": [
    "`prob[0]` è una distribuzione di probabilità ed indica che, per l'albero clf_leaf:\n",
    "\n",
    "- la probabilità che appartenga alla prima classe è 0\n",
    "- la probabilità che appartenga alla seconda classe 0.9019\n",
    "- la probabilità che appartenga alla terza classe è 0.098"
   ]
  },
  {
   "cell_type": "code",
   "execution_count": 47,
   "metadata": {},
   "outputs": [
    {
     "data": {
      "image/png": "[encoded data removed]",
      "text/plain": [
       "<Figure size 432x288 with 1 Axes>"
      ]
     },
     "metadata": {
      "needs_background": "light"
     },
     "output_type": "display_data"
    }
   ],
   "source": [
    "actual_prob = np.zeros((iris_y_test.size, 3))\n",
    "for i,y in enumerate(iris_y_test):\n",
    "    actual_prob[i,y] = 1 # es. [0,0,1]\n",
    "\n",
    "roc_plot(clf_leaf.classes_, prob, actual_prob, \"ROC plot #1\")"
   ]
  },
  {
   "cell_type": "code",
   "execution_count": 48,
   "metadata": {},
   "outputs": [
    {
     "data": {
      "image/png": "[encoded data removed]",
      "text/plain": [
       "<Figure size 432x288 with 1 Axes>"
      ]
     },
     "metadata": {
      "needs_background": "light"
     },
     "output_type": "display_data"
    }
   ],
   "source": [
    "prob_i = clf_impurity.predict_proba(iris_X_test)\n",
    "actual_prob_i = np.zeros((iris_y_test.size, 3))\n",
    "for i,y in enumerate(iris_y_test):\n",
    "    actual_prob_i[i,y] = 1\n",
    "\n",
    "roc_plot(clf_impurity.classes_, prob_i, actual_prob_i, \"ROC plot #2\")"
   ]
  }
 ],
 "metadata": {
  "kernelspec": {
   "display_name": "Python 3",
   "language": "python",
   "name": "python3"
  },
  "language_info": {
   "codemirror_mode": {
    "name": "ipython",
    "version": 3
   },
   "file_extension": ".py",
   "mimetype": "text/x-python",
   "name": "python",
   "nbconvert_exporter": "python",
   "pygments_lexer": "ipython3",
   "version": "3.6.9"
  }
 },
 "nbformat": 4,
 "nbformat_minor": 2
}
