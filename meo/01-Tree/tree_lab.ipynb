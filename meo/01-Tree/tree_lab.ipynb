{
 "cells": [
  {
   "cell_type": "markdown",
   "metadata": {},
   "source": [
    "# Tree models lab"
   ]
  },
  {
   "cell_type": "code",
   "execution_count": 1,
   "metadata": {},
   "outputs": [],
   "source": [
    "from sklearn import tree\n",
    "from sklearn.datasets import load_iris\n",
    "from matplotlib import pyplot as plt\n",
    "import numpy as np\n",
    "import graphviz\n",
    "from sklearn.datasets import load_iris\n",
    "import sys"
   ]
  },
  {
   "cell_type": "code",
   "execution_count": 2,
   "metadata": {},
   "outputs": [],
   "source": [
    "#np.set_printoptions(threshold=sys.maxsize)\n",
    "np.set_printoptions(threshold=20)"
   ]
  },
  {
   "cell_type": "code",
   "execution_count": 3,
   "metadata": {},
   "outputs": [],
   "source": [
    "iris = load_iris()"
   ]
  },
  {
   "cell_type": "markdown",
   "metadata": {},
   "source": [
    "## 1) Get an artificial inflation of some class in the training set by a given factor: 10 (weigh more the classes virginica e versicolor which are more difficult to discriminate). Learn the tree in these conditions"
   ]
  },
  {
   "cell_type": "code",
   "execution_count": 4,
   "metadata": {},
   "outputs": [],
   "source": [
    "INFLATION = 10\n",
    "# label = 0 = setosa\n",
    "# label = 1 = versicolor\n",
    "# label = 2 = virginica"
   ]
  },
  {
   "cell_type": "markdown",
   "metadata": {},
   "source": [
    "###### Inflate del dataset (setosa = 50, versicolor = 500, virginica = 500)"
   ]
  },
  {
   "cell_type": "code",
   "execution_count": 5,
   "metadata": {},
   "outputs": [],
   "source": [
    "#Per ogni esempio setosa vogliamo aggiungere 10 esempi virginica e versicolor\n",
    "def inflate_class(label):\n",
    "    size = len(iris.data) // 3 # flooring division: 150 // 3\n",
    "    indices = np.arange(size*label, size*(label + 1)) # indici del dataset che contengono gli elementi della classe \"label\"\n",
    "    return np.repeat(indices, INFLATION)"
   ]
  },
  {
   "cell_type": "code",
   "execution_count": 6,
   "metadata": {},
   "outputs": [],
   "source": [
    "iris_setosa_indices = np.arange(0, 50) # 50\n",
    "iris_versicolor_indices_inflated = inflate_class(label=1) # 50*10\n",
    "iris_virginica_indices_inflated = inflate_class(label=2) # 50*10\n",
    "\n",
    "iris_indices_inflated = np.concatenate([\n",
    "    iris_setosa_indices,\n",
    "    iris_versicolor_indices_inflated,\n",
    "    iris_virginica_indices_inflated]) # len = 1050"
   ]
  },
  {
   "cell_type": "markdown",
   "metadata": {},
   "source": [
    "###### Randomizziamo gli indici e li suddividiamo tra training set (70%) e test set (circa 30%)"
   ]
  },
  {
   "cell_type": "code",
   "execution_count": 7,
   "metadata": {},
   "outputs": [],
   "source": [
    "np.random.shuffle(iris_indices_inflated)\n",
    "\n",
    "indices_training=iris_indices_inflated[:-300]\n",
    "indices_test=iris_indices_inflated[-300:]\n",
    "\n",
    "iris_X_train = iris.data[indices_training]\n",
    "iris_y_train = iris.target[indices_training]\n",
    "iris_X_test  = iris.data[indices_test]\n",
    "iris_y_test  = iris.target[indices_test]"
   ]
  },
  {
   "cell_type": "code",
   "execution_count": 8,
   "metadata": {},
   "outputs": [
    {
     "name": "stdout",
     "output_type": "stream",
     "text": [
      "[0 1 2 3 4 5 6 7 8 9]\n",
      "[0 1 2 3 4 5 6]\n",
      "[7 8 9]\n"
     ]
    }
   ],
   "source": [
    "x = np.arange(10); print(x); print(x[:-3]); print(x[-3:]) # prova"
   ]
  },
  {
   "cell_type": "markdown",
   "metadata": {},
   "source": [
    "##### Dichiarazione del classificatore"
   ]
  },
  {
   "cell_type": "code",
   "execution_count": 9,
   "metadata": {},
   "outputs": [],
   "source": [
    "clf = tree.DecisionTreeClassifier(\n",
    "    criterion=\"entropy\",\n",
    "    random_state=300,\n",
    "    min_samples_leaf=5,\n",
    "    class_weight={0:1,1:1,2:1}\n",
    ")"
   ]
  },
  {
   "cell_type": "markdown",
   "metadata": {},
   "source": [
    "##### Fit del modello"
   ]
  },
  {
   "cell_type": "code",
   "execution_count": 10,
   "metadata": {},
   "outputs": [],
   "source": [
    "clf = clf.fit(iris_X_train, iris_y_train)"
   ]
  },
  {
   "cell_type": "markdown",
   "metadata": {},
   "source": [
    "### Test del modello"
   ]
  },
  {
   "cell_type": "code",
   "execution_count": 11,
   "metadata": {},
   "outputs": [],
   "source": [
    "predicted_y_test = clf.predict(iris_X_test)"
   ]
  },
  {
   "cell_type": "code",
   "execution_count": 12,
   "metadata": {},
   "outputs": [
    {
     "name": "stdout",
     "output_type": "stream",
     "text": [
      "Nessun errore\n"
     ]
    }
   ],
   "source": [
    "no_error = True\n",
    "for i in range(len(iris_y_test)): \n",
    "    # print(\"Instance # \"+str(indices_test[i])+\": \")\n",
    "    color = \"\\x1b[31m\" if (predicted_y_test[i] != iris_y_test[i]) else \"\\x1b[92m\"\n",
    "    if predicted_y_test[i] != iris_y_test[i]:\n",
    "        no_error = False\n",
    "        print(color + \"Predicted: \"+iris.target_names[predicted_y_test[i]]+\"\\t True: \"+iris.target_names[iris_y_test[i]]+\"\\x1b[0m\\n\")\n",
    "\n",
    "if no_error: print(\"Nessun errore\")"
   ]
  },
  {
   "cell_type": "markdown",
   "metadata": {},
   "source": [
    "##### Accuracy & F1 score"
   ]
  },
  {
   "cell_type": "code",
   "execution_count": 13,
   "metadata": {},
   "outputs": [
    {
     "name": "stdout",
     "output_type": "stream",
     "text": [
      "Accuracy score: 1.0\n",
      "F1 score: 1.0\n"
     ]
    }
   ],
   "source": [
    "# Print some metrics results\n",
    "from sklearn.metrics import accuracy_score\n",
    "from sklearn.metrics import f1_score\n",
    "acc_score = accuracy_score(iris_y_test, predicted_y_test)\n",
    "print(\"Accuracy score: \"+ str(acc_score))\n",
    "f1=f1_score(iris_y_test, predicted_y_test, average='macro')\n",
    "print(\"F1 score: \"+str(f1)) #f-score"
   ]
  },
  {
   "cell_type": "markdown",
   "metadata": {},
   "source": [
    "##### Cross validation"
   ]
  },
  {
   "cell_type": "code",
   "execution_count": 14,
   "metadata": {},
   "outputs": [
    {
     "name": "stdout",
     "output_type": "stream",
     "text": [
      "[1.0, 0.933, 1.0, 1.0, 0.933, 0.867, 0.867, 1.0, 1.0, 1.0]\n"
     ]
    }
   ],
   "source": [
    "from sklearn.model_selection import cross_val_score\n",
    "\n",
    "iterations = 10\n",
    "scores = cross_val_score(clf, iris.data, iris.target, cv=iterations) # score=accuracy\n",
    "print([round(i,3) for i in scores])"
   ]
  },
  {
   "cell_type": "code",
   "execution_count": 15,
   "metadata": {},
   "outputs": [
    {
     "name": "stdout",
     "output_type": "stream",
     "text": [
      "[1.0, 0.933, 1.0, 1.0, 0.933, 0.867, 0.861, 1.0, 1.0, 1.0]\n"
     ]
    }
   ],
   "source": [
    "f1_scores = cross_val_score(clf, iris.data, iris.target, cv=iterations, scoring='f1_macro')\n",
    "print([round(i,3) for i in f1_scores])"
   ]
  },
  {
   "cell_type": "code",
   "execution_count": 16,
   "metadata": {
    "scrolled": false
   },
   "outputs": [
    {
     "data": {
      "image/svg+xml": [
       "<?xml version=\"1.0\" encoding=\"UTF-8\" standalone=\"no\"?>\n",
       "<!DOCTYPE svg PUBLIC \"-//W3C//DTD SVG 1.1//EN\"\n",
       " \"http://www.w3.org/Graphics/SVG/1.1/DTD/svg11.dtd\">\n",
       "<!-- Generated by graphviz version 2.40.1 (20161225.0304)\n",
       " -->\n",
       "<!-- Title: Tree Pages: 1 -->\n",
       "<svg width=\"916pt\" height=\"642pt\"\n",
       " viewBox=\"0.00 0.00 915.80 642.00\" xmlns=\"http://www.w3.org/2000/svg\" xmlns:xlink=\"http://www.w3.org/1999/xlink\">\n",
       "<g id=\"graph0\" class=\"graph\" transform=\"scale(1 1) rotate(0) translate(4 638)\">\n",
       "<title>Tree</title>\n",
       "<polygon fill=\"#ffffff\" stroke=\"transparent\" points=\"-4,4 -4,-638 911.7993,-638 911.7993,4 -4,4\"/>\n",
       "<!-- 0 -->\n",
       "<g id=\"node1\" class=\"node\">\n",
       "<title>0</title>\n",
       "<path fill=\"#fdfffe\" stroke=\"#000000\" d=\"M375.4326,-634C375.4326,-634 236.4736,-634 236.4736,-634 230.4736,-634 224.4736,-628 224.4736,-622 224.4736,-622 224.4736,-568 224.4736,-568 224.4736,-562 230.4736,-556 236.4736,-556 236.4736,-556 375.4326,-556 375.4326,-556 381.4326,-556 387.4326,-562 387.4326,-568 387.4326,-568 387.4326,-622 387.4326,-622 387.4326,-628 381.4326,-634 375.4326,-634\"/>\n",
       "<text text-anchor=\"start\" x=\"232.4634\" y=\"-618.8\" font-family=\"Helvetica,sans-Serif\" font-size=\"14.00\" fill=\"#000000\">petal length (cm) ≤ 4.75</text>\n",
       "<text text-anchor=\"start\" x=\"261.0034\" y=\"-604.8\" font-family=\"Helvetica,sans-Serif\" font-size=\"14.00\" fill=\"#000000\">entropy = 1.23</text>\n",
       "<text text-anchor=\"start\" x=\"260.231\" y=\"-590.8\" font-family=\"Helvetica,sans-Serif\" font-size=\"14.00\" fill=\"#000000\">samples = 750</text>\n",
       "<text text-anchor=\"start\" x=\"238.4277\" y=\"-576.8\" font-family=\"Helvetica,sans-Serif\" font-size=\"14.00\" fill=\"#000000\">value = [36, 359, 355]</text>\n",
       "<text text-anchor=\"start\" x=\"252.0757\" y=\"-562.8\" font-family=\"Helvetica,sans-Serif\" font-size=\"14.00\" fill=\"#000000\">class = versicolor</text>\n",
       "</g>\n",
       "<!-- 1 -->\n",
       "<g id=\"node2\" class=\"node\">\n",
       "<title>1</title>\n",
       "<path fill=\"#54e892\" stroke=\"#000000\" d=\"M286.4326,-520C286.4326,-520 147.4736,-520 147.4736,-520 141.4736,-520 135.4736,-514 135.4736,-508 135.4736,-508 135.4736,-454 135.4736,-454 135.4736,-448 141.4736,-442 147.4736,-442 147.4736,-442 286.4326,-442 286.4326,-442 292.4326,-442 298.4326,-448 298.4326,-454 298.4326,-454 298.4326,-508 298.4326,-508 298.4326,-514 292.4326,-520 286.4326,-520\"/>\n",
       "<text text-anchor=\"start\" x=\"143.4634\" y=\"-504.8\" font-family=\"Helvetica,sans-Serif\" font-size=\"14.00\" fill=\"#000000\">petal length (cm) ≤ 2.45</text>\n",
       "<text text-anchor=\"start\" x=\"168.1104\" y=\"-490.8\" font-family=\"Helvetica,sans-Serif\" font-size=\"14.00\" fill=\"#000000\">entropy = 0.615</text>\n",
       "<text text-anchor=\"start\" x=\"171.231\" y=\"-476.8\" font-family=\"Helvetica,sans-Serif\" font-size=\"14.00\" fill=\"#000000\">samples = 364</text>\n",
       "<text text-anchor=\"start\" x=\"157.2139\" y=\"-462.8\" font-family=\"Helvetica,sans-Serif\" font-size=\"14.00\" fill=\"#000000\">value = [36, 320, 8]</text>\n",
       "<text text-anchor=\"start\" x=\"163.0757\" y=\"-448.8\" font-family=\"Helvetica,sans-Serif\" font-size=\"14.00\" fill=\"#000000\">class = versicolor</text>\n",
       "</g>\n",
       "<!-- 0&#45;&gt;1 -->\n",
       "<g id=\"edge1\" class=\"edge\">\n",
       "<title>0&#45;&gt;1</title>\n",
       "<path fill=\"none\" stroke=\"#000000\" d=\"M275.3244,-555.7677C268.4019,-546.9007 260.9819,-537.3964 253.8323,-528.2385\"/>\n",
       "<polygon fill=\"#000000\" stroke=\"#000000\" points=\"256.551,-526.0332 247.6383,-520.3046 251.0333,-530.3408 256.551,-526.0332\"/>\n",
       "<text text-anchor=\"middle\" x=\"244.5826\" y=\"-540.9172\" font-family=\"Helvetica,sans-Serif\" font-size=\"14.00\" fill=\"#000000\">True</text>\n",
       "</g>\n",
       "<!-- 6 -->\n",
       "<g id=\"node7\" class=\"node\">\n",
       "<title>6</title>\n",
       "<path fill=\"#8f4fe8\" stroke=\"#000000\" d=\"M516.4714,-520C516.4714,-520 383.4348,-520 383.4348,-520 377.4348,-520 371.4348,-514 371.4348,-508 371.4348,-508 371.4348,-454 371.4348,-454 371.4348,-448 377.4348,-442 383.4348,-442 383.4348,-442 516.4714,-442 516.4714,-442 522.4714,-442 528.4714,-448 528.4714,-454 528.4714,-454 528.4714,-508 528.4714,-508 528.4714,-514 522.4714,-520 516.4714,-520\"/>\n",
       "<text text-anchor=\"start\" x=\"379.1943\" y=\"-504.8\" font-family=\"Helvetica,sans-Serif\" font-size=\"14.00\" fill=\"#000000\">petal width (cm) ≤ 1.75</text>\n",
       "<text text-anchor=\"start\" x=\"401.1104\" y=\"-490.8\" font-family=\"Helvetica,sans-Serif\" font-size=\"14.00\" fill=\"#000000\">entropy = 0.472</text>\n",
       "<text text-anchor=\"start\" x=\"404.231\" y=\"-476.8\" font-family=\"Helvetica,sans-Serif\" font-size=\"14.00\" fill=\"#000000\">samples = 386</text>\n",
       "<text text-anchor=\"start\" x=\"390.2139\" y=\"-462.8\" font-family=\"Helvetica,sans-Serif\" font-size=\"14.00\" fill=\"#000000\">value = [0, 39, 347]</text>\n",
       "<text text-anchor=\"start\" x=\"400.3516\" y=\"-448.8\" font-family=\"Helvetica,sans-Serif\" font-size=\"14.00\" fill=\"#000000\">class = virginica</text>\n",
       "</g>\n",
       "<!-- 0&#45;&gt;6 -->\n",
       "<g id=\"edge6\" class=\"edge\">\n",
       "<title>0&#45;&gt;6</title>\n",
       "<path fill=\"none\" stroke=\"#000000\" d=\"M355.5098,-555.7677C367.3889,-546.3633 380.1738,-536.242 392.3815,-526.5775\"/>\n",
       "<polygon fill=\"#000000\" stroke=\"#000000\" points=\"394.6371,-529.2559 400.3051,-520.3046 390.2922,-523.7675 394.6371,-529.2559\"/>\n",
       "<text text-anchor=\"middle\" x=\"397.4176\" y=\"-540.9373\" font-family=\"Helvetica,sans-Serif\" font-size=\"14.00\" fill=\"#000000\">False</text>\n",
       "</g>\n",
       "<!-- 2 -->\n",
       "<g id=\"node3\" class=\"node\">\n",
       "<title>2</title>\n",
       "<path fill=\"#e58139\" stroke=\"#000000\" d=\"M107.8594,-399C107.8594,-399 12.0468,-399 12.0468,-399 6.0468,-399 .0468,-393 .0468,-387 .0468,-387 .0468,-347 .0468,-347 .0468,-341 6.0468,-335 12.0468,-335 12.0468,-335 107.8594,-335 107.8594,-335 113.8594,-335 119.8594,-341 119.8594,-347 119.8594,-347 119.8594,-387 119.8594,-387 119.8594,-393 113.8594,-399 107.8594,-399\"/>\n",
       "<text text-anchor=\"start\" x=\"18.8965\" y=\"-383.8\" font-family=\"Helvetica,sans-Serif\" font-size=\"14.00\" fill=\"#000000\">entropy = 0.0</text>\n",
       "<text text-anchor=\"start\" x=\"18.124\" y=\"-369.8\" font-family=\"Helvetica,sans-Serif\" font-size=\"14.00\" fill=\"#000000\">samples = 36</text>\n",
       "<text text-anchor=\"start\" x=\"8\" y=\"-355.8\" font-family=\"Helvetica,sans-Serif\" font-size=\"14.00\" fill=\"#000000\">value = [36, 0, 0]</text>\n",
       "<text text-anchor=\"start\" x=\"15.4033\" y=\"-341.8\" font-family=\"Helvetica,sans-Serif\" font-size=\"14.00\" fill=\"#000000\">class = setosa</text>\n",
       "</g>\n",
       "<!-- 1&#45;&gt;2 -->\n",
       "<g id=\"edge2\" class=\"edge\">\n",
       "<title>1&#45;&gt;2</title>\n",
       "<path fill=\"none\" stroke=\"#000000\" d=\"M162.9226,-441.7677C146.6073,-429.9209 128.7252,-416.9364 112.5076,-405.1606\"/>\n",
       "<polygon fill=\"#000000\" stroke=\"#000000\" points=\"114.344,-402.1687 104.1957,-399.1252 110.2311,-407.833 114.344,-402.1687\"/>\n",
       "</g>\n",
       "<!-- 3 -->\n",
       "<g id=\"node4\" class=\"node\">\n",
       "<title>3</title>\n",
       "<path fill=\"#3ee684\" stroke=\"#000000\" d=\"M283.4714,-406C283.4714,-406 150.4348,-406 150.4348,-406 144.4348,-406 138.4348,-400 138.4348,-394 138.4348,-394 138.4348,-340 138.4348,-340 138.4348,-334 144.4348,-328 150.4348,-328 150.4348,-328 283.4714,-328 283.4714,-328 289.4714,-328 295.4714,-334 295.4714,-340 295.4714,-340 295.4714,-394 295.4714,-394 295.4714,-400 289.4714,-406 283.4714,-406\"/>\n",
       "<text text-anchor=\"start\" x=\"146.1943\" y=\"-390.8\" font-family=\"Helvetica,sans-Serif\" font-size=\"14.00\" fill=\"#000000\">petal width (cm) ≤ 1.65</text>\n",
       "<text text-anchor=\"start\" x=\"168.1104\" y=\"-376.8\" font-family=\"Helvetica,sans-Serif\" font-size=\"14.00\" fill=\"#000000\">entropy = 0.165</text>\n",
       "<text text-anchor=\"start\" x=\"171.231\" y=\"-362.8\" font-family=\"Helvetica,sans-Serif\" font-size=\"14.00\" fill=\"#000000\">samples = 328</text>\n",
       "<text text-anchor=\"start\" x=\"161.1069\" y=\"-348.8\" font-family=\"Helvetica,sans-Serif\" font-size=\"14.00\" fill=\"#000000\">value = [0, 320, 8]</text>\n",
       "<text text-anchor=\"start\" x=\"163.0757\" y=\"-334.8\" font-family=\"Helvetica,sans-Serif\" font-size=\"14.00\" fill=\"#000000\">class = versicolor</text>\n",
       "</g>\n",
       "<!-- 1&#45;&gt;3 -->\n",
       "<g id=\"edge3\" class=\"edge\">\n",
       "<title>1&#45;&gt;3</title>\n",
       "<path fill=\"none\" stroke=\"#000000\" d=\"M216.9531,-441.7677C216.9531,-433.6172 216.9531,-424.9283 216.9531,-416.4649\"/>\n",
       "<polygon fill=\"#000000\" stroke=\"#000000\" points=\"220.4532,-416.3046 216.9531,-406.3046 213.4532,-416.3047 220.4532,-416.3046\"/>\n",
       "</g>\n",
       "<!-- 4 -->\n",
       "<g id=\"node5\" class=\"node\">\n",
       "<title>4</title>\n",
       "<path fill=\"#39e581\" stroke=\"#000000\" d=\"M129.6459,-285C129.6459,-285 26.2604,-285 26.2604,-285 20.2604,-285 14.2604,-279 14.2604,-273 14.2604,-273 14.2604,-233 14.2604,-233 14.2604,-227 20.2604,-221 26.2604,-221 26.2604,-221 129.6459,-221 129.6459,-221 135.6459,-221 141.6459,-227 141.6459,-233 141.6459,-233 141.6459,-273 141.6459,-273 141.6459,-279 135.6459,-285 129.6459,-285\"/>\n",
       "<text text-anchor=\"start\" x=\"36.8965\" y=\"-269.8\" font-family=\"Helvetica,sans-Serif\" font-size=\"14.00\" fill=\"#000000\">entropy = 0.0</text>\n",
       "<text text-anchor=\"start\" x=\"32.231\" y=\"-255.8\" font-family=\"Helvetica,sans-Serif\" font-size=\"14.00\" fill=\"#000000\">samples = 320</text>\n",
       "<text text-anchor=\"start\" x=\"22.1069\" y=\"-241.8\" font-family=\"Helvetica,sans-Serif\" font-size=\"14.00\" fill=\"#000000\">value = [0, 320, 0]</text>\n",
       "<text text-anchor=\"start\" x=\"24.0757\" y=\"-227.8\" font-family=\"Helvetica,sans-Serif\" font-size=\"14.00\" fill=\"#000000\">class = versicolor</text>\n",
       "</g>\n",
       "<!-- 3&#45;&gt;4 -->\n",
       "<g id=\"edge4\" class=\"edge\">\n",
       "<title>3&#45;&gt;4</title>\n",
       "<path fill=\"none\" stroke=\"#000000\" d=\"M169.1172,-327.7677C154.805,-316.0296 139.1308,-303.1745 124.8778,-291.485\"/>\n",
       "<polygon fill=\"#000000\" stroke=\"#000000\" points=\"127.075,-288.7604 117.1233,-285.1252 122.636,-294.173 127.075,-288.7604\"/>\n",
       "</g>\n",
       "<!-- 5 -->\n",
       "<g id=\"node6\" class=\"node\">\n",
       "<title>5</title>\n",
       "<path fill=\"#8139e5\" stroke=\"#000000\" d=\"M262.6564,-285C262.6564,-285 171.2498,-285 171.2498,-285 165.2498,-285 159.2498,-279 159.2498,-273 159.2498,-273 159.2498,-233 159.2498,-233 159.2498,-227 165.2498,-221 171.2498,-221 171.2498,-221 262.6564,-221 262.6564,-221 268.6564,-221 274.6564,-227 274.6564,-233 274.6564,-233 274.6564,-273 274.6564,-273 274.6564,-279 268.6564,-285 262.6564,-285\"/>\n",
       "<text text-anchor=\"start\" x=\"175.8965\" y=\"-269.8\" font-family=\"Helvetica,sans-Serif\" font-size=\"14.00\" fill=\"#000000\">entropy = 0.0</text>\n",
       "<text text-anchor=\"start\" x=\"179.0171\" y=\"-255.8\" font-family=\"Helvetica,sans-Serif\" font-size=\"14.00\" fill=\"#000000\">samples = 8</text>\n",
       "<text text-anchor=\"start\" x=\"168.8931\" y=\"-241.8\" font-family=\"Helvetica,sans-Serif\" font-size=\"14.00\" fill=\"#000000\">value = [0, 0, 8]</text>\n",
       "<text text-anchor=\"start\" x=\"167.3516\" y=\"-227.8\" font-family=\"Helvetica,sans-Serif\" font-size=\"14.00\" fill=\"#000000\">class = virginica</text>\n",
       "</g>\n",
       "<!-- 3&#45;&gt;5 -->\n",
       "<g id=\"edge5\" class=\"edge\">\n",
       "<title>3&#45;&gt;5</title>\n",
       "<path fill=\"none\" stroke=\"#000000\" d=\"M216.9531,-327.7677C216.9531,-317.3338 216.9531,-306.0174 216.9531,-295.4215\"/>\n",
       "<polygon fill=\"#000000\" stroke=\"#000000\" points=\"220.4532,-295.1252 216.9531,-285.1252 213.4532,-295.1252 220.4532,-295.1252\"/>\n",
       "</g>\n",
       "<!-- 7 -->\n",
       "<g id=\"node8\" class=\"node\">\n",
       "<title>7</title>\n",
       "<path fill=\"#fbf9fe\" stroke=\"#000000\" d=\"M519.4326,-406C519.4326,-406 380.4736,-406 380.4736,-406 374.4736,-406 368.4736,-400 368.4736,-394 368.4736,-394 368.4736,-340 368.4736,-340 368.4736,-334 374.4736,-328 380.4736,-328 380.4736,-328 519.4326,-328 519.4326,-328 525.4326,-328 531.4326,-334 531.4326,-340 531.4326,-340 531.4326,-394 531.4326,-394 531.4326,-400 525.4326,-406 519.4326,-406\"/>\n",
       "<text text-anchor=\"start\" x=\"376.4634\" y=\"-390.8\" font-family=\"Helvetica,sans-Serif\" font-size=\"14.00\" fill=\"#000000\">petal length (cm) ≤ 4.95</text>\n",
       "<text text-anchor=\"start\" x=\"408.8965\" y=\"-376.8\" font-family=\"Helvetica,sans-Serif\" font-size=\"14.00\" fill=\"#000000\">entropy = 1.0</text>\n",
       "<text text-anchor=\"start\" x=\"408.124\" y=\"-362.8\" font-family=\"Helvetica,sans-Serif\" font-size=\"14.00\" fill=\"#000000\">samples = 65</text>\n",
       "<text text-anchor=\"start\" x=\"394.1069\" y=\"-348.8\" font-family=\"Helvetica,sans-Serif\" font-size=\"14.00\" fill=\"#000000\">value = [0, 32, 33]</text>\n",
       "<text text-anchor=\"start\" x=\"400.3516\" y=\"-334.8\" font-family=\"Helvetica,sans-Serif\" font-size=\"14.00\" fill=\"#000000\">class = virginica</text>\n",
       "</g>\n",
       "<!-- 6&#45;&gt;7 -->\n",
       "<g id=\"edge7\" class=\"edge\">\n",
       "<title>6&#45;&gt;7</title>\n",
       "<path fill=\"none\" stroke=\"#000000\" d=\"M449.9531,-441.7677C449.9531,-433.6172 449.9531,-424.9283 449.9531,-416.4649\"/>\n",
       "<polygon fill=\"#000000\" stroke=\"#000000\" points=\"453.4532,-416.3046 449.9531,-406.3046 446.4532,-416.3047 453.4532,-416.3046\"/>\n",
       "</g>\n",
       "<!-- 14 -->\n",
       "<g id=\"node15\" class=\"node\">\n",
       "<title>14</title>\n",
       "<path fill=\"#843de6\" stroke=\"#000000\" d=\"M755.4326,-406C755.4326,-406 616.4736,-406 616.4736,-406 610.4736,-406 604.4736,-400 604.4736,-394 604.4736,-394 604.4736,-340 604.4736,-340 604.4736,-334 610.4736,-328 616.4736,-328 616.4736,-328 755.4326,-328 755.4326,-328 761.4326,-328 767.4326,-334 767.4326,-340 767.4326,-340 767.4326,-394 767.4326,-394 767.4326,-400 761.4326,-406 755.4326,-406\"/>\n",
       "<text text-anchor=\"start\" x=\"612.4634\" y=\"-390.8\" font-family=\"Helvetica,sans-Serif\" font-size=\"14.00\" fill=\"#000000\">petal length (cm) ≤ 4.85</text>\n",
       "<text text-anchor=\"start\" x=\"637.1104\" y=\"-376.8\" font-family=\"Helvetica,sans-Serif\" font-size=\"14.00\" fill=\"#000000\">entropy = 0.151</text>\n",
       "<text text-anchor=\"start\" x=\"640.231\" y=\"-362.8\" font-family=\"Helvetica,sans-Serif\" font-size=\"14.00\" fill=\"#000000\">samples = 321</text>\n",
       "<text text-anchor=\"start\" x=\"630.1069\" y=\"-348.8\" font-family=\"Helvetica,sans-Serif\" font-size=\"14.00\" fill=\"#000000\">value = [0, 7, 314]</text>\n",
       "<text text-anchor=\"start\" x=\"636.3516\" y=\"-334.8\" font-family=\"Helvetica,sans-Serif\" font-size=\"14.00\" fill=\"#000000\">class = virginica</text>\n",
       "</g>\n",
       "<!-- 6&#45;&gt;14 -->\n",
       "<g id=\"edge14\" class=\"edge\">\n",
       "<title>6&#45;&gt;14</title>\n",
       "<path fill=\"none\" stroke=\"#000000\" d=\"M528.5377,-443.0397C550.1042,-432.6219 573.6553,-421.2455 595.8159,-410.5409\"/>\n",
       "<polygon fill=\"#000000\" stroke=\"#000000\" points=\"597.4054,-413.6601 604.8875,-406.1588 594.3607,-407.3569 597.4054,-413.6601\"/>\n",
       "</g>\n",
       "<!-- 8 -->\n",
       "<g id=\"node9\" class=\"node\">\n",
       "<title>8</title>\n",
       "<path fill=\"#39e581\" stroke=\"#000000\" d=\"M403.7083,-285C403.7083,-285 304.198,-285 304.198,-285 298.198,-285 292.198,-279 292.198,-273 292.198,-273 292.198,-233 292.198,-233 292.198,-227 298.198,-221 304.198,-221 304.198,-221 403.7083,-221 403.7083,-221 409.7083,-221 415.7083,-227 415.7083,-233 415.7083,-233 415.7083,-273 415.7083,-273 415.7083,-279 409.7083,-285 403.7083,-285\"/>\n",
       "<text text-anchor=\"start\" x=\"312.8965\" y=\"-269.8\" font-family=\"Helvetica,sans-Serif\" font-size=\"14.00\" fill=\"#000000\">entropy = 0.0</text>\n",
       "<text text-anchor=\"start\" x=\"312.124\" y=\"-255.8\" font-family=\"Helvetica,sans-Serif\" font-size=\"14.00\" fill=\"#000000\">samples = 18</text>\n",
       "<text text-anchor=\"start\" x=\"302\" y=\"-241.8\" font-family=\"Helvetica,sans-Serif\" font-size=\"14.00\" fill=\"#000000\">value = [0, 18, 0]</text>\n",
       "<text text-anchor=\"start\" x=\"300.0757\" y=\"-227.8\" font-family=\"Helvetica,sans-Serif\" font-size=\"14.00\" fill=\"#000000\">class = versicolor</text>\n",
       "</g>\n",
       "<!-- 7&#45;&gt;8 -->\n",
       "<g id=\"edge8\" class=\"edge\">\n",
       "<title>7&#45;&gt;8</title>\n",
       "<path fill=\"none\" stroke=\"#000000\" d=\"M416.9154,-327.7677C407.3968,-316.4643 397.0059,-304.1252 387.4592,-292.7885\"/>\n",
       "<polygon fill=\"#000000\" stroke=\"#000000\" points=\"390.1245,-290.5198 381.0059,-285.1252 384.7701,-295.0288 390.1245,-290.5198\"/>\n",
       "</g>\n",
       "<!-- 9 -->\n",
       "<g id=\"node10\" class=\"node\">\n",
       "<title>9</title>\n",
       "<path fill=\"#b68df0\" stroke=\"#000000\" d=\"M579.4714,-292C579.4714,-292 446.4348,-292 446.4348,-292 440.4348,-292 434.4348,-286 434.4348,-280 434.4348,-280 434.4348,-226 434.4348,-226 434.4348,-220 440.4348,-214 446.4348,-214 446.4348,-214 579.4714,-214 579.4714,-214 585.4714,-214 591.4714,-220 591.4714,-226 591.4714,-226 591.4714,-280 591.4714,-280 591.4714,-286 585.4714,-292 579.4714,-292\"/>\n",
       "<text text-anchor=\"start\" x=\"442.1943\" y=\"-276.8\" font-family=\"Helvetica,sans-Serif\" font-size=\"14.00\" fill=\"#000000\">petal width (cm) ≤ 1.55</text>\n",
       "<text text-anchor=\"start\" x=\"464.1104\" y=\"-262.8\" font-family=\"Helvetica,sans-Serif\" font-size=\"14.00\" fill=\"#000000\">entropy = 0.879</text>\n",
       "<text text-anchor=\"start\" x=\"471.124\" y=\"-248.8\" font-family=\"Helvetica,sans-Serif\" font-size=\"14.00\" fill=\"#000000\">samples = 47</text>\n",
       "<text text-anchor=\"start\" x=\"457.1069\" y=\"-234.8\" font-family=\"Helvetica,sans-Serif\" font-size=\"14.00\" fill=\"#000000\">value = [0, 14, 33]</text>\n",
       "<text text-anchor=\"start\" x=\"463.3516\" y=\"-220.8\" font-family=\"Helvetica,sans-Serif\" font-size=\"14.00\" fill=\"#000000\">class = virginica</text>\n",
       "</g>\n",
       "<!-- 7&#45;&gt;9 -->\n",
       "<g id=\"edge9\" class=\"edge\">\n",
       "<title>7&#45;&gt;9</title>\n",
       "<path fill=\"none\" stroke=\"#000000\" d=\"M471.6342,-327.7677C476.3858,-319.1694 481.4687,-309.9718 486.387,-301.072\"/>\n",
       "<polygon fill=\"#000000\" stroke=\"#000000\" points=\"489.4586,-302.75 491.2321,-292.3046 483.3319,-299.3642 489.4586,-302.75\"/>\n",
       "</g>\n",
       "<!-- 10 -->\n",
       "<g id=\"node11\" class=\"node\">\n",
       "<title>10</title>\n",
       "<path fill=\"#8139e5\" stroke=\"#000000\" d=\"M402.8594,-171C402.8594,-171 307.0468,-171 307.0468,-171 301.0468,-171 295.0468,-165 295.0468,-159 295.0468,-159 295.0468,-119 295.0468,-119 295.0468,-113 301.0468,-107 307.0468,-107 307.0468,-107 402.8594,-107 402.8594,-107 408.8594,-107 414.8594,-113 414.8594,-119 414.8594,-119 414.8594,-159 414.8594,-159 414.8594,-165 408.8594,-171 402.8594,-171\"/>\n",
       "<text text-anchor=\"start\" x=\"313.8965\" y=\"-155.8\" font-family=\"Helvetica,sans-Serif\" font-size=\"14.00\" fill=\"#000000\">entropy = 0.0</text>\n",
       "<text text-anchor=\"start\" x=\"313.124\" y=\"-141.8\" font-family=\"Helvetica,sans-Serif\" font-size=\"14.00\" fill=\"#000000\">samples = 24</text>\n",
       "<text text-anchor=\"start\" x=\"303\" y=\"-127.8\" font-family=\"Helvetica,sans-Serif\" font-size=\"14.00\" fill=\"#000000\">value = [0, 0, 24]</text>\n",
       "<text text-anchor=\"start\" x=\"305.3516\" y=\"-113.8\" font-family=\"Helvetica,sans-Serif\" font-size=\"14.00\" fill=\"#000000\">class = virginica</text>\n",
       "</g>\n",
       "<!-- 9&#45;&gt;10 -->\n",
       "<g id=\"edge10\" class=\"edge\">\n",
       "<title>9&#45;&gt;10</title>\n",
       "<path fill=\"none\" stroke=\"#000000\" d=\"M458.5785,-213.7677C442.1593,-201.9209 424.1632,-188.9364 407.8424,-177.1606\"/>\n",
       "<polygon fill=\"#000000\" stroke=\"#000000\" points=\"409.635,-174.1381 399.4775,-171.1252 405.5391,-179.8147 409.635,-174.1381\"/>\n",
       "</g>\n",
       "<!-- 11 -->\n",
       "<g id=\"node12\" class=\"node\">\n",
       "<title>11</title>\n",
       "<path fill=\"#b8f6d2\" stroke=\"#000000\" d=\"M587.043,-178C587.043,-178 444.8633,-178 444.8633,-178 438.8633,-178 432.8633,-172 432.8633,-166 432.8633,-166 432.8633,-112 432.8633,-112 432.8633,-106 438.8633,-100 444.8633,-100 444.8633,-100 587.043,-100 587.043,-100 593.043,-100 599.043,-106 599.043,-112 599.043,-112 599.043,-166 599.043,-166 599.043,-172 593.043,-178 587.043,-178\"/>\n",
       "<text text-anchor=\"start\" x=\"440.9082\" y=\"-162.8\" font-family=\"Helvetica,sans-Serif\" font-size=\"14.00\" fill=\"#000000\">sepal length (cm) ≤ 6.95</text>\n",
       "<text text-anchor=\"start\" x=\"467.1104\" y=\"-148.8\" font-family=\"Helvetica,sans-Serif\" font-size=\"14.00\" fill=\"#000000\">entropy = 0.966</text>\n",
       "<text text-anchor=\"start\" x=\"474.124\" y=\"-134.8\" font-family=\"Helvetica,sans-Serif\" font-size=\"14.00\" fill=\"#000000\">samples = 23</text>\n",
       "<text text-anchor=\"start\" x=\"464\" y=\"-120.8\" font-family=\"Helvetica,sans-Serif\" font-size=\"14.00\" fill=\"#000000\">value = [0, 14, 9]</text>\n",
       "<text text-anchor=\"start\" x=\"462.0757\" y=\"-106.8\" font-family=\"Helvetica,sans-Serif\" font-size=\"14.00\" fill=\"#000000\">class = versicolor</text>\n",
       "</g>\n",
       "<!-- 9&#45;&gt;11 -->\n",
       "<g id=\"edge11\" class=\"edge\">\n",
       "<title>9&#45;&gt;11</title>\n",
       "<path fill=\"none\" stroke=\"#000000\" d=\"M513.9856,-213.7677C514.2,-205.6172 514.4287,-196.9283 514.6514,-188.4649\"/>\n",
       "<polygon fill=\"#000000\" stroke=\"#000000\" points=\"518.1544,-188.3933 514.9188,-178.3046 511.1568,-188.2091 518.1544,-188.3933\"/>\n",
       "</g>\n",
       "<!-- 12 -->\n",
       "<g id=\"node13\" class=\"node\">\n",
       "<title>12</title>\n",
       "<path fill=\"#39e581\" stroke=\"#000000\" d=\"M497.7083,-64C497.7083,-64 398.198,-64 398.198,-64 392.198,-64 386.198,-58 386.198,-52 386.198,-52 386.198,-12 386.198,-12 386.198,-6 392.198,0 398.198,0 398.198,0 497.7083,0 497.7083,0 503.7083,0 509.7083,-6 509.7083,-12 509.7083,-12 509.7083,-52 509.7083,-52 509.7083,-58 503.7083,-64 497.7083,-64\"/>\n",
       "<text text-anchor=\"start\" x=\"406.8965\" y=\"-48.8\" font-family=\"Helvetica,sans-Serif\" font-size=\"14.00\" fill=\"#000000\">entropy = 0.0</text>\n",
       "<text text-anchor=\"start\" x=\"406.124\" y=\"-34.8\" font-family=\"Helvetica,sans-Serif\" font-size=\"14.00\" fill=\"#000000\">samples = 14</text>\n",
       "<text text-anchor=\"start\" x=\"396\" y=\"-20.8\" font-family=\"Helvetica,sans-Serif\" font-size=\"14.00\" fill=\"#000000\">value = [0, 14, 0]</text>\n",
       "<text text-anchor=\"start\" x=\"394.0757\" y=\"-6.8\" font-family=\"Helvetica,sans-Serif\" font-size=\"14.00\" fill=\"#000000\">class = versicolor</text>\n",
       "</g>\n",
       "<!-- 11&#45;&gt;12 -->\n",
       "<g id=\"edge12\" class=\"edge\">\n",
       "<title>11&#45;&gt;12</title>\n",
       "<path fill=\"none\" stroke=\"#000000\" d=\"M491.0186,-99.7647C485.4466,-90.9971 479.5242,-81.678 473.9119,-72.8469\"/>\n",
       "<polygon fill=\"#000000\" stroke=\"#000000\" points=\"476.7451,-70.7795 468.4274,-64.2169 470.8371,-74.534 476.7451,-70.7795\"/>\n",
       "</g>\n",
       "<!-- 13 -->\n",
       "<g id=\"node14\" class=\"node\">\n",
       "<title>13</title>\n",
       "<path fill=\"#8139e5\" stroke=\"#000000\" d=\"M630.6564,-64C630.6564,-64 539.2498,-64 539.2498,-64 533.2498,-64 527.2498,-58 527.2498,-52 527.2498,-52 527.2498,-12 527.2498,-12 527.2498,-6 533.2498,0 539.2498,0 539.2498,0 630.6564,0 630.6564,0 636.6564,0 642.6564,-6 642.6564,-12 642.6564,-12 642.6564,-52 642.6564,-52 642.6564,-58 636.6564,-64 630.6564,-64\"/>\n",
       "<text text-anchor=\"start\" x=\"543.8965\" y=\"-48.8\" font-family=\"Helvetica,sans-Serif\" font-size=\"14.00\" fill=\"#000000\">entropy = 0.0</text>\n",
       "<text text-anchor=\"start\" x=\"547.0171\" y=\"-34.8\" font-family=\"Helvetica,sans-Serif\" font-size=\"14.00\" fill=\"#000000\">samples = 9</text>\n",
       "<text text-anchor=\"start\" x=\"536.8931\" y=\"-20.8\" font-family=\"Helvetica,sans-Serif\" font-size=\"14.00\" fill=\"#000000\">value = [0, 0, 9]</text>\n",
       "<text text-anchor=\"start\" x=\"535.3516\" y=\"-6.8\" font-family=\"Helvetica,sans-Serif\" font-size=\"14.00\" fill=\"#000000\">class = virginica</text>\n",
       "</g>\n",
       "<!-- 11&#45;&gt;13 -->\n",
       "<g id=\"edge13\" class=\"edge\">\n",
       "<title>11&#45;&gt;13</title>\n",
       "<path fill=\"none\" stroke=\"#000000\" d=\"M541.2544,-99.7647C546.9083,-90.9971 552.9178,-81.678 558.6126,-72.8469\"/>\n",
       "<polygon fill=\"#000000\" stroke=\"#000000\" points=\"561.6997,-74.5178 564.1778,-64.2169 555.8168,-70.7242 561.6997,-74.5178\"/>\n",
       "</g>\n",
       "<!-- 15 -->\n",
       "<g id=\"node16\" class=\"node\">\n",
       "<title>15</title>\n",
       "<path fill=\"#b58bf0\" stroke=\"#000000\" d=\"M750.295,-292C750.295,-292 621.6112,-292 621.6112,-292 615.6112,-292 609.6112,-286 609.6112,-280 609.6112,-280 609.6112,-226 609.6112,-226 609.6112,-220 615.6112,-214 621.6112,-214 621.6112,-214 750.295,-214 750.295,-214 756.295,-214 762.295,-220 762.295,-226 762.295,-226 762.295,-280 762.295,-280 762.295,-286 756.295,-292 750.295,-292\"/>\n",
       "<text text-anchor=\"start\" x=\"617.5322\" y=\"-276.8\" font-family=\"Helvetica,sans-Serif\" font-size=\"14.00\" fill=\"#000000\">sepal width (cm) ≤ 3.1</text>\n",
       "<text text-anchor=\"start\" x=\"637.1104\" y=\"-262.8\" font-family=\"Helvetica,sans-Serif\" font-size=\"14.00\" fill=\"#000000\">entropy = 0.871</text>\n",
       "<text text-anchor=\"start\" x=\"644.124\" y=\"-248.8\" font-family=\"Helvetica,sans-Serif\" font-size=\"14.00\" fill=\"#000000\">samples = 24</text>\n",
       "<text text-anchor=\"start\" x=\"634\" y=\"-234.8\" font-family=\"Helvetica,sans-Serif\" font-size=\"14.00\" fill=\"#000000\">value = [0, 7, 17]</text>\n",
       "<text text-anchor=\"start\" x=\"636.3516\" y=\"-220.8\" font-family=\"Helvetica,sans-Serif\" font-size=\"14.00\" fill=\"#000000\">class = virginica</text>\n",
       "</g>\n",
       "<!-- 14&#45;&gt;15 -->\n",
       "<g id=\"edge15\" class=\"edge\">\n",
       "<title>14&#45;&gt;15</title>\n",
       "<path fill=\"none\" stroke=\"#000000\" d=\"M685.9531,-327.7677C685.9531,-319.6172 685.9531,-310.9283 685.9531,-302.4649\"/>\n",
       "<polygon fill=\"#000000\" stroke=\"#000000\" points=\"689.4532,-302.3046 685.9531,-292.3046 682.4532,-302.3047 689.4532,-302.3046\"/>\n",
       "</g>\n",
       "<!-- 18 -->\n",
       "<g id=\"node19\" class=\"node\">\n",
       "<title>18</title>\n",
       "<path fill=\"#8139e5\" stroke=\"#000000\" d=\"M895.6459,-285C895.6459,-285 792.2604,-285 792.2604,-285 786.2604,-285 780.2604,-279 780.2604,-273 780.2604,-273 780.2604,-233 780.2604,-233 780.2604,-227 786.2604,-221 792.2604,-221 792.2604,-221 895.6459,-221 895.6459,-221 901.6459,-221 907.6459,-227 907.6459,-233 907.6459,-233 907.6459,-273 907.6459,-273 907.6459,-279 901.6459,-285 895.6459,-285\"/>\n",
       "<text text-anchor=\"start\" x=\"802.8965\" y=\"-269.8\" font-family=\"Helvetica,sans-Serif\" font-size=\"14.00\" fill=\"#000000\">entropy = 0.0</text>\n",
       "<text text-anchor=\"start\" x=\"798.231\" y=\"-255.8\" font-family=\"Helvetica,sans-Serif\" font-size=\"14.00\" fill=\"#000000\">samples = 297</text>\n",
       "<text text-anchor=\"start\" x=\"788.1069\" y=\"-241.8\" font-family=\"Helvetica,sans-Serif\" font-size=\"14.00\" fill=\"#000000\">value = [0, 0, 297]</text>\n",
       "<text text-anchor=\"start\" x=\"794.3516\" y=\"-227.8\" font-family=\"Helvetica,sans-Serif\" font-size=\"14.00\" fill=\"#000000\">class = virginica</text>\n",
       "</g>\n",
       "<!-- 14&#45;&gt;18 -->\n",
       "<g id=\"edge18\" class=\"edge\">\n",
       "<title>14&#45;&gt;18</title>\n",
       "<path fill=\"none\" stroke=\"#000000\" d=\"M740.3278,-327.7677C756.747,-315.9209 774.743,-302.9364 791.0639,-291.1606\"/>\n",
       "<polygon fill=\"#000000\" stroke=\"#000000\" points=\"793.3671,-293.8147 799.4287,-285.1252 789.2713,-288.1381 793.3671,-293.8147\"/>\n",
       "</g>\n",
       "<!-- 16 -->\n",
       "<g id=\"node17\" class=\"node\">\n",
       "<title>16</title>\n",
       "<path fill=\"#8139e5\" stroke=\"#000000\" d=\"M730.8594,-171C730.8594,-171 635.0468,-171 635.0468,-171 629.0468,-171 623.0468,-165 623.0468,-159 623.0468,-159 623.0468,-119 623.0468,-119 623.0468,-113 629.0468,-107 635.0468,-107 635.0468,-107 730.8594,-107 730.8594,-107 736.8594,-107 742.8594,-113 742.8594,-119 742.8594,-119 742.8594,-159 742.8594,-159 742.8594,-165 736.8594,-171 730.8594,-171\"/>\n",
       "<text text-anchor=\"start\" x=\"641.8965\" y=\"-155.8\" font-family=\"Helvetica,sans-Serif\" font-size=\"14.00\" fill=\"#000000\">entropy = 0.0</text>\n",
       "<text text-anchor=\"start\" x=\"641.124\" y=\"-141.8\" font-family=\"Helvetica,sans-Serif\" font-size=\"14.00\" fill=\"#000000\">samples = 17</text>\n",
       "<text text-anchor=\"start\" x=\"631\" y=\"-127.8\" font-family=\"Helvetica,sans-Serif\" font-size=\"14.00\" fill=\"#000000\">value = [0, 0, 17]</text>\n",
       "<text text-anchor=\"start\" x=\"633.3516\" y=\"-113.8\" font-family=\"Helvetica,sans-Serif\" font-size=\"14.00\" fill=\"#000000\">class = virginica</text>\n",
       "</g>\n",
       "<!-- 15&#45;&gt;16 -->\n",
       "<g id=\"edge16\" class=\"edge\">\n",
       "<title>15&#45;&gt;16</title>\n",
       "<path fill=\"none\" stroke=\"#000000\" d=\"M684.9207,-213.7677C684.6461,-203.3338 684.3483,-192.0174 684.0695,-181.4215\"/>\n",
       "<polygon fill=\"#000000\" stroke=\"#000000\" points=\"687.5605,-181.0296 683.7985,-171.1252 680.5629,-181.2138 687.5605,-181.0296\"/>\n",
       "</g>\n",
       "<!-- 17 -->\n",
       "<g id=\"node18\" class=\"node\">\n",
       "<title>17</title>\n",
       "<path fill=\"#39e581\" stroke=\"#000000\" d=\"M872.7083,-171C872.7083,-171 773.198,-171 773.198,-171 767.198,-171 761.198,-165 761.198,-159 761.198,-159 761.198,-119 761.198,-119 761.198,-113 767.198,-107 773.198,-107 773.198,-107 872.7083,-107 872.7083,-107 878.7083,-107 884.7083,-113 884.7083,-119 884.7083,-119 884.7083,-159 884.7083,-159 884.7083,-165 878.7083,-171 872.7083,-171\"/>\n",
       "<text text-anchor=\"start\" x=\"781.8965\" y=\"-155.8\" font-family=\"Helvetica,sans-Serif\" font-size=\"14.00\" fill=\"#000000\">entropy = 0.0</text>\n",
       "<text text-anchor=\"start\" x=\"785.0171\" y=\"-141.8\" font-family=\"Helvetica,sans-Serif\" font-size=\"14.00\" fill=\"#000000\">samples = 7</text>\n",
       "<text text-anchor=\"start\" x=\"774.8931\" y=\"-127.8\" font-family=\"Helvetica,sans-Serif\" font-size=\"14.00\" fill=\"#000000\">value = [0, 7, 0]</text>\n",
       "<text text-anchor=\"start\" x=\"769.0757\" y=\"-113.8\" font-family=\"Helvetica,sans-Serif\" font-size=\"14.00\" fill=\"#000000\">class = versicolor</text>\n",
       "</g>\n",
       "<!-- 15&#45;&gt;17 -->\n",
       "<g id=\"edge17\" class=\"edge\">\n",
       "<title>15&#45;&gt;17</title>\n",
       "<path fill=\"none\" stroke=\"#000000\" d=\"M733.1008,-213.7677C747.0764,-202.1383 762.3697,-189.4125 776.313,-177.81\"/>\n",
       "<polygon fill=\"#000000\" stroke=\"#000000\" points=\"778.8984,-180.2119 784.3465,-171.1252 774.421,-174.8312 778.8984,-180.2119\"/>\n",
       "</g>\n",
       "</g>\n",
       "</svg>\n"
      ],
      "text/plain": [
       "<graphviz.files.Source at 0x1a1ac2f908>"
      ]
     },
     "execution_count": 16,
     "metadata": {},
     "output_type": "execute_result"
    }
   ],
   "source": [
    "dot_data = tree.export_graphviz(clf, out_file=None, \n",
    "                         feature_names=iris.feature_names, \n",
    "                         class_names=iris.target_names, \n",
    "                         filled=True, rounded=True,  \n",
    "                         special_characters=True)  \n",
    "graph = graphviz.Source(dot_data)\n",
    "graph"
   ]
  },
  {
   "cell_type": "markdown",
   "metadata": {},
   "source": [
    "- Come vediamo la classe setosa è molto semplice da distinguere (basta una singola foglia sulla sinistra) Le altre due classi sono invece più simili e complesse da separare\n",
    "- Questo albero è sicuramente overfittato (ad esempio le foglie generalmente includono davvero pochi esempi)"
   ]
  },
  {
   "cell_type": "markdown",
   "metadata": {},
   "source": [
    "## 2) Modify the weight of some classes (set to 10 the weights for misclassification between virginica into versicolor and vice versa) and learn the tree in these conditions. You should obtain similar results as for step 1."
   ]
  },
  {
   "cell_type": "markdown",
   "metadata": {},
   "source": [
    "##### Dichiarazione del classificatore"
   ]
  },
  {
   "cell_type": "code",
   "execution_count": 17,
   "metadata": {},
   "outputs": [],
   "source": [
    "clf = tree.DecisionTreeClassifier(\n",
    "    criterion=\"entropy\",\n",
    "    random_state=300,\n",
    "    min_samples_leaf=5,\n",
    "    class_weight={0:1,1:10,2:10}\n",
    ")"
   ]
  },
  {
   "cell_type": "code",
   "execution_count": 18,
   "metadata": {},
   "outputs": [],
   "source": [
    "np.random.seed(0)\n",
    "indices = np.random.permutation(len(iris.data))\n",
    "\n",
    "# We now decide to keep the last 10 indices for test set, the remaining for the training set\n",
    "indices_training=indices[:-30]\n",
    "indices_test=indices[-30:]\n",
    "\n",
    "iris_X_train = iris.data[indices_training] # keep for training all the matrix elements with the exception of the last 10 \n",
    "iris_y_train = iris.target[indices_training]\n",
    "iris_X_test  = iris.data[indices_test] # keep the last 10 elements for test set\n",
    "iris_y_test  = iris.target[indices_test]"
   ]
  },
  {
   "cell_type": "markdown",
   "metadata": {},
   "source": [
    "##### Fit del modello"
   ]
  },
  {
   "cell_type": "code",
   "execution_count": 19,
   "metadata": {},
   "outputs": [],
   "source": [
    "clf = clf.fit(iris_X_train, iris_y_train)"
   ]
  },
  {
   "cell_type": "markdown",
   "metadata": {},
   "source": [
    "### Test del modello"
   ]
  },
  {
   "cell_type": "code",
   "execution_count": 20,
   "metadata": {},
   "outputs": [],
   "source": [
    "predicted_y_test = clf.predict(iris_X_test)"
   ]
  },
  {
   "cell_type": "code",
   "execution_count": 21,
   "metadata": {},
   "outputs": [
    {
     "name": "stdout",
     "output_type": "stream",
     "text": [
      "Instance # 77: \n",
      "\u001b[31mPredicted: virginica\t True: versicolor\u001b[0m\n",
      "\n",
      "Instance # 70: \n",
      "\u001b[31mPredicted: virginica\t True: versicolor\u001b[0m\n",
      "\n"
     ]
    }
   ],
   "source": [
    "no_error = True\n",
    "for i in range(len(iris_y_test)): \n",
    "    color = \"\\x1b[31m\" if (predicted_y_test[i] != iris_y_test[i]) else \"\\x1b[92m\"\n",
    "    if predicted_y_test[i] != iris_y_test[i]:\n",
    "        no_error = False\n",
    "        print(\"Instance # \"+str(indices_test[i])+\": \")\n",
    "        print(color + \"Predicted: \"+iris.target_names[predicted_y_test[i]]+\"\\t True: \"+iris.target_names[iris_y_test[i]]+\"\\x1b[0m\\n\")\n",
    "\n",
    "if no_error: print(\"Nessun errore\")"
   ]
  },
  {
   "cell_type": "markdown",
   "metadata": {},
   "source": [
    "##### Accuracy & F1 score"
   ]
  },
  {
   "cell_type": "code",
   "execution_count": 22,
   "metadata": {},
   "outputs": [
    {
     "name": "stdout",
     "output_type": "stream",
     "text": [
      "Accuracy score: 0.9333333333333333\n",
      "F1 score: 0.9333333333333332\n"
     ]
    }
   ],
   "source": [
    "# Print some metrics results\n",
    "from sklearn.metrics import accuracy_score\n",
    "from sklearn.metrics import f1_score\n",
    "acc_score = accuracy_score(iris_y_test, predicted_y_test)\n",
    "print(\"Accuracy score: \"+ str(acc_score))\n",
    "f1=f1_score(iris_y_test, predicted_y_test, average='macro')\n",
    "print(\"F1 score: \"+str(f1)) #f-score"
   ]
  },
  {
   "cell_type": "markdown",
   "metadata": {},
   "source": [
    "##### Cross validation"
   ]
  },
  {
   "cell_type": "code",
   "execution_count": 23,
   "metadata": {
    "scrolled": true
   },
   "outputs": [
    {
     "name": "stdout",
     "output_type": "stream",
     "text": [
      "[1.0, 0.933, 1.0, 1.0, 0.933, 0.867, 0.867, 1.0, 1.0, 1.0]\n",
      "0.96\n"
     ]
    }
   ],
   "source": [
    "from sklearn.model_selection import cross_val_score\n",
    "\n",
    "iterations = 10\n",
    "scores = cross_val_score(clf, iris.data, iris.target, cv=iterations) # score=accuracy\n",
    "print([round(i,3) for i in scores])\n",
    "print(round(scores.mean(),3))"
   ]
  },
  {
   "cell_type": "code",
   "execution_count": 24,
   "metadata": {},
   "outputs": [
    {
     "name": "stdout",
     "output_type": "stream",
     "text": [
      "[1.0, 0.933, 1.0, 1.0, 0.933, 0.867, 0.861, 1.0, 1.0, 1.0]\n"
     ]
    }
   ],
   "source": [
    "f1_scores = cross_val_score(clf, iris.data, iris.target, cv=iterations, scoring='f1_macro')\n",
    "print([round(i,3) for i in f1_scores])"
   ]
  },
  {
   "cell_type": "code",
   "execution_count": 25,
   "metadata": {},
   "outputs": [
    {
     "data": {
      "image/svg+xml": [
       "<?xml version=\"1.0\" encoding=\"UTF-8\" standalone=\"no\"?>\n",
       "<!DOCTYPE svg PUBLIC \"-//W3C//DTD SVG 1.1//EN\"\n",
       " \"http://www.w3.org/Graphics/SVG/1.1/DTD/svg11.dtd\">\n",
       "<!-- Generated by graphviz version 2.40.1 (20161225.0304)\n",
       " -->\n",
       "<!-- Title: Tree Pages: 1 -->\n",
       "<svg width=\"374pt\" height=\"414pt\"\n",
       " viewBox=\"0.00 0.00 373.80 414.00\" xmlns=\"http://www.w3.org/2000/svg\" xmlns:xlink=\"http://www.w3.org/1999/xlink\">\n",
       "<g id=\"graph0\" class=\"graph\" transform=\"scale(1 1) rotate(0) translate(4 410)\">\n",
       "<title>Tree</title>\n",
       "<polygon fill=\"#ffffff\" stroke=\"transparent\" points=\"-4,4 -4,-410 369.7993,-410 369.7993,4 -4,4\"/>\n",
       "<!-- 0 -->\n",
       "<g id=\"node1\" class=\"node\">\n",
       "<title>0</title>\n",
       "<path fill=\"#f9f6fe\" stroke=\"#000000\" d=\"M286.4714,-406C286.4714,-406 153.4348,-406 153.4348,-406 147.4348,-406 141.4348,-400 141.4348,-394 141.4348,-394 141.4348,-340 141.4348,-340 141.4348,-334 147.4348,-328 153.4348,-328 153.4348,-328 286.4714,-328 286.4714,-328 292.4714,-328 298.4714,-334 298.4714,-340 298.4714,-340 298.4714,-394 298.4714,-394 298.4714,-400 292.4714,-406 286.4714,-406\"/>\n",
       "<text text-anchor=\"start\" x=\"149.1943\" y=\"-390.8\" font-family=\"Helvetica,sans-Serif\" font-size=\"14.00\" fill=\"#000000\">petal width (cm) ≤ 1.65</text>\n",
       "<text text-anchor=\"start\" x=\"171.1104\" y=\"-376.8\" font-family=\"Helvetica,sans-Serif\" font-size=\"14.00\" fill=\"#000000\">entropy = 1.228</text>\n",
       "<text text-anchor=\"start\" x=\"174.231\" y=\"-362.8\" font-family=\"Helvetica,sans-Serif\" font-size=\"14.00\" fill=\"#000000\">samples = 120</text>\n",
       "<text text-anchor=\"start\" x=\"152.4277\" y=\"-348.8\" font-family=\"Helvetica,sans-Serif\" font-size=\"14.00\" fill=\"#000000\">value = [40, 390, 410]</text>\n",
       "<text text-anchor=\"start\" x=\"170.3516\" y=\"-334.8\" font-family=\"Helvetica,sans-Serif\" font-size=\"14.00\" fill=\"#000000\">class = virginica</text>\n",
       "</g>\n",
       "<!-- 1 -->\n",
       "<g id=\"node2\" class=\"node\">\n",
       "<title>1</title>\n",
       "<path fill=\"#5eea98\" stroke=\"#000000\" d=\"M208.4326,-292C208.4326,-292 69.4736,-292 69.4736,-292 63.4736,-292 57.4736,-286 57.4736,-280 57.4736,-280 57.4736,-226 57.4736,-226 57.4736,-220 63.4736,-214 69.4736,-214 69.4736,-214 208.4326,-214 208.4326,-214 214.4326,-214 220.4326,-220 220.4326,-226 220.4326,-226 220.4326,-280 220.4326,-280 220.4326,-286 214.4326,-292 208.4326,-292\"/>\n",
       "<text text-anchor=\"start\" x=\"65.4634\" y=\"-276.8\" font-family=\"Helvetica,sans-Serif\" font-size=\"14.00\" fill=\"#000000\">petal length (cm) ≤ 2.45</text>\n",
       "<text text-anchor=\"start\" x=\"90.1104\" y=\"-262.8\" font-family=\"Helvetica,sans-Serif\" font-size=\"14.00\" fill=\"#000000\">entropy = 0.828</text>\n",
       "<text text-anchor=\"start\" x=\"97.124\" y=\"-248.8\" font-family=\"Helvetica,sans-Serif\" font-size=\"14.00\" fill=\"#000000\">samples = 83</text>\n",
       "<text text-anchor=\"start\" x=\"75.3208\" y=\"-234.8\" font-family=\"Helvetica,sans-Serif\" font-size=\"14.00\" fill=\"#000000\">value = [40, 390, 40]</text>\n",
       "<text text-anchor=\"start\" x=\"85.0757\" y=\"-220.8\" font-family=\"Helvetica,sans-Serif\" font-size=\"14.00\" fill=\"#000000\">class = versicolor</text>\n",
       "</g>\n",
       "<!-- 0&#45;&gt;1 -->\n",
       "<g id=\"edge1\" class=\"edge\">\n",
       "<title>0&#45;&gt;1</title>\n",
       "<path fill=\"none\" stroke=\"#000000\" d=\"M192.0775,-327.7677C185.8409,-318.9903 179.1606,-309.5883 172.7146,-300.5161\"/>\n",
       "<polygon fill=\"#000000\" stroke=\"#000000\" points=\"175.5254,-298.4292 166.8801,-292.3046 169.8191,-302.4837 175.5254,-298.4292\"/>\n",
       "<text text-anchor=\"middle\" x=\"162.7087\" y=\"-312.7542\" font-family=\"Helvetica,sans-Serif\" font-size=\"14.00\" fill=\"#000000\">True</text>\n",
       "</g>\n",
       "<!-- 6 -->\n",
       "<g id=\"node7\" class=\"node\">\n",
       "<title>6</title>\n",
       "<path fill=\"#8139e5\" stroke=\"#000000\" d=\"M353.6459,-285C353.6459,-285 250.2604,-285 250.2604,-285 244.2604,-285 238.2604,-279 238.2604,-273 238.2604,-273 238.2604,-233 238.2604,-233 238.2604,-227 244.2604,-221 250.2604,-221 250.2604,-221 353.6459,-221 353.6459,-221 359.6459,-221 365.6459,-227 365.6459,-233 365.6459,-233 365.6459,-273 365.6459,-273 365.6459,-279 359.6459,-285 353.6459,-285\"/>\n",
       "<text text-anchor=\"start\" x=\"260.8965\" y=\"-269.8\" font-family=\"Helvetica,sans-Serif\" font-size=\"14.00\" fill=\"#000000\">entropy = 0.0</text>\n",
       "<text text-anchor=\"start\" x=\"260.124\" y=\"-255.8\" font-family=\"Helvetica,sans-Serif\" font-size=\"14.00\" fill=\"#000000\">samples = 37</text>\n",
       "<text text-anchor=\"start\" x=\"246.1069\" y=\"-241.8\" font-family=\"Helvetica,sans-Serif\" font-size=\"14.00\" fill=\"#000000\">value = [0, 0, 370]</text>\n",
       "<text text-anchor=\"start\" x=\"252.3516\" y=\"-227.8\" font-family=\"Helvetica,sans-Serif\" font-size=\"14.00\" fill=\"#000000\">class = virginica</text>\n",
       "</g>\n",
       "<!-- 0&#45;&gt;6 -->\n",
       "<g id=\"edge6\" class=\"edge\">\n",
       "<title>0&#45;&gt;6</title>\n",
       "<path fill=\"none\" stroke=\"#000000\" d=\"M248.1729,-327.7677C256.147,-316.6817 264.8377,-304.5994 272.8621,-293.4436\"/>\n",
       "<polygon fill=\"#000000\" stroke=\"#000000\" points=\"275.8475,-295.287 278.8455,-285.1252 270.1649,-291.1995 275.8475,-295.287\"/>\n",
       "<text text-anchor=\"middle\" x=\"282.8738\" y=\"-305.5985\" font-family=\"Helvetica,sans-Serif\" font-size=\"14.00\" fill=\"#000000\">False</text>\n",
       "</g>\n",
       "<!-- 2 -->\n",
       "<g id=\"node3\" class=\"node\">\n",
       "<title>2</title>\n",
       "<path fill=\"#e58139\" stroke=\"#000000\" d=\"M107.8594,-171C107.8594,-171 12.0468,-171 12.0468,-171 6.0468,-171 .0468,-165 .0468,-159 .0468,-159 .0468,-119 .0468,-119 .0468,-113 6.0468,-107 12.0468,-107 12.0468,-107 107.8594,-107 107.8594,-107 113.8594,-107 119.8594,-113 119.8594,-119 119.8594,-119 119.8594,-159 119.8594,-159 119.8594,-165 113.8594,-171 107.8594,-171\"/>\n",
       "<text text-anchor=\"start\" x=\"18.8965\" y=\"-155.8\" font-family=\"Helvetica,sans-Serif\" font-size=\"14.00\" fill=\"#000000\">entropy = 0.0</text>\n",
       "<text text-anchor=\"start\" x=\"18.124\" y=\"-141.8\" font-family=\"Helvetica,sans-Serif\" font-size=\"14.00\" fill=\"#000000\">samples = 40</text>\n",
       "<text text-anchor=\"start\" x=\"8\" y=\"-127.8\" font-family=\"Helvetica,sans-Serif\" font-size=\"14.00\" fill=\"#000000\">value = [40, 0, 0]</text>\n",
       "<text text-anchor=\"start\" x=\"15.4033\" y=\"-113.8\" font-family=\"Helvetica,sans-Serif\" font-size=\"14.00\" fill=\"#000000\">class = setosa</text>\n",
       "</g>\n",
       "<!-- 1&#45;&gt;2 -->\n",
       "<g id=\"edge2\" class=\"edge\">\n",
       "<title>1&#45;&gt;2</title>\n",
       "<path fill=\"none\" stroke=\"#000000\" d=\"M111.7658,-213.7677C104.0834,-202.6817 95.7106,-190.5994 87.9799,-179.4436\"/>\n",
       "<polygon fill=\"#000000\" stroke=\"#000000\" points=\"90.788,-177.351 82.2153,-171.1252 85.0344,-181.3381 90.788,-177.351\"/>\n",
       "</g>\n",
       "<!-- 3 -->\n",
       "<g id=\"node4\" class=\"node\">\n",
       "<title>3</title>\n",
       "<path fill=\"#4de88e\" stroke=\"#000000\" d=\"M288.4326,-178C288.4326,-178 149.4736,-178 149.4736,-178 143.4736,-178 137.4736,-172 137.4736,-166 137.4736,-166 137.4736,-112 137.4736,-112 137.4736,-106 143.4736,-100 149.4736,-100 149.4736,-100 288.4326,-100 288.4326,-100 294.4326,-100 300.4326,-106 300.4326,-112 300.4326,-112 300.4326,-166 300.4326,-166 300.4326,-172 294.4326,-178 288.4326,-178\"/>\n",
       "<text text-anchor=\"start\" x=\"145.4634\" y=\"-162.8\" font-family=\"Helvetica,sans-Serif\" font-size=\"14.00\" fill=\"#000000\">petal length (cm) ≤ 4.95</text>\n",
       "<text text-anchor=\"start\" x=\"170.1104\" y=\"-148.8\" font-family=\"Helvetica,sans-Serif\" font-size=\"14.00\" fill=\"#000000\">entropy = 0.446</text>\n",
       "<text text-anchor=\"start\" x=\"177.124\" y=\"-134.8\" font-family=\"Helvetica,sans-Serif\" font-size=\"14.00\" fill=\"#000000\">samples = 43</text>\n",
       "<text text-anchor=\"start\" x=\"159.2139\" y=\"-120.8\" font-family=\"Helvetica,sans-Serif\" font-size=\"14.00\" fill=\"#000000\">value = [0, 390, 40]</text>\n",
       "<text text-anchor=\"start\" x=\"165.0757\" y=\"-106.8\" font-family=\"Helvetica,sans-Serif\" font-size=\"14.00\" fill=\"#000000\">class = versicolor</text>\n",
       "</g>\n",
       "<!-- 1&#45;&gt;3 -->\n",
       "<g id=\"edge3\" class=\"edge\">\n",
       "<title>1&#45;&gt;3</title>\n",
       "<path fill=\"none\" stroke=\"#000000\" d=\"M166.4846,-213.7677C172.6442,-204.9903 179.242,-195.5883 185.6085,-186.5161\"/>\n",
       "<polygon fill=\"#000000\" stroke=\"#000000\" points=\"188.4916,-188.5007 191.3709,-178.3046 182.7617,-184.4797 188.4916,-188.5007\"/>\n",
       "</g>\n",
       "<!-- 4 -->\n",
       "<g id=\"node5\" class=\"node\">\n",
       "<title>4</title>\n",
       "<path fill=\"#39e581\" stroke=\"#000000\" d=\"M197.6459,-64C197.6459,-64 94.2604,-64 94.2604,-64 88.2604,-64 82.2604,-58 82.2604,-52 82.2604,-52 82.2604,-12 82.2604,-12 82.2604,-6 88.2604,0 94.2604,0 94.2604,0 197.6459,0 197.6459,0 203.6459,0 209.6459,-6 209.6459,-12 209.6459,-12 209.6459,-52 209.6459,-52 209.6459,-58 203.6459,-64 197.6459,-64\"/>\n",
       "<text text-anchor=\"start\" x=\"104.8965\" y=\"-48.8\" font-family=\"Helvetica,sans-Serif\" font-size=\"14.00\" fill=\"#000000\">entropy = 0.0</text>\n",
       "<text text-anchor=\"start\" x=\"104.124\" y=\"-34.8\" font-family=\"Helvetica,sans-Serif\" font-size=\"14.00\" fill=\"#000000\">samples = 38</text>\n",
       "<text text-anchor=\"start\" x=\"90.1069\" y=\"-20.8\" font-family=\"Helvetica,sans-Serif\" font-size=\"14.00\" fill=\"#000000\">value = [0, 380, 0]</text>\n",
       "<text text-anchor=\"start\" x=\"92.0757\" y=\"-6.8\" font-family=\"Helvetica,sans-Serif\" font-size=\"14.00\" fill=\"#000000\">class = versicolor</text>\n",
       "</g>\n",
       "<!-- 3&#45;&gt;4 -->\n",
       "<g id=\"edge4\" class=\"edge\">\n",
       "<title>3&#45;&gt;4</title>\n",
       "<path fill=\"none\" stroke=\"#000000\" d=\"M192.1851,-99.7647C186.1411,-90.9057 179.7131,-81.4838 173.6324,-72.571\"/>\n",
       "<polygon fill=\"#000000\" stroke=\"#000000\" points=\"176.4599,-70.505 167.9329,-64.2169 170.6774,-74.4501 176.4599,-70.505\"/>\n",
       "</g>\n",
       "<!-- 5 -->\n",
       "<g id=\"node6\" class=\"node\">\n",
       "<title>5</title>\n",
       "<path fill=\"#a06aec\" stroke=\"#000000\" d=\"M343.6459,-64C343.6459,-64 240.2604,-64 240.2604,-64 234.2604,-64 228.2604,-58 228.2604,-52 228.2604,-52 228.2604,-12 228.2604,-12 228.2604,-6 234.2604,0 240.2604,0 240.2604,0 343.6459,0 343.6459,0 349.6459,0 355.6459,-6 355.6459,-12 355.6459,-12 355.6459,-52 355.6459,-52 355.6459,-58 349.6459,-64 343.6459,-64\"/>\n",
       "<text text-anchor=\"start\" x=\"243.1104\" y=\"-48.8\" font-family=\"Helvetica,sans-Serif\" font-size=\"14.00\" fill=\"#000000\">entropy = 0.722</text>\n",
       "<text text-anchor=\"start\" x=\"254.0171\" y=\"-34.8\" font-family=\"Helvetica,sans-Serif\" font-size=\"14.00\" fill=\"#000000\">samples = 5</text>\n",
       "<text text-anchor=\"start\" x=\"236.1069\" y=\"-20.8\" font-family=\"Helvetica,sans-Serif\" font-size=\"14.00\" fill=\"#000000\">value = [0, 10, 40]</text>\n",
       "<text text-anchor=\"start\" x=\"242.3516\" y=\"-6.8\" font-family=\"Helvetica,sans-Serif\" font-size=\"14.00\" fill=\"#000000\">class = virginica</text>\n",
       "</g>\n",
       "<!-- 3&#45;&gt;5 -->\n",
       "<g id=\"edge5\" class=\"edge\">\n",
       "<title>3&#45;&gt;5</title>\n",
       "<path fill=\"none\" stroke=\"#000000\" d=\"M245.7211,-99.7647C251.7651,-90.9057 258.1932,-81.4838 264.2738,-72.571\"/>\n",
       "<polygon fill=\"#000000\" stroke=\"#000000\" points=\"267.2288,-74.4501 269.9734,-64.2169 261.4464,-70.505 267.2288,-74.4501\"/>\n",
       "</g>\n",
       "</g>\n",
       "</svg>\n"
      ],
      "text/plain": [
       "<graphviz.files.Source at 0x1a1ac3fcc0>"
      ]
     },
     "execution_count": 25,
     "metadata": {},
     "output_type": "execute_result"
    }
   ],
   "source": [
    "dot_data = tree.export_graphviz(clf, out_file=None, \n",
    "                         feature_names=iris.feature_names, \n",
    "                         class_names=iris.target_names, \n",
    "                         filled=True, rounded=True,  \n",
    "                         special_characters=True)  \n",
    "graph = graphviz.Source(dot_data)\n",
    "graph"
   ]
  },
  {
   "cell_type": "markdown",
   "metadata": {},
   "source": [
    "- Il risultato appare già migliore rispetto al primo step"
   ]
  },
  {
   "cell_type": "markdown",
   "metadata": {},
   "source": [
    "## 3) learn trees but avoid overfitting (by improving the error on the test set) tuning the parameters on: the minimum number of samples per leaf, max depth of the tree, min_impurity_decrease parameters, max leaf nodes, etc."
   ]
  },
  {
   "cell_type": "markdown",
   "metadata": {},
   "source": [
    "##### Dichiarazione del classificatore"
   ]
  },
  {
   "cell_type": "code",
   "execution_count": 26,
   "metadata": {},
   "outputs": [],
   "source": [
    "clf_leaf = tree.DecisionTreeClassifier(\n",
    "    criterion=\"entropy\",\n",
    "    random_state=300,\n",
    "    min_samples_leaf=10,\n",
    "    # min_samples_split=20,\n",
    "    # max_depth = 3,\n",
    "    class_weight={0:1,1:10,2:10}\n",
    ")"
   ]
  },
  {
   "cell_type": "code",
   "execution_count": 27,
   "metadata": {},
   "outputs": [],
   "source": [
    "clf_impurity = tree.DecisionTreeClassifier(\n",
    "    criterion=\"entropy\",\n",
    "    random_state=300,\n",
    "    # max_leaf_nodes = 3,\n",
    "    min_impurity_decrease=0.125,\n",
    "    class_weight={0:1,1:10,2:10}\n",
    ")"
   ]
  },
  {
   "cell_type": "code",
   "execution_count": 28,
   "metadata": {},
   "outputs": [],
   "source": [
    "np.random.seed(0)\n",
    "indices = np.random.permutation(len(iris.data))\n",
    "\n",
    "# We now decide to keep the last 10 indices for test set, the remaining for the training set\n",
    "indices_training=indices[:-30]\n",
    "indices_test=indices[-30:]\n",
    "\n",
    "iris_X_train = iris.data[indices_training] # keep for training all the matrix elements with the exception of the last 10 \n",
    "iris_y_train = iris.target[indices_training]\n",
    "iris_X_test  = iris.data[indices_test] # keep the last 10 elements for test set\n",
    "iris_y_test  = iris.target[indices_test]"
   ]
  },
  {
   "cell_type": "markdown",
   "metadata": {},
   "source": [
    "##### Fit del modello"
   ]
  },
  {
   "cell_type": "code",
   "execution_count": 29,
   "metadata": {},
   "outputs": [],
   "source": [
    "clf_leaf = clf_leaf.fit(iris_X_train, iris_y_train)"
   ]
  },
  {
   "cell_type": "code",
   "execution_count": 30,
   "metadata": {},
   "outputs": [],
   "source": [
    "clf_impurity = clf_impurity.fit(iris_X_train, iris_y_train)"
   ]
  },
  {
   "cell_type": "markdown",
   "metadata": {},
   "source": [
    "### Test del modello"
   ]
  },
  {
   "cell_type": "code",
   "execution_count": 31,
   "metadata": {},
   "outputs": [],
   "source": [
    "predicted_y_test_leaf = clf_leaf.predict(iris_X_test)"
   ]
  },
  {
   "cell_type": "code",
   "execution_count": 32,
   "metadata": {},
   "outputs": [],
   "source": [
    "predicted_y_test_impurity = clf_impurity.predict(iris_X_test)"
   ]
  },
  {
   "cell_type": "code",
   "execution_count": 33,
   "metadata": {},
   "outputs": [
    {
     "name": "stdout",
     "output_type": "stream",
     "text": [
      "Instance # 77: \n",
      "\u001b[31mPredicted: virginica\t True: versicolor\u001b[0m\n",
      "\n",
      "Instance # 70: \n",
      "\u001b[31mPredicted: virginica\t True: versicolor\u001b[0m\n",
      "\n"
     ]
    }
   ],
   "source": [
    "no_error = True\n",
    "for i in range(len(iris_y_test)): \n",
    "    color = \"\\x1b[31m\" if (predicted_y_test_leaf[i] != iris_y_test[i]) else \"\\x1b[92m\"\n",
    "    if predicted_y_test_leaf[i] != iris_y_test[i]:\n",
    "        no_error = False\n",
    "        print(\"Instance # \"+str(indices_test[i])+\": \")\n",
    "        print(color + \"Predicted: \"+iris.target_names[predicted_y_test_leaf[i]]+\"\\t True: \"+iris.target_names[iris_y_test[i]]+\"\\x1b[0m\\n\")\n",
    "\n",
    "if no_error: print(\"Nessun errore\")"
   ]
  },
  {
   "cell_type": "code",
   "execution_count": 34,
   "metadata": {},
   "outputs": [
    {
     "name": "stdout",
     "output_type": "stream",
     "text": [
      "Instance # 77: \n",
      "\u001b[31mPredicted: virginica\t True: versicolor\u001b[0m\n",
      "\n",
      "Instance # 70: \n",
      "\u001b[31mPredicted: virginica\t True: versicolor\u001b[0m\n",
      "\n"
     ]
    }
   ],
   "source": [
    "no_error = True\n",
    "for i in range(len(iris_y_test)): \n",
    "    color = \"\\x1b[31m\" if (predicted_y_test_impurity[i] != iris_y_test[i]) else \"\\x1b[92m\"\n",
    "    if predicted_y_test_impurity[i] != iris_y_test[i]:\n",
    "        no_error = False\n",
    "        print(\"Instance # \"+str(indices_test[i])+\": \")\n",
    "        print(color + \"Predicted: \"+iris.target_names[predicted_y_test_impurity[i]]+\"\\t True: \"+iris.target_names[iris_y_test[i]]+\"\\x1b[0m\\n\")\n",
    "\n",
    "if no_error: print(\"Nessun errore\")"
   ]
  },
  {
   "cell_type": "code",
   "execution_count": 35,
   "metadata": {},
   "outputs": [
    {
     "data": {
      "image/svg+xml": [
       "<?xml version=\"1.0\" encoding=\"UTF-8\" standalone=\"no\"?>\n",
       "<!DOCTYPE svg PUBLIC \"-//W3C//DTD SVG 1.1//EN\"\n",
       " \"http://www.w3.org/Graphics/SVG/1.1/DTD/svg11.dtd\">\n",
       "<!-- Generated by graphviz version 2.40.1 (20161225.0304)\n",
       " -->\n",
       "<!-- Title: Tree Pages: 1 -->\n",
       "<svg width=\"374pt\" height=\"414pt\"\n",
       " viewBox=\"0.00 0.00 373.80 414.00\" xmlns=\"http://www.w3.org/2000/svg\" xmlns:xlink=\"http://www.w3.org/1999/xlink\">\n",
       "<g id=\"graph0\" class=\"graph\" transform=\"scale(1 1) rotate(0) translate(4 410)\">\n",
       "<title>Tree</title>\n",
       "<polygon fill=\"#ffffff\" stroke=\"transparent\" points=\"-4,4 -4,-410 369.7993,-410 369.7993,4 -4,4\"/>\n",
       "<!-- 0 -->\n",
       "<g id=\"node1\" class=\"node\">\n",
       "<title>0</title>\n",
       "<path fill=\"#f9f6fe\" stroke=\"#000000\" d=\"M286.4714,-406C286.4714,-406 153.4348,-406 153.4348,-406 147.4348,-406 141.4348,-400 141.4348,-394 141.4348,-394 141.4348,-340 141.4348,-340 141.4348,-334 147.4348,-328 153.4348,-328 153.4348,-328 286.4714,-328 286.4714,-328 292.4714,-328 298.4714,-334 298.4714,-340 298.4714,-340 298.4714,-394 298.4714,-394 298.4714,-400 292.4714,-406 286.4714,-406\"/>\n",
       "<text text-anchor=\"start\" x=\"149.1943\" y=\"-390.8\" font-family=\"Helvetica,sans-Serif\" font-size=\"14.00\" fill=\"#000000\">petal width (cm) ≤ 1.65</text>\n",
       "<text text-anchor=\"start\" x=\"171.1104\" y=\"-376.8\" font-family=\"Helvetica,sans-Serif\" font-size=\"14.00\" fill=\"#000000\">entropy = 1.228</text>\n",
       "<text text-anchor=\"start\" x=\"174.231\" y=\"-362.8\" font-family=\"Helvetica,sans-Serif\" font-size=\"14.00\" fill=\"#000000\">samples = 120</text>\n",
       "<text text-anchor=\"start\" x=\"152.4277\" y=\"-348.8\" font-family=\"Helvetica,sans-Serif\" font-size=\"14.00\" fill=\"#000000\">value = [40, 390, 410]</text>\n",
       "<text text-anchor=\"start\" x=\"170.3516\" y=\"-334.8\" font-family=\"Helvetica,sans-Serif\" font-size=\"14.00\" fill=\"#000000\">class = virginica</text>\n",
       "</g>\n",
       "<!-- 1 -->\n",
       "<g id=\"node2\" class=\"node\">\n",
       "<title>1</title>\n",
       "<path fill=\"#5eea98\" stroke=\"#000000\" d=\"M208.4326,-292C208.4326,-292 69.4736,-292 69.4736,-292 63.4736,-292 57.4736,-286 57.4736,-280 57.4736,-280 57.4736,-226 57.4736,-226 57.4736,-220 63.4736,-214 69.4736,-214 69.4736,-214 208.4326,-214 208.4326,-214 214.4326,-214 220.4326,-220 220.4326,-226 220.4326,-226 220.4326,-280 220.4326,-280 220.4326,-286 214.4326,-292 208.4326,-292\"/>\n",
       "<text text-anchor=\"start\" x=\"65.4634\" y=\"-276.8\" font-family=\"Helvetica,sans-Serif\" font-size=\"14.00\" fill=\"#000000\">petal length (cm) ≤ 2.45</text>\n",
       "<text text-anchor=\"start\" x=\"90.1104\" y=\"-262.8\" font-family=\"Helvetica,sans-Serif\" font-size=\"14.00\" fill=\"#000000\">entropy = 0.828</text>\n",
       "<text text-anchor=\"start\" x=\"97.124\" y=\"-248.8\" font-family=\"Helvetica,sans-Serif\" font-size=\"14.00\" fill=\"#000000\">samples = 83</text>\n",
       "<text text-anchor=\"start\" x=\"75.3208\" y=\"-234.8\" font-family=\"Helvetica,sans-Serif\" font-size=\"14.00\" fill=\"#000000\">value = [40, 390, 40]</text>\n",
       "<text text-anchor=\"start\" x=\"85.0757\" y=\"-220.8\" font-family=\"Helvetica,sans-Serif\" font-size=\"14.00\" fill=\"#000000\">class = versicolor</text>\n",
       "</g>\n",
       "<!-- 0&#45;&gt;1 -->\n",
       "<g id=\"edge1\" class=\"edge\">\n",
       "<title>0&#45;&gt;1</title>\n",
       "<path fill=\"none\" stroke=\"#000000\" d=\"M192.0775,-327.7677C185.8409,-318.9903 179.1606,-309.5883 172.7146,-300.5161\"/>\n",
       "<polygon fill=\"#000000\" stroke=\"#000000\" points=\"175.5254,-298.4292 166.8801,-292.3046 169.8191,-302.4837 175.5254,-298.4292\"/>\n",
       "<text text-anchor=\"middle\" x=\"162.7087\" y=\"-312.7542\" font-family=\"Helvetica,sans-Serif\" font-size=\"14.00\" fill=\"#000000\">True</text>\n",
       "</g>\n",
       "<!-- 6 -->\n",
       "<g id=\"node7\" class=\"node\">\n",
       "<title>6</title>\n",
       "<path fill=\"#8139e5\" stroke=\"#000000\" d=\"M353.6459,-285C353.6459,-285 250.2604,-285 250.2604,-285 244.2604,-285 238.2604,-279 238.2604,-273 238.2604,-273 238.2604,-233 238.2604,-233 238.2604,-227 244.2604,-221 250.2604,-221 250.2604,-221 353.6459,-221 353.6459,-221 359.6459,-221 365.6459,-227 365.6459,-233 365.6459,-233 365.6459,-273 365.6459,-273 365.6459,-279 359.6459,-285 353.6459,-285\"/>\n",
       "<text text-anchor=\"start\" x=\"260.8965\" y=\"-269.8\" font-family=\"Helvetica,sans-Serif\" font-size=\"14.00\" fill=\"#000000\">entropy = 0.0</text>\n",
       "<text text-anchor=\"start\" x=\"260.124\" y=\"-255.8\" font-family=\"Helvetica,sans-Serif\" font-size=\"14.00\" fill=\"#000000\">samples = 37</text>\n",
       "<text text-anchor=\"start\" x=\"246.1069\" y=\"-241.8\" font-family=\"Helvetica,sans-Serif\" font-size=\"14.00\" fill=\"#000000\">value = [0, 0, 370]</text>\n",
       "<text text-anchor=\"start\" x=\"252.3516\" y=\"-227.8\" font-family=\"Helvetica,sans-Serif\" font-size=\"14.00\" fill=\"#000000\">class = virginica</text>\n",
       "</g>\n",
       "<!-- 0&#45;&gt;6 -->\n",
       "<g id=\"edge6\" class=\"edge\">\n",
       "<title>0&#45;&gt;6</title>\n",
       "<path fill=\"none\" stroke=\"#000000\" d=\"M248.1729,-327.7677C256.147,-316.6817 264.8377,-304.5994 272.8621,-293.4436\"/>\n",
       "<polygon fill=\"#000000\" stroke=\"#000000\" points=\"275.8475,-295.287 278.8455,-285.1252 270.1649,-291.1995 275.8475,-295.287\"/>\n",
       "<text text-anchor=\"middle\" x=\"282.8738\" y=\"-305.5985\" font-family=\"Helvetica,sans-Serif\" font-size=\"14.00\" fill=\"#000000\">False</text>\n",
       "</g>\n",
       "<!-- 2 -->\n",
       "<g id=\"node3\" class=\"node\">\n",
       "<title>2</title>\n",
       "<path fill=\"#e58139\" stroke=\"#000000\" d=\"M107.8594,-171C107.8594,-171 12.0468,-171 12.0468,-171 6.0468,-171 .0468,-165 .0468,-159 .0468,-159 .0468,-119 .0468,-119 .0468,-113 6.0468,-107 12.0468,-107 12.0468,-107 107.8594,-107 107.8594,-107 113.8594,-107 119.8594,-113 119.8594,-119 119.8594,-119 119.8594,-159 119.8594,-159 119.8594,-165 113.8594,-171 107.8594,-171\"/>\n",
       "<text text-anchor=\"start\" x=\"18.8965\" y=\"-155.8\" font-family=\"Helvetica,sans-Serif\" font-size=\"14.00\" fill=\"#000000\">entropy = 0.0</text>\n",
       "<text text-anchor=\"start\" x=\"18.124\" y=\"-141.8\" font-family=\"Helvetica,sans-Serif\" font-size=\"14.00\" fill=\"#000000\">samples = 40</text>\n",
       "<text text-anchor=\"start\" x=\"8\" y=\"-127.8\" font-family=\"Helvetica,sans-Serif\" font-size=\"14.00\" fill=\"#000000\">value = [40, 0, 0]</text>\n",
       "<text text-anchor=\"start\" x=\"15.4033\" y=\"-113.8\" font-family=\"Helvetica,sans-Serif\" font-size=\"14.00\" fill=\"#000000\">class = setosa</text>\n",
       "</g>\n",
       "<!-- 1&#45;&gt;2 -->\n",
       "<g id=\"edge2\" class=\"edge\">\n",
       "<title>1&#45;&gt;2</title>\n",
       "<path fill=\"none\" stroke=\"#000000\" d=\"M111.7658,-213.7677C104.0834,-202.6817 95.7106,-190.5994 87.9799,-179.4436\"/>\n",
       "<polygon fill=\"#000000\" stroke=\"#000000\" points=\"90.788,-177.351 82.2153,-171.1252 85.0344,-181.3381 90.788,-177.351\"/>\n",
       "</g>\n",
       "<!-- 3 -->\n",
       "<g id=\"node4\" class=\"node\">\n",
       "<title>3</title>\n",
       "<path fill=\"#4de88e\" stroke=\"#000000\" d=\"M288.4326,-178C288.4326,-178 149.4736,-178 149.4736,-178 143.4736,-178 137.4736,-172 137.4736,-166 137.4736,-166 137.4736,-112 137.4736,-112 137.4736,-106 143.4736,-100 149.4736,-100 149.4736,-100 288.4326,-100 288.4326,-100 294.4326,-100 300.4326,-106 300.4326,-112 300.4326,-112 300.4326,-166 300.4326,-166 300.4326,-172 294.4326,-178 288.4326,-178\"/>\n",
       "<text text-anchor=\"start\" x=\"145.4634\" y=\"-162.8\" font-family=\"Helvetica,sans-Serif\" font-size=\"14.00\" fill=\"#000000\">petal length (cm) ≤ 4.65</text>\n",
       "<text text-anchor=\"start\" x=\"170.1104\" y=\"-148.8\" font-family=\"Helvetica,sans-Serif\" font-size=\"14.00\" fill=\"#000000\">entropy = 0.446</text>\n",
       "<text text-anchor=\"start\" x=\"177.124\" y=\"-134.8\" font-family=\"Helvetica,sans-Serif\" font-size=\"14.00\" fill=\"#000000\">samples = 43</text>\n",
       "<text text-anchor=\"start\" x=\"159.2139\" y=\"-120.8\" font-family=\"Helvetica,sans-Serif\" font-size=\"14.00\" fill=\"#000000\">value = [0, 390, 40]</text>\n",
       "<text text-anchor=\"start\" x=\"165.0757\" y=\"-106.8\" font-family=\"Helvetica,sans-Serif\" font-size=\"14.00\" fill=\"#000000\">class = versicolor</text>\n",
       "</g>\n",
       "<!-- 1&#45;&gt;3 -->\n",
       "<g id=\"edge3\" class=\"edge\">\n",
       "<title>1&#45;&gt;3</title>\n",
       "<path fill=\"none\" stroke=\"#000000\" d=\"M166.4846,-213.7677C172.6442,-204.9903 179.242,-195.5883 185.6085,-186.5161\"/>\n",
       "<polygon fill=\"#000000\" stroke=\"#000000\" points=\"188.4916,-188.5007 191.3709,-178.3046 182.7617,-184.4797 188.4916,-188.5007\"/>\n",
       "</g>\n",
       "<!-- 4 -->\n",
       "<g id=\"node5\" class=\"node\">\n",
       "<title>4</title>\n",
       "<path fill=\"#39e581\" stroke=\"#000000\" d=\"M197.6459,-64C197.6459,-64 94.2604,-64 94.2604,-64 88.2604,-64 82.2604,-58 82.2604,-52 82.2604,-52 82.2604,-12 82.2604,-12 82.2604,-6 88.2604,0 94.2604,0 94.2604,0 197.6459,0 197.6459,0 203.6459,0 209.6459,-6 209.6459,-12 209.6459,-12 209.6459,-52 209.6459,-52 209.6459,-58 203.6459,-64 197.6459,-64\"/>\n",
       "<text text-anchor=\"start\" x=\"104.8965\" y=\"-48.8\" font-family=\"Helvetica,sans-Serif\" font-size=\"14.00\" fill=\"#000000\">entropy = 0.0</text>\n",
       "<text text-anchor=\"start\" x=\"104.124\" y=\"-34.8\" font-family=\"Helvetica,sans-Serif\" font-size=\"14.00\" fill=\"#000000\">samples = 31</text>\n",
       "<text text-anchor=\"start\" x=\"90.1069\" y=\"-20.8\" font-family=\"Helvetica,sans-Serif\" font-size=\"14.00\" fill=\"#000000\">value = [0, 310, 0]</text>\n",
       "<text text-anchor=\"start\" x=\"92.0757\" y=\"-6.8\" font-family=\"Helvetica,sans-Serif\" font-size=\"14.00\" fill=\"#000000\">class = versicolor</text>\n",
       "</g>\n",
       "<!-- 3&#45;&gt;4 -->\n",
       "<g id=\"edge4\" class=\"edge\">\n",
       "<title>3&#45;&gt;4</title>\n",
       "<path fill=\"none\" stroke=\"#000000\" d=\"M192.1851,-99.7647C186.1411,-90.9057 179.7131,-81.4838 173.6324,-72.571\"/>\n",
       "<polygon fill=\"#000000\" stroke=\"#000000\" points=\"176.4599,-70.505 167.9329,-64.2169 170.6774,-74.4501 176.4599,-70.505\"/>\n",
       "</g>\n",
       "<!-- 5 -->\n",
       "<g id=\"node6\" class=\"node\">\n",
       "<title>5</title>\n",
       "<path fill=\"#9cf2c0\" stroke=\"#000000\" d=\"M343.6459,-64C343.6459,-64 240.2604,-64 240.2604,-64 234.2604,-64 228.2604,-58 228.2604,-52 228.2604,-52 228.2604,-12 228.2604,-12 228.2604,-6 234.2604,0 240.2604,0 240.2604,0 343.6459,0 343.6459,0 349.6459,0 355.6459,-6 355.6459,-12 355.6459,-12 355.6459,-52 355.6459,-52 355.6459,-58 349.6459,-64 343.6459,-64\"/>\n",
       "<text text-anchor=\"start\" x=\"243.1104\" y=\"-48.8\" font-family=\"Helvetica,sans-Serif\" font-size=\"14.00\" fill=\"#000000\">entropy = 0.918</text>\n",
       "<text text-anchor=\"start\" x=\"250.124\" y=\"-34.8\" font-family=\"Helvetica,sans-Serif\" font-size=\"14.00\" fill=\"#000000\">samples = 12</text>\n",
       "<text text-anchor=\"start\" x=\"236.1069\" y=\"-20.8\" font-family=\"Helvetica,sans-Serif\" font-size=\"14.00\" fill=\"#000000\">value = [0, 80, 40]</text>\n",
       "<text text-anchor=\"start\" x=\"238.0757\" y=\"-6.8\" font-family=\"Helvetica,sans-Serif\" font-size=\"14.00\" fill=\"#000000\">class = versicolor</text>\n",
       "</g>\n",
       "<!-- 3&#45;&gt;5 -->\n",
       "<g id=\"edge5\" class=\"edge\">\n",
       "<title>3&#45;&gt;5</title>\n",
       "<path fill=\"none\" stroke=\"#000000\" d=\"M245.7211,-99.7647C251.7651,-90.9057 258.1932,-81.4838 264.2738,-72.571\"/>\n",
       "<polygon fill=\"#000000\" stroke=\"#000000\" points=\"267.2288,-74.4501 269.9734,-64.2169 261.4464,-70.505 267.2288,-74.4501\"/>\n",
       "</g>\n",
       "</g>\n",
       "</svg>\n"
      ],
      "text/plain": [
       "<graphviz.files.Source at 0x1a1ac499e8>"
      ]
     },
     "execution_count": 35,
     "metadata": {},
     "output_type": "execute_result"
    }
   ],
   "source": [
    "dot_data = tree.export_graphviz(clf_leaf, out_file=None, \n",
    "                         feature_names=iris.feature_names, \n",
    "                         class_names=iris.target_names, \n",
    "                         filled=True, rounded=True,  \n",
    "                         special_characters=True)  \n",
    "graph = graphviz.Source(dot_data)\n",
    "graph"
   ]
  },
  {
   "cell_type": "code",
   "execution_count": 36,
   "metadata": {},
   "outputs": [
    {
     "data": {
      "image/svg+xml": [
       "<?xml version=\"1.0\" encoding=\"UTF-8\" standalone=\"no\"?>\n",
       "<!DOCTYPE svg PUBLIC \"-//W3C//DTD SVG 1.1//EN\"\n",
       " \"http://www.w3.org/Graphics/SVG/1.1/DTD/svg11.dtd\">\n",
       "<!-- Generated by graphviz version 2.40.1 (20161225.0304)\n",
       " -->\n",
       "<!-- Title: Tree Pages: 1 -->\n",
       "<svg width=\"374pt\" height=\"414pt\"\n",
       " viewBox=\"0.00 0.00 373.80 414.00\" xmlns=\"http://www.w3.org/2000/svg\" xmlns:xlink=\"http://www.w3.org/1999/xlink\">\n",
       "<g id=\"graph0\" class=\"graph\" transform=\"scale(1 1) rotate(0) translate(4 410)\">\n",
       "<title>Tree</title>\n",
       "<polygon fill=\"#ffffff\" stroke=\"transparent\" points=\"-4,4 -4,-410 369.7993,-410 369.7993,4 -4,4\"/>\n",
       "<!-- 0 -->\n",
       "<g id=\"node1\" class=\"node\">\n",
       "<title>0</title>\n",
       "<path fill=\"#f9f6fe\" stroke=\"#000000\" d=\"M286.4714,-406C286.4714,-406 153.4348,-406 153.4348,-406 147.4348,-406 141.4348,-400 141.4348,-394 141.4348,-394 141.4348,-340 141.4348,-340 141.4348,-334 147.4348,-328 153.4348,-328 153.4348,-328 286.4714,-328 286.4714,-328 292.4714,-328 298.4714,-334 298.4714,-340 298.4714,-340 298.4714,-394 298.4714,-394 298.4714,-400 292.4714,-406 286.4714,-406\"/>\n",
       "<text text-anchor=\"start\" x=\"149.1943\" y=\"-390.8\" font-family=\"Helvetica,sans-Serif\" font-size=\"14.00\" fill=\"#000000\">petal width (cm) ≤ 1.65</text>\n",
       "<text text-anchor=\"start\" x=\"171.1104\" y=\"-376.8\" font-family=\"Helvetica,sans-Serif\" font-size=\"14.00\" fill=\"#000000\">entropy = 1.228</text>\n",
       "<text text-anchor=\"start\" x=\"174.231\" y=\"-362.8\" font-family=\"Helvetica,sans-Serif\" font-size=\"14.00\" fill=\"#000000\">samples = 120</text>\n",
       "<text text-anchor=\"start\" x=\"152.4277\" y=\"-348.8\" font-family=\"Helvetica,sans-Serif\" font-size=\"14.00\" fill=\"#000000\">value = [40, 390, 410]</text>\n",
       "<text text-anchor=\"start\" x=\"170.3516\" y=\"-334.8\" font-family=\"Helvetica,sans-Serif\" font-size=\"14.00\" fill=\"#000000\">class = virginica</text>\n",
       "</g>\n",
       "<!-- 1 -->\n",
       "<g id=\"node2\" class=\"node\">\n",
       "<title>1</title>\n",
       "<path fill=\"#5eea98\" stroke=\"#000000\" d=\"M208.4326,-292C208.4326,-292 69.4736,-292 69.4736,-292 63.4736,-292 57.4736,-286 57.4736,-280 57.4736,-280 57.4736,-226 57.4736,-226 57.4736,-220 63.4736,-214 69.4736,-214 69.4736,-214 208.4326,-214 208.4326,-214 214.4326,-214 220.4326,-220 220.4326,-226 220.4326,-226 220.4326,-280 220.4326,-280 220.4326,-286 214.4326,-292 208.4326,-292\"/>\n",
       "<text text-anchor=\"start\" x=\"65.4634\" y=\"-276.8\" font-family=\"Helvetica,sans-Serif\" font-size=\"14.00\" fill=\"#000000\">petal length (cm) ≤ 2.45</text>\n",
       "<text text-anchor=\"start\" x=\"90.1104\" y=\"-262.8\" font-family=\"Helvetica,sans-Serif\" font-size=\"14.00\" fill=\"#000000\">entropy = 0.828</text>\n",
       "<text text-anchor=\"start\" x=\"97.124\" y=\"-248.8\" font-family=\"Helvetica,sans-Serif\" font-size=\"14.00\" fill=\"#000000\">samples = 83</text>\n",
       "<text text-anchor=\"start\" x=\"75.3208\" y=\"-234.8\" font-family=\"Helvetica,sans-Serif\" font-size=\"14.00\" fill=\"#000000\">value = [40, 390, 40]</text>\n",
       "<text text-anchor=\"start\" x=\"85.0757\" y=\"-220.8\" font-family=\"Helvetica,sans-Serif\" font-size=\"14.00\" fill=\"#000000\">class = versicolor</text>\n",
       "</g>\n",
       "<!-- 0&#45;&gt;1 -->\n",
       "<g id=\"edge1\" class=\"edge\">\n",
       "<title>0&#45;&gt;1</title>\n",
       "<path fill=\"none\" stroke=\"#000000\" d=\"M192.0775,-327.7677C185.8409,-318.9903 179.1606,-309.5883 172.7146,-300.5161\"/>\n",
       "<polygon fill=\"#000000\" stroke=\"#000000\" points=\"175.5254,-298.4292 166.8801,-292.3046 169.8191,-302.4837 175.5254,-298.4292\"/>\n",
       "<text text-anchor=\"middle\" x=\"162.7087\" y=\"-312.7542\" font-family=\"Helvetica,sans-Serif\" font-size=\"14.00\" fill=\"#000000\">True</text>\n",
       "</g>\n",
       "<!-- 6 -->\n",
       "<g id=\"node7\" class=\"node\">\n",
       "<title>6</title>\n",
       "<path fill=\"#8139e5\" stroke=\"#000000\" d=\"M353.6459,-285C353.6459,-285 250.2604,-285 250.2604,-285 244.2604,-285 238.2604,-279 238.2604,-273 238.2604,-273 238.2604,-233 238.2604,-233 238.2604,-227 244.2604,-221 250.2604,-221 250.2604,-221 353.6459,-221 353.6459,-221 359.6459,-221 365.6459,-227 365.6459,-233 365.6459,-233 365.6459,-273 365.6459,-273 365.6459,-279 359.6459,-285 353.6459,-285\"/>\n",
       "<text text-anchor=\"start\" x=\"260.8965\" y=\"-269.8\" font-family=\"Helvetica,sans-Serif\" font-size=\"14.00\" fill=\"#000000\">entropy = 0.0</text>\n",
       "<text text-anchor=\"start\" x=\"260.124\" y=\"-255.8\" font-family=\"Helvetica,sans-Serif\" font-size=\"14.00\" fill=\"#000000\">samples = 37</text>\n",
       "<text text-anchor=\"start\" x=\"246.1069\" y=\"-241.8\" font-family=\"Helvetica,sans-Serif\" font-size=\"14.00\" fill=\"#000000\">value = [0, 0, 370]</text>\n",
       "<text text-anchor=\"start\" x=\"252.3516\" y=\"-227.8\" font-family=\"Helvetica,sans-Serif\" font-size=\"14.00\" fill=\"#000000\">class = virginica</text>\n",
       "</g>\n",
       "<!-- 0&#45;&gt;6 -->\n",
       "<g id=\"edge6\" class=\"edge\">\n",
       "<title>0&#45;&gt;6</title>\n",
       "<path fill=\"none\" stroke=\"#000000\" d=\"M248.1729,-327.7677C256.147,-316.6817 264.8377,-304.5994 272.8621,-293.4436\"/>\n",
       "<polygon fill=\"#000000\" stroke=\"#000000\" points=\"275.8475,-295.287 278.8455,-285.1252 270.1649,-291.1995 275.8475,-295.287\"/>\n",
       "<text text-anchor=\"middle\" x=\"282.8738\" y=\"-305.5985\" font-family=\"Helvetica,sans-Serif\" font-size=\"14.00\" fill=\"#000000\">False</text>\n",
       "</g>\n",
       "<!-- 2 -->\n",
       "<g id=\"node3\" class=\"node\">\n",
       "<title>2</title>\n",
       "<path fill=\"#e58139\" stroke=\"#000000\" d=\"M107.8594,-171C107.8594,-171 12.0468,-171 12.0468,-171 6.0468,-171 .0468,-165 .0468,-159 .0468,-159 .0468,-119 .0468,-119 .0468,-113 6.0468,-107 12.0468,-107 12.0468,-107 107.8594,-107 107.8594,-107 113.8594,-107 119.8594,-113 119.8594,-119 119.8594,-119 119.8594,-159 119.8594,-159 119.8594,-165 113.8594,-171 107.8594,-171\"/>\n",
       "<text text-anchor=\"start\" x=\"18.8965\" y=\"-155.8\" font-family=\"Helvetica,sans-Serif\" font-size=\"14.00\" fill=\"#000000\">entropy = 0.0</text>\n",
       "<text text-anchor=\"start\" x=\"18.124\" y=\"-141.8\" font-family=\"Helvetica,sans-Serif\" font-size=\"14.00\" fill=\"#000000\">samples = 40</text>\n",
       "<text text-anchor=\"start\" x=\"8\" y=\"-127.8\" font-family=\"Helvetica,sans-Serif\" font-size=\"14.00\" fill=\"#000000\">value = [40, 0, 0]</text>\n",
       "<text text-anchor=\"start\" x=\"15.4033\" y=\"-113.8\" font-family=\"Helvetica,sans-Serif\" font-size=\"14.00\" fill=\"#000000\">class = setosa</text>\n",
       "</g>\n",
       "<!-- 1&#45;&gt;2 -->\n",
       "<g id=\"edge2\" class=\"edge\">\n",
       "<title>1&#45;&gt;2</title>\n",
       "<path fill=\"none\" stroke=\"#000000\" d=\"M111.7658,-213.7677C104.0834,-202.6817 95.7106,-190.5994 87.9799,-179.4436\"/>\n",
       "<polygon fill=\"#000000\" stroke=\"#000000\" points=\"90.788,-177.351 82.2153,-171.1252 85.0344,-181.3381 90.788,-177.351\"/>\n",
       "</g>\n",
       "<!-- 3 -->\n",
       "<g id=\"node4\" class=\"node\">\n",
       "<title>3</title>\n",
       "<path fill=\"#4de88e\" stroke=\"#000000\" d=\"M288.4326,-178C288.4326,-178 149.4736,-178 149.4736,-178 143.4736,-178 137.4736,-172 137.4736,-166 137.4736,-166 137.4736,-112 137.4736,-112 137.4736,-106 143.4736,-100 149.4736,-100 149.4736,-100 288.4326,-100 288.4326,-100 294.4326,-100 300.4326,-106 300.4326,-112 300.4326,-112 300.4326,-166 300.4326,-166 300.4326,-172 294.4326,-178 288.4326,-178\"/>\n",
       "<text text-anchor=\"start\" x=\"145.4634\" y=\"-162.8\" font-family=\"Helvetica,sans-Serif\" font-size=\"14.00\" fill=\"#000000\">petal length (cm) ≤ 4.95</text>\n",
       "<text text-anchor=\"start\" x=\"170.1104\" y=\"-148.8\" font-family=\"Helvetica,sans-Serif\" font-size=\"14.00\" fill=\"#000000\">entropy = 0.446</text>\n",
       "<text text-anchor=\"start\" x=\"177.124\" y=\"-134.8\" font-family=\"Helvetica,sans-Serif\" font-size=\"14.00\" fill=\"#000000\">samples = 43</text>\n",
       "<text text-anchor=\"start\" x=\"159.2139\" y=\"-120.8\" font-family=\"Helvetica,sans-Serif\" font-size=\"14.00\" fill=\"#000000\">value = [0, 390, 40]</text>\n",
       "<text text-anchor=\"start\" x=\"165.0757\" y=\"-106.8\" font-family=\"Helvetica,sans-Serif\" font-size=\"14.00\" fill=\"#000000\">class = versicolor</text>\n",
       "</g>\n",
       "<!-- 1&#45;&gt;3 -->\n",
       "<g id=\"edge3\" class=\"edge\">\n",
       "<title>1&#45;&gt;3</title>\n",
       "<path fill=\"none\" stroke=\"#000000\" d=\"M166.4846,-213.7677C172.6442,-204.9903 179.242,-195.5883 185.6085,-186.5161\"/>\n",
       "<polygon fill=\"#000000\" stroke=\"#000000\" points=\"188.4916,-188.5007 191.3709,-178.3046 182.7617,-184.4797 188.4916,-188.5007\"/>\n",
       "</g>\n",
       "<!-- 4 -->\n",
       "<g id=\"node5\" class=\"node\">\n",
       "<title>4</title>\n",
       "<path fill=\"#39e581\" stroke=\"#000000\" d=\"M197.6459,-64C197.6459,-64 94.2604,-64 94.2604,-64 88.2604,-64 82.2604,-58 82.2604,-52 82.2604,-52 82.2604,-12 82.2604,-12 82.2604,-6 88.2604,0 94.2604,0 94.2604,0 197.6459,0 197.6459,0 203.6459,0 209.6459,-6 209.6459,-12 209.6459,-12 209.6459,-52 209.6459,-52 209.6459,-58 203.6459,-64 197.6459,-64\"/>\n",
       "<text text-anchor=\"start\" x=\"104.8965\" y=\"-48.8\" font-family=\"Helvetica,sans-Serif\" font-size=\"14.00\" fill=\"#000000\">entropy = 0.0</text>\n",
       "<text text-anchor=\"start\" x=\"104.124\" y=\"-34.8\" font-family=\"Helvetica,sans-Serif\" font-size=\"14.00\" fill=\"#000000\">samples = 38</text>\n",
       "<text text-anchor=\"start\" x=\"90.1069\" y=\"-20.8\" font-family=\"Helvetica,sans-Serif\" font-size=\"14.00\" fill=\"#000000\">value = [0, 380, 0]</text>\n",
       "<text text-anchor=\"start\" x=\"92.0757\" y=\"-6.8\" font-family=\"Helvetica,sans-Serif\" font-size=\"14.00\" fill=\"#000000\">class = versicolor</text>\n",
       "</g>\n",
       "<!-- 3&#45;&gt;4 -->\n",
       "<g id=\"edge4\" class=\"edge\">\n",
       "<title>3&#45;&gt;4</title>\n",
       "<path fill=\"none\" stroke=\"#000000\" d=\"M192.1851,-99.7647C186.1411,-90.9057 179.7131,-81.4838 173.6324,-72.571\"/>\n",
       "<polygon fill=\"#000000\" stroke=\"#000000\" points=\"176.4599,-70.505 167.9329,-64.2169 170.6774,-74.4501 176.4599,-70.505\"/>\n",
       "</g>\n",
       "<!-- 5 -->\n",
       "<g id=\"node6\" class=\"node\">\n",
       "<title>5</title>\n",
       "<path fill=\"#a06aec\" stroke=\"#000000\" d=\"M343.6459,-64C343.6459,-64 240.2604,-64 240.2604,-64 234.2604,-64 228.2604,-58 228.2604,-52 228.2604,-52 228.2604,-12 228.2604,-12 228.2604,-6 234.2604,0 240.2604,0 240.2604,0 343.6459,0 343.6459,0 349.6459,0 355.6459,-6 355.6459,-12 355.6459,-12 355.6459,-52 355.6459,-52 355.6459,-58 349.6459,-64 343.6459,-64\"/>\n",
       "<text text-anchor=\"start\" x=\"243.1104\" y=\"-48.8\" font-family=\"Helvetica,sans-Serif\" font-size=\"14.00\" fill=\"#000000\">entropy = 0.722</text>\n",
       "<text text-anchor=\"start\" x=\"254.0171\" y=\"-34.8\" font-family=\"Helvetica,sans-Serif\" font-size=\"14.00\" fill=\"#000000\">samples = 5</text>\n",
       "<text text-anchor=\"start\" x=\"236.1069\" y=\"-20.8\" font-family=\"Helvetica,sans-Serif\" font-size=\"14.00\" fill=\"#000000\">value = [0, 10, 40]</text>\n",
       "<text text-anchor=\"start\" x=\"242.3516\" y=\"-6.8\" font-family=\"Helvetica,sans-Serif\" font-size=\"14.00\" fill=\"#000000\">class = virginica</text>\n",
       "</g>\n",
       "<!-- 3&#45;&gt;5 -->\n",
       "<g id=\"edge5\" class=\"edge\">\n",
       "<title>3&#45;&gt;5</title>\n",
       "<path fill=\"none\" stroke=\"#000000\" d=\"M245.7211,-99.7647C251.7651,-90.9057 258.1932,-81.4838 264.2738,-72.571\"/>\n",
       "<polygon fill=\"#000000\" stroke=\"#000000\" points=\"267.2288,-74.4501 269.9734,-64.2169 261.4464,-70.505 267.2288,-74.4501\"/>\n",
       "</g>\n",
       "</g>\n",
       "</svg>\n"
      ],
      "text/plain": [
       "<graphviz.files.Source at 0x1a1ac491d0>"
      ]
     },
     "execution_count": 36,
     "metadata": {},
     "output_type": "execute_result"
    }
   ],
   "source": [
    "dot_data = tree.export_graphviz(clf_impurity, out_file=None, \n",
    "                         feature_names=iris.feature_names, \n",
    "                         class_names=iris.target_names, \n",
    "                         filled=True, rounded=True,  \n",
    "                         special_characters=True)  \n",
    "graph = graphviz.Source(dot_data)\n",
    "graph"
   ]
  },
  {
   "cell_type": "markdown",
   "metadata": {},
   "source": [
    "- Chiaramente questi due alberi sono in grado di generalizzare meglio"
   ]
  },
  {
   "cell_type": "markdown",
   "metadata": {},
   "source": [
    "##### Cross validation"
   ]
  },
  {
   "cell_type": "code",
   "execution_count": 37,
   "metadata": {
    "scrolled": true
   },
   "outputs": [
    {
     "name": "stdout",
     "output_type": "stream",
     "text": [
      "[0.933, 0.933, 1.0, 0.933, 0.933, 0.867, 0.867, 1.0, 1.0, 1.0]\n",
      "0.947\n"
     ]
    }
   ],
   "source": [
    "iterations = 10\n",
    "scores = cross_val_score(clf_leaf, iris.data, iris.target, cv=iterations) # score=accuracy\n",
    "print([round(i,3) for i in scores])\n",
    "print(round(scores.mean(),3))"
   ]
  },
  {
   "cell_type": "code",
   "execution_count": 38,
   "metadata": {},
   "outputs": [
    {
     "name": "stdout",
     "output_type": "stream",
     "text": [
      "[0.933, 0.933, 1.0, 0.933, 0.933, 0.933, 0.867, 1.0, 1.0, 1.0]\n",
      "0.953\n"
     ]
    }
   ],
   "source": [
    "scores = cross_val_score(clf_impurity, iris.data, iris.target, cv=iterations) # score=accuracy\n",
    "print([round(i,3) for i in scores])\n",
    "print(round(scores.mean(),3))"
   ]
  },
  {
   "cell_type": "code",
   "execution_count": 39,
   "metadata": {},
   "outputs": [
    {
     "name": "stdout",
     "output_type": "stream",
     "text": [
      "[0.933, 0.933, 1.0, 0.933, 0.933, 0.867, 0.861, 1.0, 1.0, 1.0]\n"
     ]
    }
   ],
   "source": [
    "f1_scores = cross_val_score(clf_leaf, iris.data, iris.target, cv=iterations, scoring='f1_macro')\n",
    "print([round(i,3) for i in f1_scores])"
   ]
  },
  {
   "cell_type": "code",
   "execution_count": 40,
   "metadata": {},
   "outputs": [
    {
     "name": "stdout",
     "output_type": "stream",
     "text": [
      "[0.933, 0.933, 1.0, 0.933, 0.933, 0.933, 0.861, 1.0, 1.0, 1.0]\n"
     ]
    }
   ],
   "source": [
    "f1_scores = cross_val_score(clf_impurity, iris.data, iris.target, cv=iterations, scoring='f1_macro')\n",
    "print([round(i,3) for i in f1_scores])"
   ]
  },
  {
   "cell_type": "markdown",
   "metadata": {},
   "source": [
    "## 4) Build the confusion matrix of the created tree models on the test set and show them. "
   ]
  },
  {
   "cell_type": "code",
   "execution_count": 41,
   "metadata": {},
   "outputs": [],
   "source": [
    "def generate_confusion_matrix(true_value, predicted_value):\n",
    "    number_of_classes = len(np.unique(true_value)) # identifica il numero di classi diverse\n",
    "    confusion_matrix = np.zeros((number_of_classes, number_of_classes)) # inizializza la confusion matrix\n",
    "\n",
    "    for i in range(len(true_value)):\n",
    "        confusion_matrix[true_value[i], predicted_value[i]] += 1 # aggiorna la cella corretta\n",
    "\n",
    "    return confusion_matrix"
   ]
  },
  {
   "cell_type": "code",
   "execution_count": 42,
   "metadata": {},
   "outputs": [
    {
     "name": "stdout",
     "output_type": "stream",
     "text": [
      "[0 2 0 ... 1 2 0]\n",
      "[0 2 0 ... 1 2 0]\n"
     ]
    },
    {
     "data": {
      "text/plain": [
       "array([[10.,  0.,  0.],\n",
       "       [ 0.,  9.,  2.],\n",
       "       [ 0.,  0.,  9.]])"
      ]
     },
     "execution_count": 42,
     "metadata": {},
     "output_type": "execute_result"
    }
   ],
   "source": [
    "print(iris_y_test)\n",
    "print(predicted_y_test_leaf)\n",
    "generate_confusion_matrix(iris_y_test, predicted_y_test_leaf)"
   ]
  },
  {
   "cell_type": "code",
   "execution_count": 43,
   "metadata": {},
   "outputs": [
    {
     "data": {
      "text/plain": [
       "array([[10.,  0.,  0.],\n",
       "       [ 0.,  9.,  2.],\n",
       "       [ 0.,  0.,  9.]])"
      ]
     },
     "execution_count": 43,
     "metadata": {},
     "output_type": "execute_result"
    }
   ],
   "source": [
    "generate_confusion_matrix(iris_y_test, predicted_y_test_impurity)"
   ]
  },
  {
   "cell_type": "code",
   "execution_count": 44,
   "metadata": {},
   "outputs": [
    {
     "data": {
      "text/plain": [
       "array([[10,  0,  0],\n",
       "       [ 0,  9,  2],\n",
       "       [ 0,  0,  9]])"
      ]
     },
     "execution_count": 44,
     "metadata": {},
     "output_type": "execute_result"
    }
   ],
   "source": [
    "from sklearn.metrics import confusion_matrix\n",
    "\n",
    "confusion_matrix(iris_y_test, predicted_y_test_leaf)"
   ]
  },
  {
   "cell_type": "markdown",
   "metadata": {},
   "source": [
    "## 5) build the ROC curves (or coverage curves in coverage space) and plot them for each tree model you have created: for each model you have to build three curves, one for each class, considered in turn as the positive class."
   ]
  },
  {
   "cell_type": "code",
   "execution_count": 45,
   "metadata": {},
   "outputs": [],
   "source": [
    "from sklearn.metrics import roc_curve, auc\n",
    "\n",
    "# Fatto con l'aiuto del wiki di sklearn\n",
    "def roc_plot(classes, pred, actual, title):\n",
    "    fpr = dict()\n",
    "    tpr = dict()\n",
    "    roc = dict()\n",
    "    for i in range(len(classes)):\n",
    "        fpr[i], tpr[i], _ = roc_curve(actual[:, i], pred[:, i])\n",
    "        roc[i] = auc(fpr[i], tpr[i]) # area sotto la curva\n",
    "\n",
    "    colors = ['magenta', 'darkorange', 'cornflowerblue']\n",
    "    for i, color in zip(range(len(classes)), colors):\n",
    "        plt.plot(fpr[i], tpr[i], color=color,label='ROC curve of class {0} (area = {1:0.4f})'.format(i, roc[i]), marker='.')\n",
    "\n",
    "    plt.plot([0, 1], [0, 1], 'k--')\n",
    "    plt.xlim([-0.05, 1.0])\n",
    "    plt.ylim([0.0, 1.05])\n",
    "    plt.xlabel('False Positive Rate')\n",
    "    plt.ylabel('True Positive Rate')\n",
    "    plt.title(title)\n",
    "    plt.legend(loc=\"lower right\")\n",
    "    plt.show()"
   ]
  },
  {
   "cell_type": "code",
   "execution_count": 46,
   "metadata": {},
   "outputs": [
    {
     "name": "stdout",
     "output_type": "stream",
     "text": [
      "[0. 0. 1.]\n"
     ]
    }
   ],
   "source": [
    "prob = clf_leaf.predict_proba(iris_X_train)\n",
    "print(prob[0])"
   ]
  },
  {
   "cell_type": "markdown",
   "metadata": {},
   "source": [
    "`prob[0]` è una distribuzione di probabilità ed indica che, per l'albero clf_leaf:\n",
    "\n",
    "- la probabilità che appartenga alla prima classe è 0\n",
    "- la probabilità che appartenga alla seconda classe 0.9019\n",
    "- la probabilità che appartenga alla terza classe è 0.098"
   ]
  },
  {
   "cell_type": "code",
   "execution_count": 47,
   "metadata": {},
   "outputs": [
    {
     "data": {
      "image/png": "[encoded data removed]",
      "text/plain": [
       "<Figure size 432x288 with 1 Axes>"
      ]
     },
     "metadata": {
      "needs_background": "light"
     },
     "output_type": "display_data"
    }
   ],
   "source": [
    "actual_prob = np.zeros((iris_y_train.size, 3))\n",
    "for i,y in enumerate(iris_y_train):\n",
    "    actual_prob[i,y] = 1 # es. [0,0,1]\n",
    "\n",
    "roc_plot(clf_leaf.classes_, prob, actual_prob, \"ROC plot #1\")"
   ]
  },
  {
   "cell_type": "code",
   "execution_count": 48,
   "metadata": {},
   "outputs": [
    {
     "data": {
      "image/png": "[encoded data removed]",
      "text/plain": [
       "<Figure size 432x288 with 1 Axes>"
      ]
     },
     "metadata": {
      "needs_background": "light"
     },
     "output_type": "display_data"
    }
   ],
   "source": [
    "prob_i = clf_impurity.predict_proba(iris_X_train)\n",
    "actual_prob_i = np.zeros((iris_y_train.size, 3))\n",
    "for i,y in enumerate(iris_y_train):\n",
    "    actual_prob_i[i,y] = 1\n",
    "\n",
    "roc_plot(clf_impurity.classes_, prob_i, actual_prob_i, \"ROC plot #2\")"
   ]
  }
 ],
 "metadata": {
  "kernelspec": {
   "display_name": "Python 3",
   "language": "python",
   "name": "python3"
  },
  "language_info": {
   "codemirror_mode": {
    "name": "ipython",
    "version": 3
   },
   "file_extension": ".py",
   "mimetype": "text/x-python",
   "name": "python",
   "nbconvert_exporter": "python",
   "pygments_lexer": "ipython3",
   "version": "3.6.10"
  }
 },
 "nbformat": 4,
 "nbformat_minor": 2
}
